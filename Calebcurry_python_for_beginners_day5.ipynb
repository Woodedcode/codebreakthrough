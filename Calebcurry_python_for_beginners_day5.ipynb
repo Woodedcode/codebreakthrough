{
  "nbformat": 4,
  "nbformat_minor": 0,
  "metadata": {
    "colab": {
      "provenance": [],
      "authorship_tag": "ABX9TyO1FL+GTiKB/MYjnLYnnfeS",
      "include_colab_link": true
    },
    "kernelspec": {
      "name": "python3",
      "display_name": "Python 3"
    },
    "language_info": {
      "name": "python"
    }
  },
  "cells": [
    {
      "cell_type": "markdown",
      "metadata": {
        "id": "view-in-github",
        "colab_type": "text"
      },
      "source": [
        "<a href=\"https://colab.research.google.com/github/Woodedcode/codebreakthrough/blob/main/Calebcurry_python_for_beginners_day5.ipynb\" target=\"_parent\"><img src=\"https://colab.research.google.com/assets/colab-badge.svg\" alt=\"Open In Colab\"/></a>"
      ]
    },
    {
      "cell_type": "markdown",
      "source": [
        "#COPY LISTS\n",
        "####SHALLOW COPY"
      ],
      "metadata": {
        "id": "_qBKBYSw6Y8_"
      }
    },
    {
      "cell_type": "code",
      "source": [
        "#slicing\n",
        "my_fav_things = ['working out', 7,  ['amazon prime', 'netflix']]\n",
        "print(my_fav_things[1:2])\n",
        "print(my_fav_things[:])\n",
        "copy = my_fav_things[:]\n",
        "#copy = my_fav_things.copy() #preferred easy way - function attached to the object\n",
        "print(copy)\n",
        "copy[0] = 'walking'\n",
        "print(my_fav_things, copy)"
      ],
      "metadata": {
        "id": "cJZmkPL47kFs",
        "colab": {
          "base_uri": "https://localhost:8080/"
        },
        "outputId": "1299930a-9a7d-4725-f954-dbffeff60c56"
      },
      "execution_count": null,
      "outputs": [
        {
          "output_type": "stream",
          "name": "stdout",
          "text": [
            "[7]\n",
            "['working out', 7, ['amazon prime', 'netflix']]\n",
            "['working out', 7, ['amazon prime', 'netflix']]\n",
            "['working out', 7, ['amazon prime', 'netflix']] ['walking', 7, ['amazon prime', 'netflix']]\n"
          ]
        }
      ]
    },
    {
      "cell_type": "markdown",
      "source": [
        "#NESTED LIST\n"
      ],
      "metadata": {
        "id": "bJZU4TkiTzBu"
      }
    },
    {
      "cell_type": "code",
      "source": [
        "my_fav_things = ['working out', 7,  ['amazon prime', ['netflix', 'hulu']]]\n",
        "print(my_fav_things[2])\n",
        "print(my_fav_things[2][1])\n",
        "print(my_fav_things[2][1][0])\n",
        "print(len(my_fav_things[2][1]))\n",
        "copy = my_fav_things.copy()\n",
        "copy[0] = 'walking'\n",
        "print(my_fav_things, copy)"
      ],
      "metadata": {
        "colab": {
          "base_uri": "https://localhost:8080/"
        },
        "id": "QesZiy50Tzni",
        "outputId": "bf70cc87-b319-47fd-c24e-673531066126"
      },
      "execution_count": null,
      "outputs": [
        {
          "output_type": "stream",
          "name": "stdout",
          "text": [
            "['amazon prime', ['netflix', 'hulu']]\n",
            "['netflix', 'hulu']\n",
            "netflix\n",
            "2\n",
            "['working out', 7, ['amazon prime', ['netflix', 'hulu']]] ['walking', 7, ['amazon prime', ['netflix', 'hulu']]]\n"
          ]
        }
      ]
    },
    {
      "cell_type": "markdown",
      "source": [
        "#COPY LISTS\n",
        "####DEEP COPY"
      ],
      "metadata": {
        "id": "KBjEgWBXfPnt"
      }
    },
    {
      "cell_type": "code",
      "source": [
        "import copy\n",
        "\n",
        "my_fav_things = ['working out', 7,  ['amazon prime', 'netflix']]\n",
        "copy = my_fav_things.copy()\n",
        "#c = copy.deepcopy(my_fav-things)\n",
        "\n",
        "print(my_fav_things, copy)\n",
        "\n",
        "copy[0] = 'walking'\n",
        "\n",
        "print(my_fav_things, copy)\n",
        "\n",
        "copy[2][0] = 'Hulu'\n",
        "\n",
        "print(my_fav_things, copy)\n",
        "\n",
        "#copy[2]\n",
        "#my_fav_things[2]\n",
        "#Alias of eachother\n",
        "\n",
        "print(id(copy[2]))\n",
        "print(id(my_fav_things[2]))"
      ],
      "metadata": {
        "colab": {
          "base_uri": "https://localhost:8080/"
        },
        "id": "XueDvLTxfSFs",
        "outputId": "f35e301a-0a0a-45ea-ada6-cc685004d9a0"
      },
      "execution_count": null,
      "outputs": [
        {
          "output_type": "stream",
          "name": "stdout",
          "text": [
            "['working out', 7, ['amazon prime', 'netflix']] ['working out', 7, ['amazon prime', 'netflix']]\n",
            "['working out', 7, ['amazon prime', 'netflix']] ['walking', 7, ['amazon prime', 'netflix']]\n",
            "['working out', 7, ['Hulu', 'netflix']] ['walking', 7, ['Hulu', 'netflix']]\n",
            "132620672118144\n",
            "132620672118144\n"
          ]
        }
      ]
    },
    {
      "cell_type": "markdown",
      "source": [
        "#Combining Lists"
      ],
      "metadata": {
        "id": "iZJkx67gjB6b"
      }
    },
    {
      "cell_type": "code",
      "source": [
        "my_fav_things = ['working out', 7,  ['amazon prime', 'netflix']]\n",
        "least_fav = ['onions', 'javascript']\n",
        "\n",
        "print(my_fav_things + least_fav)\n",
        "least_fav = least_fav + ['working for NVU Brands']\n",
        "#least_fav.append('working for NVU Brands) - preffered way\n",
        "print(least_fav)"
      ],
      "metadata": {
        "colab": {
          "base_uri": "https://localhost:8080/"
        },
        "id": "0gPrNYf0jDRE",
        "outputId": "af9ea308-e287-4ab2-a094-5d9d2a57defd"
      },
      "execution_count": null,
      "outputs": [
        {
          "output_type": "stream",
          "name": "stdout",
          "text": [
            "['working out', 7, ['amazon prime', 'netflix'], 'onions', 'javascript']\n",
            "['onions', 'javascript', 'working for NVU Brands']\n"
          ]
        }
      ]
    },
    {
      "cell_type": "markdown",
      "source": [
        "#Review!"
      ],
      "metadata": {
        "id": "NvgARUDuj92I"
      }
    },
    {
      "cell_type": "code",
      "source": [
        "#What is a list?\n",
        "#It's a type of collection. just like what it sounds...It holds numerous things.\n",
        "\n",
        "ages = [20, 25, 20]\n",
        "\n",
        "#Here is a list of strings\n",
        "names = [\"Caleb\", \"Emily\", \"Sabrina\"]\n",
        "\n",
        "#We can even mix types of data:\n",
        "my_favorite_things = [\"Working out\", 7, [\"netflix\", \"Amazon Prime\"]]\n",
        "#Here we have a list of a string, number, and another list.\n",
        "#We will get into nested lists soon.\n",
        "\n",
        "#We can print an entire list by using the list name\n",
        "print(ages)\n",
        "print(names)\n",
        "print(my_favorite_things)\n",
        "\n",
        "######### INDEXING ##########\n",
        "\n",
        "#Similar to strings, we can use indexes to grab particular elements\n",
        "print(ages[2]) #grab 3rd element.\n",
        "#remember, these are zero based! The first element is index 0.\n",
        "\n",
        "#Indexing can also return a list (doesn't modify original list)\n",
        "print(my_favorite_things[2])\n",
        "\n",
        "########## UPDATING AND SLICING ##########\n",
        "#lists are different than strings in that the data can be changed!\n",
        "#how to update a list element\n",
        "ages[0] = 5\n",
        "ages[1] = 10\n",
        "ages[2] = 15\n",
        "print(ages) #Updated!\n",
        "\n",
        "#What about slicing?\n",
        "print(ages[1:]) #It works!\n",
        "#Now all the skills you learned with strings seem more valuable, huh?\n",
        "\n",
        "#Since lists are mutable, can we combine slicing with updating data?\n",
        "\n",
        "ages[1:] = [6, 7]\n",
        "print(ages) #MY GOODNESS it worked.\n",
        "#Confused on what we did? We sliced to get all of the data index 1 and beyond...\n",
        "#but instead of printing it, we assigned it a new list of 6 and 7.\n",
        "\n",
        "\n",
        "########## COPYING LISTS ##########\n",
        "\n",
        "#You may think copying lists is easy:\n",
        "names = [\"Caleb\", \"Emily\", \"Sabrina\"]\n",
        "names2 = names #copied? NOOO\n",
        "\n",
        "#The problem here is that they both point to the same list in memory.\n",
        "#Changes in one are visible in the other\n",
        "names2[0] = \"Kaylub\" #Change to names2\n",
        "print(names) #printing name1 and seeing \"Kaylub\"\n",
        "\n",
        "#This is great if we want an ALIAS! But not if we want a COPY!\n",
        "#Here is how to copy:\n",
        "names = [\"Caleb\", \"Emily\", \"Sabrina\"]\n",
        "names2 = names[:]\n",
        "#remember slicing doesn't modify the original list.\n",
        "#leaving no number on the left of : says \"All the way from beginning\"\n",
        "#leaving no number on right of : says \"All the way to end\"\n",
        "#in other words...[:] returns the whole list.\n",
        "names2[0] = \"Kaylubbbbb\"\n",
        "print(names) #Caleb YAAYYYYY\n",
        "\n",
        "#another Option is to use a method on the list...copy()\n",
        "names1 = [\"Caleb\", \"Emily\", \"Sabrina\"]\n",
        "names2 = names1.copy()\n",
        "names2[0] = \"Kaylubbbbb\"\n",
        "print(names) #Caleb YAAYYYYY\n",
        "\n",
        "#Notice that we say list.copy() instead of copy(list).\n",
        "#This is called a method instead of a function because it's attached to an object\n",
        "#We'll get into methods later.\n",
        "#This is also a shallow copy. Will discuss the difference in a bit.\n",
        "\n",
        "########## NESTED LIST BASICS ##########\n",
        "\n",
        "#Earlier we created this list\n",
        "my_favorite_things = [\"Working out\", 7, [\"netflix\", \"Amazon Prime\"]]\n",
        "\n",
        "#The third element is actually a list itself.\n",
        "#Although we are going to get into nested lists in more detail later on, I wanted to give basics\n",
        "#Becuase the 3rd element is a list, you can get that list like so:\n",
        "\n",
        "streaming = my_favorite_things[2]\n",
        "print(streaming)\n",
        "\n",
        "#You can treat it like a normal list (because it is)\n",
        "print(streaming[1])\n",
        "\n",
        "#This works, however a more useful way of grabbing an element from a nested list is like so:\n",
        "print(my_favorite_things[2][1])\n",
        "##first [] is outer list. second [] is inner list.\n",
        "\n",
        "#This can be repeated even deeper.\n",
        "nested_list = [[[[[\"deep dive\"]]]]]\n",
        "print(nested_list[0][0][0][0][0]) #Got it!\n",
        "\n",
        "#Because of the versatility of lists, you'll see them a lot.\n",
        "\n",
        "\n",
        "########## SHALLOW COPY EXPLAINED ##########\n",
        "\n",
        "\n",
        "#Copying a list as so makes a shallow copy.\n",
        "#This means that any complex types will not be copied but rather available in both\n",
        "#The easiest way to understand this is with an example.\n",
        "\n",
        "my_favorite_things = [\"Working out\", 7, [\"netflix\", \"Amazon Prime\"]]\n",
        "my_favorite_things2 = my_favorite_things.copy();\n",
        "\n",
        "#modify the original\n",
        "my_favorite_things[2][0] = \"Audible\"\n",
        "print(my_favorite_things2) #CONTAINS AUDIBLE\n",
        "#this is because the reference to nested list is copied, not the entire list itself.\n",
        "#(the copy points to the same data)\n",
        "\n",
        "\n",
        "########## DEEP COPY ##########\n",
        "\n",
        "\n",
        "#The alternative to a shallow copy is a deep copy.\n",
        "#In order for us to do a deep copy, we must have an import\n",
        "import copy\n",
        "#copy is an example of a module. you'll often find all the imports at the top.\n",
        "#but it's my project so yolo.\n",
        "\n",
        "#Now we can use copy.deepcopy method\n",
        "#This method returns a new list so we can assign it to a variable.\n",
        "my_favorite_things3 = copy.deepcopy(my_favorite_things)\n",
        "#now we modify the original\n",
        "my_favorite_things[2][0] = \"Hulu\"\n",
        "print(my_favorite_things) #contains Hulu\n",
        "print(my_favorite_things3) #No Hulu to be found. keeps Audible value.\n",
        "\n",
        "########## CoOMBINING LISTS #########\n",
        "\n",
        "#similar to how we can concatenate strings, we can combine lists\n",
        "msg = \"he\" \"llo\" #again, + is optional with string literals\n",
        "print(msg)\n",
        "\n",
        "good = [\"kale\", \"brocoli\", \"spinach\"]\n",
        "bad = [\"pizza\", \"fries\", \"wings\"]\n",
        "\n",
        "just_right = good + bad\n",
        "print(just_right)\n",
        "\n",
        "#This may be obvious by now, but any time we assign an expression to a variable,\n",
        "#we can skip the variable altogether and use the expression\n",
        "\n",
        "print(good + bad)"
      ],
      "metadata": {
        "colab": {
          "base_uri": "https://localhost:8080/"
        },
        "id": "W_2MFNa_kBPk",
        "outputId": "ee4522d4-5f03-45c2-cc74-46c086f33262"
      },
      "execution_count": null,
      "outputs": [
        {
          "output_type": "stream",
          "name": "stdout",
          "text": [
            "[20, 25, 20]\n",
            "['Caleb', 'Emily', 'Sabrina']\n",
            "['Working out', 7, ['netflix', 'Amazon Prime']]\n",
            "20\n",
            "['netflix', 'Amazon Prime']\n",
            "[5, 10, 15]\n",
            "[10, 15]\n",
            "[5, 6, 7]\n",
            "['Kaylub', 'Emily', 'Sabrina']\n",
            "['Caleb', 'Emily', 'Sabrina']\n",
            "['Caleb', 'Emily', 'Sabrina']\n",
            "['netflix', 'Amazon Prime']\n",
            "Amazon Prime\n",
            "Amazon Prime\n",
            "deep dive\n",
            "['Working out', 7, ['Audible', 'Amazon Prime']]\n",
            "['Working out', 7, ['Hulu', 'Amazon Prime']]\n",
            "['Working out', 7, ['Audible', 'Amazon Prime']]\n",
            "hello\n",
            "['kale', 'brocoli', 'spinach', 'pizza', 'fries', 'wings']\n",
            "['kale', 'brocoli', 'spinach', 'pizza', 'fries', 'wings']\n"
          ]
        }
      ]
    },
    {
      "cell_type": "markdown",
      "source": [
        "#Getting User Input"
      ],
      "metadata": {
        "id": "RC1CUZgIltKW"
      }
    },
    {
      "cell_type": "code",
      "source": [
        "print(\"Hey whats your name?\")\n",
        "name = input()\n",
        "print(name)\n",
        "print(\"Hello \" + name)\n",
        "print(\"Whats your favorite number?\")\n",
        "fav_num = input()\n",
        "print(\"Give us another number.\")\n",
        "fav_num2 = input()\n",
        "print(fav_num + fav_num2)"
      ],
      "metadata": {
        "colab": {
          "base_uri": "https://localhost:8080/",
          "height": 392
        },
        "id": "UJRT8ZyOlyIQ",
        "outputId": "63070f44-b251-40ac-e31c-db60388402d3"
      },
      "execution_count": null,
      "outputs": [
        {
          "output_type": "stream",
          "name": "stdout",
          "text": [
            "Hey whats your name?\n"
          ]
        },
        {
          "output_type": "error",
          "ename": "KeyboardInterrupt",
          "evalue": "Interrupted by user",
          "traceback": [
            "\u001b[0;31m---------------------------------------------------------------------------\u001b[0m",
            "\u001b[0;31mKeyboardInterrupt\u001b[0m                         Traceback (most recent call last)",
            "\u001b[0;32m<ipython-input-36-d75dace1a742>\u001b[0m in \u001b[0;36m<cell line: 0>\u001b[0;34m()\u001b[0m\n\u001b[1;32m      1\u001b[0m \u001b[0mprint\u001b[0m\u001b[0;34m(\u001b[0m\u001b[0;34m\"Hey whats your name?\"\u001b[0m\u001b[0;34m)\u001b[0m\u001b[0;34m\u001b[0m\u001b[0;34m\u001b[0m\u001b[0m\n\u001b[0;32m----> 2\u001b[0;31m \u001b[0mname\u001b[0m \u001b[0;34m=\u001b[0m \u001b[0minput\u001b[0m\u001b[0;34m(\u001b[0m\u001b[0;34m)\u001b[0m\u001b[0;34m\u001b[0m\u001b[0;34m\u001b[0m\u001b[0m\n\u001b[0m\u001b[1;32m      3\u001b[0m \u001b[0mprint\u001b[0m\u001b[0;34m(\u001b[0m\u001b[0mname\u001b[0m\u001b[0;34m)\u001b[0m\u001b[0;34m\u001b[0m\u001b[0;34m\u001b[0m\u001b[0m\n\u001b[1;32m      4\u001b[0m \u001b[0mprint\u001b[0m\u001b[0;34m(\u001b[0m\u001b[0;34m\"Hello \"\u001b[0m \u001b[0;34m+\u001b[0m \u001b[0mname\u001b[0m\u001b[0;34m)\u001b[0m\u001b[0;34m\u001b[0m\u001b[0;34m\u001b[0m\u001b[0m\n\u001b[1;32m      5\u001b[0m \u001b[0mprint\u001b[0m\u001b[0;34m(\u001b[0m\u001b[0;34m\"Whats your favorite number?\"\u001b[0m\u001b[0;34m)\u001b[0m\u001b[0;34m\u001b[0m\u001b[0;34m\u001b[0m\u001b[0m\n",
            "\u001b[0;32m/usr/local/lib/python3.11/dist-packages/ipykernel/kernelbase.py\u001b[0m in \u001b[0;36mraw_input\u001b[0;34m(self, prompt)\u001b[0m\n\u001b[1;32m   1175\u001b[0m                 \u001b[0;34m\"raw_input was called, but this frontend does not support input requests.\"\u001b[0m\u001b[0;34m\u001b[0m\u001b[0;34m\u001b[0m\u001b[0m\n\u001b[1;32m   1176\u001b[0m             )\n\u001b[0;32m-> 1177\u001b[0;31m         return self._input_request(\n\u001b[0m\u001b[1;32m   1178\u001b[0m             \u001b[0mstr\u001b[0m\u001b[0;34m(\u001b[0m\u001b[0mprompt\u001b[0m\u001b[0;34m)\u001b[0m\u001b[0;34m,\u001b[0m\u001b[0;34m\u001b[0m\u001b[0;34m\u001b[0m\u001b[0m\n\u001b[1;32m   1179\u001b[0m             \u001b[0mself\u001b[0m\u001b[0;34m.\u001b[0m\u001b[0m_parent_ident\u001b[0m\u001b[0;34m[\u001b[0m\u001b[0;34m\"shell\"\u001b[0m\u001b[0;34m]\u001b[0m\u001b[0;34m,\u001b[0m\u001b[0;34m\u001b[0m\u001b[0;34m\u001b[0m\u001b[0m\n",
            "\u001b[0;32m/usr/local/lib/python3.11/dist-packages/ipykernel/kernelbase.py\u001b[0m in \u001b[0;36m_input_request\u001b[0;34m(self, prompt, ident, parent, password)\u001b[0m\n\u001b[1;32m   1217\u001b[0m             \u001b[0;32mexcept\u001b[0m \u001b[0mKeyboardInterrupt\u001b[0m\u001b[0;34m:\u001b[0m\u001b[0;34m\u001b[0m\u001b[0;34m\u001b[0m\u001b[0m\n\u001b[1;32m   1218\u001b[0m                 \u001b[0;31m# re-raise KeyboardInterrupt, to truncate traceback\u001b[0m\u001b[0;34m\u001b[0m\u001b[0;34m\u001b[0m\u001b[0m\n\u001b[0;32m-> 1219\u001b[0;31m                 \u001b[0;32mraise\u001b[0m \u001b[0mKeyboardInterrupt\u001b[0m\u001b[0;34m(\u001b[0m\u001b[0;34m\"Interrupted by user\"\u001b[0m\u001b[0;34m)\u001b[0m \u001b[0;32mfrom\u001b[0m \u001b[0;32mNone\u001b[0m\u001b[0;34m\u001b[0m\u001b[0;34m\u001b[0m\u001b[0m\n\u001b[0m\u001b[1;32m   1220\u001b[0m             \u001b[0;32mexcept\u001b[0m \u001b[0mException\u001b[0m\u001b[0;34m:\u001b[0m\u001b[0;34m\u001b[0m\u001b[0;34m\u001b[0m\u001b[0m\n\u001b[1;32m   1221\u001b[0m                 \u001b[0mself\u001b[0m\u001b[0;34m.\u001b[0m\u001b[0mlog\u001b[0m\u001b[0;34m.\u001b[0m\u001b[0mwarning\u001b[0m\u001b[0;34m(\u001b[0m\u001b[0;34m\"Invalid Message:\"\u001b[0m\u001b[0;34m,\u001b[0m \u001b[0mexc_info\u001b[0m\u001b[0;34m=\u001b[0m\u001b[0;32mTrue\u001b[0m\u001b[0;34m)\u001b[0m\u001b[0;34m\u001b[0m\u001b[0;34m\u001b[0m\u001b[0m\n",
            "\u001b[0;31mKeyboardInterrupt\u001b[0m: Interrupted by user"
          ]
        }
      ]
    },
    {
      "cell_type": "markdown",
      "source": [
        "#TYPE CASTING\n"
      ],
      "metadata": {
        "id": "5KL_yZk8nJmk"
      }
    },
    {
      "cell_type": "code",
      "source": [
        "#print(\"Hey whats your name?\")\n",
        "#name = input()\n",
        "#print(name)\n",
        "#print(\"Hello \" + name)\n",
        "#print(\"Whats your favorite number?\")\n",
        "#fav_num = input()\n",
        "#print(\"Give us another number.\")\n",
        "#fav_num2 = input()\n",
        "#print(fav_num + fav_num2)\n",
        "\n",
        "variable = \"hello\"\n",
        "variable = 5\n",
        "print(type(5))\n",
        "print(type(\"hello\"))\n",
        "print(type(5.5))"
      ],
      "metadata": {
        "colab": {
          "base_uri": "https://localhost:8080/"
        },
        "id": "ucVOYs3OnMDN",
        "outputId": "9b74a28b-1391-4a75-cb93-c1b25e807817"
      },
      "execution_count": null,
      "outputs": [
        {
          "output_type": "stream",
          "name": "stdout",
          "text": [
            "<class 'int'>\n",
            "<class 'str'>\n",
            "<class 'float'>\n"
          ]
        }
      ]
    },
    {
      "cell_type": "markdown",
      "source": [
        "#type casting review\n"
      ],
      "metadata": {
        "id": "0zWjcIfsj4j6"
      }
    },
    {
      "cell_type": "code",
      "source": [
        "print(\"hello\")\n",
        "print(5)\n",
        "\n",
        "print(type(5))\n",
        "print(type(\"Hello\"))\n",
        "print(type(5.5))\n",
        "print(type(int((\"5\"))))\n",
        "#print(type(int((\"5gggg\"))))\n",
        "print(type(float((\"5\"))))\n",
        "\n",
        "print(\"Hey whats your name?\")\n",
        "name = input()\n",
        "print(name)\n",
        "print(\"Hello \" + name)\n",
        "print(\"Whats your favorite number?\")\n",
        "fav_num = int(input())\n",
        "print(\"Give us another number.\")\n",
        "fav_num2 = int(input())\n",
        "print(fav_num + fav_num2)\n",
        "print(str(fav_num) + \" + \" + str(fav_num2) + ' = ' + str(fav_num + fav_num2))\n"
      ],
      "metadata": {
        "colab": {
          "base_uri": "https://localhost:8080/"
        },
        "id": "FTVY2R6gj84v",
        "outputId": "e799ea7f-fdfa-4a5f-de65-ef7548704e7a"
      },
      "execution_count": 12,
      "outputs": [
        {
          "output_type": "stream",
          "name": "stdout",
          "text": [
            "hello\n",
            "5\n",
            "<class 'int'>\n",
            "<class 'str'>\n",
            "<class 'float'>\n",
            "<class 'int'>\n",
            "<class 'float'>\n",
            "Hey whats your name?\n",
            "ryan\n",
            "ryan\n",
            "Hello ryan\n",
            "Whats your favorite number?\n",
            "7\n",
            "Give us another number.\n",
            "10\n",
            "17\n",
            "7 + 10 = 17\n"
          ]
        }
      ]
    },
    {
      "cell_type": "markdown",
      "source": [
        "#review user input"
      ],
      "metadata": {
        "id": "fC4FzQn_ngYp"
      }
    },
    {
      "cell_type": "code",
      "source": [
        "#Here is a simple exmaple on how to get user input\n",
        "#we've talk about output with print, but this is just half of input + output\n",
        "\n",
        "#it's besst practice to tell the user what to do:\n",
        "print(\"What is your name?\")\n",
        "name = input()\n",
        "\n",
        "#Now where does the value they type go?\n",
        "#the input method actually returns it, so save it to a variable.\n",
        "\n",
        "#we can then use it like any other variable (because it is just a variabe now)\n",
        "print(\"hello \" + name)\n",
        "\n",
        "#althougn this seems silly or simple, this is actually quite revolutionary.\n",
        "#This is the first point in time where we can make our applications dynamic\n",
        "#dynamic == changing. The output changes based on the input! WOW!\n",
        "\n",
        "#input always reads as a string. Example:\n",
        "print(\"What is your favorite number?\")\n",
        "num1 = input()\n",
        "\n",
        "print(\"what is your second favorite mumber?\")\n",
        "num2 = input()\n",
        "\n",
        "print(num1 + \" + \" + num2 + \" = \" + num1 + num2) # 7 + 5 = 75??? WHAT!?\n",
        "\n",
        "########## TYPES AND CASTING ##########\n",
        "#At this point we know there are different types\n",
        "#but how do we check what type and modify it?\n",
        "\n",
        "print(type(num1)) #num1 is of type str (string, that is)\n",
        "\n",
        "#We can cast it to a new type like so:\n",
        "\n",
        "new_num1 = int(num1)\n",
        "new_num2 = int(num2)\n",
        "\n",
        "print(type(new_num1), type(new_num2))\n",
        "\n",
        "print(num1 + \" + \" + num2 + \" = \" + str(new_num1 + new_num2)) #Better\n",
        "\n",
        "#if you know you're going to be getting a number, it's best to cast it right away.\n",
        "#Lets try it again, but this time let's showcase another type...float!\n",
        "#float allows values after a decimal point, such as 10.5.\n",
        "print(\"Give me a 3rd number (with a decimal this time):\")\n",
        "num3 = float(input())\n",
        "\n",
        "print(\"all the numbers added:\")\n",
        "print(num3 + new_num1 + new_num2)"
      ],
      "metadata": {
        "colab": {
          "base_uri": "https://localhost:8080/",
          "height": 539
        },
        "id": "NvfeTdTWnilH",
        "outputId": "89c7fe86-5b99-46f4-921c-dc5d7fce4eeb"
      },
      "execution_count": 14,
      "outputs": [
        {
          "metadata": {
            "tags": null
          },
          "name": "stdout",
          "output_type": "stream",
          "text": [
            "What is your name?\n",
            "hello ryan\n",
            "What is your favorite number?\n",
            "what is your second favorite mumber?\n",
            "50 + 25 = 5025\n",
            "<class 'str'>\n",
            "<class 'int'> <class 'int'>\n",
            "50 + 25 = 75\n",
            "Give me a 3rd number (with a decimal this time):\n"
          ]
        },
        {
          "output_type": "error",
          "ename": "KeyboardInterrupt",
          "evalue": "Interrupted by user",
          "traceback": [
            "\u001b[0;31m---------------------------------------------------------------------------\u001b[0m",
            "\u001b[0;31mKeyboardInterrupt\u001b[0m                         Traceback (most recent call last)",
            "\u001b[0;32m<ipython-input-14-29def21da2a8>\u001b[0m in \u001b[0;36m<cell line: 0>\u001b[0;34m()\u001b[0m\n\u001b[1;32m     44\u001b[0m \u001b[0;31m#float allows values after a decimal point, such as 10.5.\u001b[0m\u001b[0;34m\u001b[0m\u001b[0;34m\u001b[0m\u001b[0m\n\u001b[1;32m     45\u001b[0m \u001b[0mprint\u001b[0m\u001b[0;34m(\u001b[0m\u001b[0;34m\"Give me a 3rd number (with a decimal this time):\"\u001b[0m\u001b[0;34m)\u001b[0m\u001b[0;34m\u001b[0m\u001b[0;34m\u001b[0m\u001b[0m\n\u001b[0;32m---> 46\u001b[0;31m \u001b[0mnum3\u001b[0m \u001b[0;34m=\u001b[0m \u001b[0mfloat\u001b[0m\u001b[0;34m(\u001b[0m\u001b[0minput\u001b[0m\u001b[0;34m(\u001b[0m\u001b[0;34m)\u001b[0m\u001b[0;34m)\u001b[0m\u001b[0;34m\u001b[0m\u001b[0;34m\u001b[0m\u001b[0m\n\u001b[0m\u001b[1;32m     47\u001b[0m \u001b[0;34m\u001b[0m\u001b[0m\n\u001b[1;32m     48\u001b[0m \u001b[0mprint\u001b[0m\u001b[0;34m(\u001b[0m\u001b[0;34m\"all the numbers added:\"\u001b[0m\u001b[0;34m)\u001b[0m\u001b[0;34m\u001b[0m\u001b[0;34m\u001b[0m\u001b[0m\n",
            "\u001b[0;32m/usr/local/lib/python3.11/dist-packages/ipykernel/kernelbase.py\u001b[0m in \u001b[0;36mraw_input\u001b[0;34m(self, prompt)\u001b[0m\n\u001b[1;32m   1175\u001b[0m                 \u001b[0;34m\"raw_input was called, but this frontend does not support input requests.\"\u001b[0m\u001b[0;34m\u001b[0m\u001b[0;34m\u001b[0m\u001b[0m\n\u001b[1;32m   1176\u001b[0m             )\n\u001b[0;32m-> 1177\u001b[0;31m         return self._input_request(\n\u001b[0m\u001b[1;32m   1178\u001b[0m             \u001b[0mstr\u001b[0m\u001b[0;34m(\u001b[0m\u001b[0mprompt\u001b[0m\u001b[0;34m)\u001b[0m\u001b[0;34m,\u001b[0m\u001b[0;34m\u001b[0m\u001b[0;34m\u001b[0m\u001b[0m\n\u001b[1;32m   1179\u001b[0m             \u001b[0mself\u001b[0m\u001b[0;34m.\u001b[0m\u001b[0m_parent_ident\u001b[0m\u001b[0;34m[\u001b[0m\u001b[0;34m\"shell\"\u001b[0m\u001b[0;34m]\u001b[0m\u001b[0;34m,\u001b[0m\u001b[0;34m\u001b[0m\u001b[0;34m\u001b[0m\u001b[0m\n",
            "\u001b[0;32m/usr/local/lib/python3.11/dist-packages/ipykernel/kernelbase.py\u001b[0m in \u001b[0;36m_input_request\u001b[0;34m(self, prompt, ident, parent, password)\u001b[0m\n\u001b[1;32m   1217\u001b[0m             \u001b[0;32mexcept\u001b[0m \u001b[0mKeyboardInterrupt\u001b[0m\u001b[0;34m:\u001b[0m\u001b[0;34m\u001b[0m\u001b[0;34m\u001b[0m\u001b[0m\n\u001b[1;32m   1218\u001b[0m                 \u001b[0;31m# re-raise KeyboardInterrupt, to truncate traceback\u001b[0m\u001b[0;34m\u001b[0m\u001b[0;34m\u001b[0m\u001b[0m\n\u001b[0;32m-> 1219\u001b[0;31m                 \u001b[0;32mraise\u001b[0m \u001b[0mKeyboardInterrupt\u001b[0m\u001b[0;34m(\u001b[0m\u001b[0;34m\"Interrupted by user\"\u001b[0m\u001b[0;34m)\u001b[0m \u001b[0;32mfrom\u001b[0m \u001b[0;32mNone\u001b[0m\u001b[0;34m\u001b[0m\u001b[0;34m\u001b[0m\u001b[0m\n\u001b[0m\u001b[1;32m   1220\u001b[0m             \u001b[0;32mexcept\u001b[0m \u001b[0mException\u001b[0m\u001b[0;34m:\u001b[0m\u001b[0;34m\u001b[0m\u001b[0;34m\u001b[0m\u001b[0m\n\u001b[1;32m   1221\u001b[0m                 \u001b[0mself\u001b[0m\u001b[0;34m.\u001b[0m\u001b[0mlog\u001b[0m\u001b[0;34m.\u001b[0m\u001b[0mwarning\u001b[0m\u001b[0;34m(\u001b[0m\u001b[0;34m\"Invalid Message:\"\u001b[0m\u001b[0;34m,\u001b[0m \u001b[0mexc_info\u001b[0m\u001b[0;34m=\u001b[0m\u001b[0;32mTrue\u001b[0m\u001b[0;34m)\u001b[0m\u001b[0;34m\u001b[0m\u001b[0;34m\u001b[0m\u001b[0m\n",
            "\u001b[0;31mKeyboardInterrupt\u001b[0m: Interrupted by user"
          ]
        }
      ]
    },
    {
      "cell_type": "markdown",
      "source": [
        "#Boolean and Comparison Operators"
      ],
      "metadata": {
        "id": "xfSO4msOos2W"
      }
    },
    {
      "cell_type": "code",
      "source": [
        "happy = True #False\n",
        "age = 15\n",
        "print(happy)\n",
        "print(age > 21)\n",
        "\n",
        "\n",
        "\n",
        "can_drink = age > 20\n",
        "print(can_drink)\n",
        "\n"
      ],
      "metadata": {
        "colab": {
          "base_uri": "https://localhost:8080/"
        },
        "id": "2ebJbeu7ouMo",
        "outputId": "ad30b217-6ed4-42f0-bd0c-36572afc8d37"
      },
      "execution_count": 20,
      "outputs": [
        {
          "output_type": "stream",
          "name": "stdout",
          "text": [
            "True\n",
            "False\n",
            "False\n"
          ]
        }
      ]
    },
    {
      "cell_type": "markdown",
      "source": [
        "#if Statement"
      ],
      "metadata": {
        "id": "2zkg8hMGp6di"
      }
    },
    {
      "cell_type": "code",
      "source": [
        "print(\"what is your age?\")\n",
        "age = int(input())\n",
        "can_drink = age > 20\n",
        "\n",
        "if age > 20:\n",
        "  print(\"Welcome to our app\")\n",
        "print(\"Thanks for trying out app\")"
      ],
      "metadata": {
        "colab": {
          "base_uri": "https://localhost:8080/",
          "height": 392
        },
        "id": "vMFGn-A1qAUO",
        "outputId": "95effbdd-7d41-40ff-83a5-b4e5b2ed232e"
      },
      "execution_count": 30,
      "outputs": [
        {
          "output_type": "stream",
          "name": "stdout",
          "text": [
            "what is your age?\n"
          ]
        },
        {
          "output_type": "error",
          "ename": "KeyboardInterrupt",
          "evalue": "Interrupted by user",
          "traceback": [
            "\u001b[0;31m---------------------------------------------------------------------------\u001b[0m",
            "\u001b[0;31mKeyboardInterrupt\u001b[0m                         Traceback (most recent call last)",
            "\u001b[0;32m<ipython-input-30-6ed9262e3d76>\u001b[0m in \u001b[0;36m<cell line: 0>\u001b[0;34m()\u001b[0m\n\u001b[1;32m      1\u001b[0m \u001b[0mprint\u001b[0m\u001b[0;34m(\u001b[0m\u001b[0;34m\"what is your age?\"\u001b[0m\u001b[0;34m)\u001b[0m\u001b[0;34m\u001b[0m\u001b[0;34m\u001b[0m\u001b[0m\n\u001b[0;32m----> 2\u001b[0;31m \u001b[0mage\u001b[0m \u001b[0;34m=\u001b[0m \u001b[0mint\u001b[0m\u001b[0;34m(\u001b[0m\u001b[0minput\u001b[0m\u001b[0;34m(\u001b[0m\u001b[0;34m)\u001b[0m\u001b[0;34m)\u001b[0m\u001b[0;34m\u001b[0m\u001b[0;34m\u001b[0m\u001b[0m\n\u001b[0m\u001b[1;32m      3\u001b[0m \u001b[0mcan_drink\u001b[0m \u001b[0;34m=\u001b[0m \u001b[0mage\u001b[0m \u001b[0;34m>\u001b[0m \u001b[0;36m20\u001b[0m\u001b[0;34m\u001b[0m\u001b[0;34m\u001b[0m\u001b[0m\n\u001b[1;32m      4\u001b[0m \u001b[0;34m\u001b[0m\u001b[0m\n\u001b[1;32m      5\u001b[0m \u001b[0;32mif\u001b[0m \u001b[0mage\u001b[0m \u001b[0;34m>\u001b[0m \u001b[0;36m20\u001b[0m\u001b[0;34m:\u001b[0m\u001b[0;34m\u001b[0m\u001b[0;34m\u001b[0m\u001b[0m\n",
            "\u001b[0;32m/usr/local/lib/python3.11/dist-packages/ipykernel/kernelbase.py\u001b[0m in \u001b[0;36mraw_input\u001b[0;34m(self, prompt)\u001b[0m\n\u001b[1;32m   1175\u001b[0m                 \u001b[0;34m\"raw_input was called, but this frontend does not support input requests.\"\u001b[0m\u001b[0;34m\u001b[0m\u001b[0;34m\u001b[0m\u001b[0m\n\u001b[1;32m   1176\u001b[0m             )\n\u001b[0;32m-> 1177\u001b[0;31m         return self._input_request(\n\u001b[0m\u001b[1;32m   1178\u001b[0m             \u001b[0mstr\u001b[0m\u001b[0;34m(\u001b[0m\u001b[0mprompt\u001b[0m\u001b[0;34m)\u001b[0m\u001b[0;34m,\u001b[0m\u001b[0;34m\u001b[0m\u001b[0;34m\u001b[0m\u001b[0m\n\u001b[1;32m   1179\u001b[0m             \u001b[0mself\u001b[0m\u001b[0;34m.\u001b[0m\u001b[0m_parent_ident\u001b[0m\u001b[0;34m[\u001b[0m\u001b[0;34m\"shell\"\u001b[0m\u001b[0;34m]\u001b[0m\u001b[0;34m,\u001b[0m\u001b[0;34m\u001b[0m\u001b[0;34m\u001b[0m\u001b[0m\n",
            "\u001b[0;32m/usr/local/lib/python3.11/dist-packages/ipykernel/kernelbase.py\u001b[0m in \u001b[0;36m_input_request\u001b[0;34m(self, prompt, ident, parent, password)\u001b[0m\n\u001b[1;32m   1217\u001b[0m             \u001b[0;32mexcept\u001b[0m \u001b[0mKeyboardInterrupt\u001b[0m\u001b[0;34m:\u001b[0m\u001b[0;34m\u001b[0m\u001b[0;34m\u001b[0m\u001b[0m\n\u001b[1;32m   1218\u001b[0m                 \u001b[0;31m# re-raise KeyboardInterrupt, to truncate traceback\u001b[0m\u001b[0;34m\u001b[0m\u001b[0;34m\u001b[0m\u001b[0m\n\u001b[0;32m-> 1219\u001b[0;31m                 \u001b[0;32mraise\u001b[0m \u001b[0mKeyboardInterrupt\u001b[0m\u001b[0;34m(\u001b[0m\u001b[0;34m\"Interrupted by user\"\u001b[0m\u001b[0;34m)\u001b[0m \u001b[0;32mfrom\u001b[0m \u001b[0;32mNone\u001b[0m\u001b[0;34m\u001b[0m\u001b[0;34m\u001b[0m\u001b[0m\n\u001b[0m\u001b[1;32m   1220\u001b[0m             \u001b[0;32mexcept\u001b[0m \u001b[0mException\u001b[0m\u001b[0;34m:\u001b[0m\u001b[0;34m\u001b[0m\u001b[0;34m\u001b[0m\u001b[0m\n\u001b[1;32m   1221\u001b[0m                 \u001b[0mself\u001b[0m\u001b[0;34m.\u001b[0m\u001b[0mlog\u001b[0m\u001b[0;34m.\u001b[0m\u001b[0mwarning\u001b[0m\u001b[0;34m(\u001b[0m\u001b[0;34m\"Invalid Message:\"\u001b[0m\u001b[0;34m,\u001b[0m \u001b[0mexc_info\u001b[0m\u001b[0;34m=\u001b[0m\u001b[0;32mTrue\u001b[0m\u001b[0;34m)\u001b[0m\u001b[0;34m\u001b[0m\u001b[0;34m\u001b[0m\u001b[0m\n",
            "\u001b[0;31mKeyboardInterrupt\u001b[0m: Interrupted by user"
          ]
        }
      ]
    },
    {
      "cell_type": "markdown",
      "source": [
        "#Tabs vs Spaces"
      ],
      "metadata": {
        "id": "dh8rh76ireKM"
      }
    },
    {
      "cell_type": "code",
      "source": [
        "print(\"what is your age?\")\n",
        "age = int(input())\n",
        "if age > 20:\n",
        "    print(\"Welcome to our app0\")\n",
        "\n",
        "print(\"thanks for trying our app\")\n",
        "\n",
        ""
      ],
      "metadata": {
        "colab": {
          "base_uri": "https://localhost:8080/"
        },
        "id": "4aregEkxrjhz",
        "outputId": "299b80b1-9492-49b7-8611-0ec8c375fc72"
      },
      "execution_count": 33,
      "outputs": [
        {
          "output_type": "stream",
          "name": "stdout",
          "text": [
            "what is your age?\n",
            "15\n",
            "thanks for trying our app\n"
          ]
        }
      ]
    },
    {
      "cell_type": "markdown",
      "source": [
        "#if, elif, else"
      ],
      "metadata": {
        "id": "WbNDqieEsgI8"
      }
    },
    {
      "cell_type": "code",
      "source": [
        "print(\"what is your age?\")\n",
        "age = int(input())\n",
        "can_drink = age > 20\n",
        "\n",
        "if age > 65:\n",
        "  print(\"You get a special discount\")\n",
        "elif age == 21:\n",
        "  print(\"SUPER SPECIAL\")\n",
        "elif age > 20:\n",
        "  print(\"Welcome to our app\")\n",
        "else:\n",
        "  print(\"You're not old enough\")\n",
        "\n",
        "print(\"Thanks for trying our app\")"
      ],
      "metadata": {
        "colab": {
          "base_uri": "https://localhost:8080/"
        },
        "id": "3Fwuzj_esnC2",
        "outputId": "5e2b3706-cc32-43e4-abfc-a6d7936a220c"
      },
      "execution_count": 48,
      "outputs": [
        {
          "output_type": "stream",
          "name": "stdout",
          "text": [
            "what is your age?\n",
            "66\n",
            "You get a special discount\n",
            "Thanks for trying our app\n"
          ]
        }
      ]
    }
  ]
}