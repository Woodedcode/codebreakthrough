{
  "nbformat": 4,
  "nbformat_minor": 0,
  "metadata": {
    "colab": {
      "provenance": [],
      "authorship_tag": "ABX9TyNmNbXbyFC/iTX9ADhX8PEW",
      "include_colab_link": true
    },
    "kernelspec": {
      "name": "python3",
      "display_name": "Python 3"
    },
    "language_info": {
      "name": "python"
    }
  },
  "cells": [
    {
      "cell_type": "markdown",
      "metadata": {
        "id": "view-in-github",
        "colab_type": "text"
      },
      "source": [
        "<a href=\"https://colab.research.google.com/github/Woodedcode/codebreakthrough/blob/main/Calebcurry_python_for_beginners_day5.ipynb\" target=\"_parent\"><img src=\"https://colab.research.google.com/assets/colab-badge.svg\" alt=\"Open In Colab\"/></a>"
      ]
    },
    {
      "cell_type": "markdown",
      "source": [
        "#LOOPS"
      ],
      "metadata": {
        "id": "_qBKBYSw6Y8_"
      }
    },
    {
      "cell_type": "markdown",
      "source": [
        "####CONDITIONAL LOGIC"
      ],
      "metadata": {
        "id": "BI1P2FRV6jE1"
      }
    },
    {
      "cell_type": "code",
      "execution_count": 12,
      "metadata": {
        "colab": {
          "base_uri": "https://localhost:8080/"
        },
        "id": "wrVL1JKZ6VG6",
        "outputId": "640cee64-22dd-4584-d237-89dd95180cc3"
      },
      "outputs": [
        {
          "output_type": "stream",
          "name": "stdout",
          "text": [
            "Get in the back seat and buckle up\n",
            "okokok\n"
          ]
        }
      ],
      "source": [
        "#conditional logic\n",
        "is_old = False\n",
        "is_liscenced = True\n",
        "\n",
        "# if ***condition***:\n",
        "\n",
        "if is_old and is_liscenced:\n",
        "  print('you are old enough to drive and you have a liscence')\n",
        "else:\n",
        "  print('Get in the back seat and buckle up')\n",
        "\n",
        "\n",
        "print('okokok')"
      ]
    },
    {
      "cell_type": "code",
      "source": [],
      "metadata": {
        "id": "cJZmkPL47kFs"
      },
      "execution_count": null,
      "outputs": []
    }
  ]
}