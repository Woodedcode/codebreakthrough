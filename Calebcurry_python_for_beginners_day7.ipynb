{
  "nbformat": 4,
  "nbformat_minor": 0,
  "metadata": {
    "colab": {
      "provenance": [],
      "authorship_tag": "ABX9TyPg61Rkb1wcGSgozwRHHq6H",
      "include_colab_link": true
    },
    "kernelspec": {
      "name": "python3",
      "display_name": "Python 3"
    },
    "language_info": {
      "name": "python"
    }
  },
  "cells": [
    {
      "cell_type": "markdown",
      "metadata": {
        "id": "view-in-github",
        "colab_type": "text"
      },
      "source": [
        "<a href=\"https://colab.research.google.com/github/Woodedcode/codebreakthrough/blob/main/Calebcurry_python_for_beginners_day7.ipynb\" target=\"_parent\"><img src=\"https://colab.research.google.com/assets/colab-badge.svg\" alt=\"Open In Colab\"/></a>"
      ]
    },
    {
      "cell_type": "markdown",
      "source": [
        "#HANDLINF ERRORS\n",
        "\n",
        "**python stops running your program if an error occurs**"
      ],
      "metadata": {
        "id": "e55iX4extgYj"
      }
    },
    {
      "cell_type": "code",
      "execution_count": 9,
      "metadata": {
        "colab": {
          "base_uri": "https://localhost:8080/"
        },
        "id": "YWR97HtHtD-s",
        "outputId": "f8862649-cef3-446a-9add-dea8f012582e"
      },
      "outputs": [
        {
          "output_type": "stream",
          "name": "stdout",
          "text": [
            "Sorry, a problem occured dividing the numbers\n",
            "All done!\n",
            "Sorry, a problem occured dividing the numbers\n",
            "All done!\n"
          ]
        }
      ],
      "source": [
        "#divide a number by zero\n",
        "a = 7\n",
        "b = 0\n",
        "\n",
        "#print(str(a) + \" divided by \" str(b) + \" is \" + str(a/b))\n",
        "#print(\"All done!\")\n",
        "\n",
        "#/////////////////////////////////////\n",
        "\n",
        "a = 7\n",
        "b = 0\n",
        "\n",
        "try:\n",
        "  print(str(a) + \" divided by \" + str(b) + \" is \" + str(a/b))\n",
        "except:\n",
        "  print(\"Sorry, a problem occured dividing the numbers\")\n",
        "\n",
        "print(\"All done!\")\n",
        "\n",
        "\n",
        "#/////////////////////////////////////\n",
        "\n",
        "a = 7\n",
        "b = 0\n",
        "\n",
        "try:\n",
        "  print(str(a) + \" divided by \" + str(b) + \" is \" + str(a/b))\n",
        "except ZeroDivisionError as e:\n",
        "  print(\"Sorry, a problem occured dividing the numbers\")\n",
        "\n",
        "print(\"All done!\")"
      ]
    }
  ]
}