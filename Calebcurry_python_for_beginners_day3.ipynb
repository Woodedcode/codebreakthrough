{
  "nbformat": 4,]
  "nbformat_minor": 0,
  "metadata": {
    "colab": {
      "provenance": [],
      "authorship_tag": "ABX9TyPITU7gVsC6fAAbY4Mu4a85",
      "include_colab_link": true
    },
    "kernelspec": {
      "name": "python3",
      "display_name": "Python 3"
    },
    "language_info": {
      "name": "python"
    }
  },
  "cells": [
    {
      "cell_type": "markdown",
      "metadata": {
        "id": "view-in-github",
        "colab_type": "text"
      },
      "source": [
        "<a href=\"https://colab.research.google.com/github/Woodedcode/codebreakthrough/blob/main/Calebcurry_python_for_beginners_day3.ipynb\" target=\"_parent\"><img src=\"https://colab.research.google.com/assets/colab-badge.svg\" alt=\"Open In Colab\"/></a>"
      ]
    },
    {
      "cell_type": "markdown",
      "source": [
        "#Strings are immutable"
      ],
      "metadata": {
        "id": "aAYFxAGw8t-q"
      }
    },
    {
      "cell_type": "code",
      "execution_count": 14,
      "metadata": {
        "colab": {
          "base_uri": "https://localhost:8080/"
        },
        "id": "4-YJQhtB8D_4",
        "outputId": "f5bc5dac-9228-455f-a657-9ae10e3692d4"
      },
      "outputs": [
        {
          "output_type": "stream",
          "name": "stdout",
          "text": [
            "['hey']\n"
          ]
        }
      ],
      "source": [
        "task = \"Subscribe\"\n",
        "#print(id(task))\n",
        "#print(id(task))\n",
        "#print(id(task))\n",
        "#print(id(task))\n",
        "\n",
        "#task = \"like\"\n",
        "#print(id(task))\n",
        "\n",
        "#task = task['s']\n",
        "#print(id(task))\n",
        "\n",
        "#mutable data\n",
        "\n",
        "#task = task + '!'\n",
        "#print(id(task))\n",
        "\n",
        "#--------------------\n",
        "task = ['Subscribe']\n",
        "\n",
        "\n",
        "different = task\n",
        "\n",
        "#different = \"hey\"\n",
        "different[0] = 'hey'\n",
        "print(task)"
      ]
    },
    {
      "cell_type": "markdown",
      "source": [
        "# len() Function"
      ],
      "metadata": {
        "id": "g3eKP7-AArBY"
      }
    },
    {
      "cell_type": "code",
      "source": [
        "msg = \"please subscribe\"\n",
        "print(msg)\n",
        "print(msg[5])\n",
        "print(len(msg))\n",
        "print(msg[15])\n",
        "print(msg[len(msg) - 1])"
      ],
      "metadata": {
        "colab": {
          "base_uri": "https://localhost:8080/"
        },
        "id": "0ZA43orm_gGI",
        "outputId": "c46ead6c-37f4-4498-bf51-67e4ccef7103"
      },
      "execution_count": 20,
      "outputs": [
        {
          "output_type": "stream",
          "name": "stdout",
          "text": [
            "please subscribe\n",
            "e\n",
            "16\n",
            "e\n",
            "e\n"
          ]
        }
      ]
    },
    {
      "cell_type": "markdown",
      "source": [
        "#Convert Integer to String"
      ],
      "metadata": {
        "id": "8cJy3Yf6Blcy"
      }
    },
    {
      "cell_type": "code",
      "source": [
        "msg = \"please subscribe\"\n",
        "\n",
        "print(len(msg))\n",
        "print(\"You're message was \" + str(len(msg)) + \" characters long\")\n",
        "print(\"You're message was\",str(len(msg)),\"characters long\")"
      ],
      "metadata": {
        "colab": {
          "base_uri": "https://localhost:8080/"
        },
        "id": "gJC9NCe_Bmua",
        "outputId": "cb7aeca8-d051-4c12-9960-65c17b94b42f"
      },
      "execution_count": 24,
      "outputs": [
        {
          "output_type": "stream",
          "name": "stdout",
          "text": [
            "16\n",
            "You're message was 16 characters long\n",
            "You're message was 16 characters long\n"
          ]
        }
      ]
    },
    {
      "cell_type": "markdown",
      "source": [
        "# Nested Function Calls"
      ],
      "metadata": {
        "id": "M7Gi41vsGu5P"
      }
    },
    {
      "cell_type": "code",
      "source": [
        "import math\n",
        "age = 15\n",
        "print(len(str(id(str(age)) + math.floor(2.6))))\n",
        "\n",
        "#age_str = age_str(age)\n",
        "#id_age_str = if(age_str)\n",
        "#other = math.floor(2.6)\n",
        "#added = id_age_str + other\n",
        "#added_str = str(added)"
      ],
      "metadata": {
        "colab": {
          "base_uri": "https://localhost:8080/",
          "height": 202
        },
        "id": "kiOGoiojGx_Q",
        "outputId": "e2fb9b1f-4034-4d95-b336-eba9573ba381"
      },
      "execution_count": 26,
      "outputs": [
        {
          "output_type": "stream",
          "name": "stdout",
          "text": [
            "15\n"
          ]
        },
        {
          "output_type": "error",
          "ename": "NameError",
          "evalue": "name 'id_age_str' is not defined",
          "traceback": [
            "\u001b[0;31m---------------------------------------------------------------------------\u001b[0m",
            "\u001b[0;31mNameError\u001b[0m                                 Traceback (most recent call last)",
            "\u001b[0;32m<ipython-input-26-f50014c8ffa2>\u001b[0m in \u001b[0;36m<cell line: 0>\u001b[0;34m()\u001b[0m\n\u001b[1;32m      6\u001b[0m \u001b[0;31m#id_age_str = if(age_str)\u001b[0m\u001b[0;34m\u001b[0m\u001b[0;34m\u001b[0m\u001b[0m\n\u001b[1;32m      7\u001b[0m \u001b[0mother\u001b[0m \u001b[0;34m=\u001b[0m \u001b[0mmath\u001b[0m\u001b[0;34m.\u001b[0m\u001b[0mfloor\u001b[0m\u001b[0;34m(\u001b[0m\u001b[0;36m2.6\u001b[0m\u001b[0;34m)\u001b[0m\u001b[0;34m\u001b[0m\u001b[0;34m\u001b[0m\u001b[0m\n\u001b[0;32m----> 8\u001b[0;31m \u001b[0madded\u001b[0m \u001b[0;34m=\u001b[0m \u001b[0mid_age_str\u001b[0m \u001b[0;34m+\u001b[0m \u001b[0mother\u001b[0m\u001b[0;34m\u001b[0m\u001b[0;34m\u001b[0m\u001b[0m\n\u001b[0m",
            "\u001b[0;31mNameError\u001b[0m: name 'id_age_str' is not defined"
          ]
        }
      ]
    }
  ]
}
