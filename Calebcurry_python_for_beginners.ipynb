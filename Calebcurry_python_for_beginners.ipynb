{
  "nbformat": 4,
  "nbformat_minor": 0,
  "metadata": {
    "colab": {
      "provenance": [],
      "authorship_tag": "ABX9TyM8H/HnB1XDy17bfEpn9osM",
      "include_colab_link": true
    },
    "kernelspec": {
      "name": "python3",
      "display_name": "Python 3"
    },
    "language_info": {
      "name": "python"
    }
  },
  "cells": [
    {
      "cell_type": "markdown",
      "metadata": {
        "id": "view-in-github",
        "colab_type": "text"
      },
      "source": [
        "<a href=\"https://colab.research.google.com/github/Woodedcode/codebreakthrough/blob/main/Calebcurry_python_for_beginners.ipynb\" target=\"_parent\"><img src=\"https://colab.research.google.com/assets/colab-badge.svg\" alt=\"Open In Colab\"/></a>"
      ]
    },
    {
      "cell_type": "code",
      "execution_count": null,
      "metadata": {
        "id": "diJZajlTRCIL"
      },
      "outputs": [],
      "source": [
        "#PYTHON FOR BEGINNERS\n",
        "#### 6 HOUR COURSE\n",
        "\n"
      ]
    },
    {
      "cell_type": "markdown",
      "source": [
        "#WORKING WITH NUMBERS"
      ],
      "metadata": {
        "id": "DkJ5MuUTe2pT"
      }
    },
    {
      "cell_type": "code",
      "source": [
        "5+5\n",
        "5/5\n",
        "5-3\n",
        "5*4\n",
        "5+3-2\n",
        "5+(3*2)\n",
        "11%2"
      ],
      "metadata": {
        "colab": {
          "base_uri": "https://localhost:8080/"
        },
        "id": "N-fZQRcce9DN",
        "outputId": "2711c3dc-9219-40ea-a049-73d15c6ac93b"
      },
      "execution_count": 45,
      "outputs": [
        {
          "output_type": "execute_result",
          "data": {
            "text/plain": [
              "1"
            ]
          },
          "metadata": {},
          "execution_count": 45
        }
      ]
    },
    {
      "cell_type": "markdown",
      "source": [
        "#Parenthesis and Precedence Rules"
      ],
      "metadata": {
        "id": "5afcXwhqffOU"
      }
    },
    {
      "cell_type": "code",
      "source": [
        "5+3*2\n",
        "#* / happen first PEMDAS\n",
        "\n",
        "(3*2)+(6/2)-1\n",
        "\n",
        "5/2\n",
        "3*(2+6)/(2-1)\n",
        "\n",
        "(3*2)+(6/2)-1\n",
        "\n",
        "(((5+5)))"
      ],
      "metadata": {
        "colab": {
          "base_uri": "https://localhost:8080/"
        },
        "id": "LxQtBWmLfhZk",
        "outputId": "45296245-a744-448e-a1b7-48e57f4d3465"
      },
      "execution_count": 51,
      "outputs": [
        {
          "output_type": "execute_result",
          "data": {
            "text/plain": [
              "10"
            ]
          },
          "metadata": {},
          "execution_count": 51
        }
      ]
    },
    {
      "cell_type": "markdown",
      "source": [
        "#Floor Division and Round"
      ],
      "metadata": {
        "id": "3QTOZTc8g_Hw"
      }
    },
    {
      "cell_type": "code",
      "source": [
        "5 / 2\n",
        "print(round(2.5))\n",
        "#syntax\n",
        "print(round(10.23))\n",
        "#function\n",
        "round(2.555,1)\n",
        "#round(3.3333333,2)\n",
        "#expressions\n",
        "print(round(10/3,2))\n",
        "#round up or down\n",
        "import math\n",
        "print(math.ceil(3.3))\n",
        "print(math.floor(3.6))"
      ],
      "metadata": {
        "colab": {
          "base_uri": "https://localhost:8080/"
        },
        "id": "ko-5lHBshLwm",
        "outputId": "28699071-ae21-4688-980d-c0db28480f24"
      },
      "execution_count": 63,
      "outputs": [
        {
          "output_type": "stream",
          "name": "stdout",
          "text": [
            "2\n",
            "10\n",
            "3.33\n",
            "4\n",
            "3\n"
          ]
        }
      ]
    },
    {
      "cell_type": "markdown",
      "source": [
        "#Print function"
      ],
      "metadata": {
        "id": "dYWWn25Wkz5w"
      }
    },
    {
      "cell_type": "code",
      "source": [
        "print('hello world')\n",
        "print(5)\n",
        "print(5 + 5, \"hey\", 10.3, 'hi', end=' ')"
      ],
      "metadata": {
        "colab": {
          "base_uri": "https://localhost:8080/"
        },
        "id": "pfuEPNzGk1aD",
        "outputId": "5a2178ce-d8d4-4c6f-b784-183ff6e5de37"
      },
      "execution_count": 69,
      "outputs": [
        {
          "output_type": "stream",
          "name": "stdout",
          "text": [
            "hello world\n",
            "5\n",
            "10 hey 10.3 hi "
          ]
        }
      ]
    },
    {
      "cell_type": "markdown",
      "source": [
        "#Creating a Number Variable\n",
        "####hardcoding numbers is bad"
      ],
      "metadata": {
        "id": "gB2wCIawonuj"
      }
    },
    {
      "cell_type": "code",
      "source": [
        "age = 35\n",
        "print(age + 10)\n",
        "\n",
        "val = 10/3+2-1*5\n",
        "print(val)"
      ],
      "metadata": {
        "colab": {
          "base_uri": "https://localhost:8080/"
        },
        "id": "qV1095O4osGK",
        "outputId": "58209f3d-760b-4225-e3ac-3e4c977c1ea3"
      },
      "execution_count": 78,
      "outputs": [
        {
          "output_type": "stream",
          "name": "stdout",
          "text": [
            "45\n",
            "0.3333333333333339\n"
          ]
        }
      ]
    },
    {
      "cell_type": "markdown",
      "source": [
        "#Python comments"
      ],
      "metadata": {
        "id": "ar-0JXoRrkdF"
      }
    },
    {
      "cell_type": "code",
      "source": [
        "print(2+2)\n",
        "#this is a comment\n",
        "print(10+10)\n",
        "\"\"\"\n",
        "\n",
        "\n",
        "multi line comment\n",
        "\n",
        "\n",
        "\n",
        "\"\"\"\n",
        "print(2+5)"
      ],
      "metadata": {
        "colab": {
          "base_uri": "https://localhost:8080/"
        },
        "id": "i2YcvmxGrq7f",
        "outputId": "c9cd27aa-bfaf-4aa7-d74d-98715bdf6cb9"
      },
      "execution_count": 80,
      "outputs": [
        {
          "output_type": "stream",
          "name": "stdout",
          "text": [
            "4\n",
            "20\n",
            "7\n"
          ]
        }
      ]
    },
    {
      "cell_type": "markdown",
      "source": [
        "#Variable nameing rules"
      ],
      "metadata": {
        "id": "5ZKi6u1usvpG"
      }
    },
    {
      "cell_type": "code",
      "source": [
        "#age1 = 20 -good\n",
        "#age_2 = 13 -good\n",
        "#age-3 = 3 X -not good\n",
        "#4age = 4  X -not good\n",
        "#Age = 6 -not good\n",
        "#age_of_user = 35 -good\n",
        "#return = 5 -not good\n",
        "\n",
        "print(age1)"
      ],
      "metadata": {
        "colab": {
          "base_uri": "https://localhost:8080/"
        },
        "id": "Ctl-qc-CsxeI",
        "outputId": "6b6c4ee8-3e76-4aa2-aeb8-2b7c9537dba7"
      },
      "execution_count": 90,
      "outputs": [
        {
          "output_type": "stream",
          "name": "stdout",
          "text": [
            "20\n"
          ]
        }
      ]
    },
    {
      "cell_type": "markdown",
      "source": [
        "#Floor Division (Double Forward Slash)"
      ],
      "metadata": {
        "id": "fAtjPqTzuF66"
      }
    },
    {
      "cell_type": "code",
      "source": [
        "import math\n",
        "\n",
        "result = 10/3\n",
        "new_result = math.floor(result)\n",
        "\n",
        "print(new_result)\n",
        "\n",
        "#preferred way - all in one line\n",
        "print(math.floor(result))\n",
        "\n",
        "#double slash eliminates the use of floor\n",
        "result = 10//4\n",
        "print(result)\n",
        "\n",
        "# / ---> float division\n",
        "# // ---> integer division (math.floor)\n"
      ],
      "metadata": {
        "colab": {
          "base_uri": "https://localhost:8080/"
        },
        "id": "xE9kKw5QuMFX",
        "outputId": "cda99b47-737f-418d-9596-377c7fb009da"
      },
      "execution_count": 97,
      "outputs": [
        {
          "output_type": "stream",
          "name": "stdout",
          "text": [
            "3\n",
            "3\n",
            "2\n"
          ]
        }
      ]
    }
  ]
}