{
  "nbformat": 4,
  "nbformat_minor": 0,
  "metadata": {
    "colab": {
      "provenance": [],
      "authorship_tag": "ABX9TyNfzRJiOq71ESSM22KZxoFf",
      "include_colab_link": true
    },
    "kernelspec": {
      "name": "python3",
      "display_name": "Python 3"
    },
    "language_info": {
      "name": "python"
    }
  },
  "cells": [
    {
      "cell_type": "markdown",
      "metadata": {
        "id": "view-in-github",
        "colab_type": "text"
      },
      "source": [
        "<a href=\"https://colab.research.google.com/github/Woodedcode/codebreakthrough/blob/main/Python_ZTM_day6ipynb.ipynb\" target=\"_parent\"><img src=\"https://colab.research.google.com/assets/colab-badge.svg\" alt=\"Open In Colab\"/></a>"
      ]
    },
    {
      "cell_type": "markdown",
      "source": [
        "#LOGICAL OPERATORS\n",
        "\n",
        "**and** is a logical operator\n",
        "\n",
        "**or** is a logical operator\n",
        "\n",
        "**<, >, ==, >=, <=, !=**\n",
        "\n",
        "**not** is a logical operator and a **function**"
      ],
      "metadata": {
        "id": "P9bRXcRkvQhX"
      }
    },
    {
      "cell_type": "markdown",
      "source": [
        "###EXERCISE - LOGICAL OPERATORS"
      ],
      "metadata": {
        "id": "6_ui8tL3xJkb"
      }
    },
    {
      "cell_type": "code",
      "execution_count": 6,
      "metadata": {
        "id": "FLwApyIEu2HT",
        "colab": {
          "base_uri": "https://localhost:8080/"
        },
        "outputId": "8b11d8c9-2096-46f2-b746-745245da9b7c"
      },
      "outputs": [
        {
          "output_type": "stream",
          "name": "stdout",
          "text": [
            "at least you're getting there.\n"
          ]
        }
      ],
      "source": [
        "is_magician = True\n",
        "is_expert = False\n",
        "\n",
        "#check if magician AND expert: \"you are a master magician.\"\n",
        "#check if magician but not expert: \"at least you're getting there.\"\n",
        "\n",
        "if is_magician and is_expert:\n",
        "  print('you are a master magician.')\n",
        "elif is_magician and not is_expert:\n",
        "  print('at least you\\'re getting there.')\n",
        "elif not is_magician:\n",
        "  print('you need magic powers')"
      ]
    },
    {
      "cell_type": "markdown",
      "source": [
        "#is vs =="
      ],
      "metadata": {
        "id": "UAEa4ejw1prn"
      }
    },
    {
      "cell_type": "code",
      "source": [
        "print(True == 1)\n",
        "print('' == 1)\n",
        "print([] == 1)\n",
        "print(10 == 10.0)\n",
        "print([] == [])\n",
        "\n",
        "#== - checks for equality\n",
        "\n",
        "print(True == bool(1))\n",
        "print('' == 1) # '' is falsy, so its falsy. some one of them gets converted to it\n",
        "print([] == 1) # empty array is actually falsy\n",
        "print(10 == 10.0) # int or float gets converted to the other one and it is true\n",
        "print([] == []) # empty array equals to an empty arrray\n",
        "\n",
        "#is checks the location in memory where the value is stored is the same\n",
        "print('is')\n",
        "print(True is 1)\n",
        "print('' is 1)\n",
        "print([] is 1)\n",
        "print(10 is 10.0)\n",
        "print([] is [])"
      ],
      "metadata": {
        "colab": {
          "base_uri": "https://localhost:8080/"
        },
        "id": "tbiyJl9h1vbU",
        "outputId": "6fc4b58f-de07-44ec-f26f-5e152ee83149"
      },
      "execution_count": 9,
      "outputs": [
        {
          "output_type": "stream",
          "name": "stdout",
          "text": [
            "True\n",
            "False\n",
            "False\n",
            "True\n",
            "True\n",
            "True\n",
            "False\n",
            "False\n",
            "True\n",
            "True\n",
            "is\n",
            "False\n",
            "False\n",
            "False\n",
            "False\n",
            "False\n"
          ]
        },
        {
          "output_type": "stream",
          "name": "stderr",
          "text": [
            "<>:17: SyntaxWarning: \"is\" with a literal. Did you mean \"==\"?\n",
            "<>:18: SyntaxWarning: \"is\" with a literal. Did you mean \"==\"?\n",
            "<>:19: SyntaxWarning: \"is\" with a literal. Did you mean \"==\"?\n",
            "<>:20: SyntaxWarning: \"is\" with a literal. Did you mean \"==\"?\n",
            "<>:17: SyntaxWarning: \"is\" with a literal. Did you mean \"==\"?\n",
            "<>:18: SyntaxWarning: \"is\" with a literal. Did you mean \"==\"?\n",
            "<>:19: SyntaxWarning: \"is\" with a literal. Did you mean \"==\"?\n",
            "<>:20: SyntaxWarning: \"is\" with a literal. Did you mean \"==\"?\n",
            "/tmp/ipython-input-9-127970315.py:17: SyntaxWarning: \"is\" with a literal. Did you mean \"==\"?\n",
            "  print(True is 1)\n",
            "/tmp/ipython-input-9-127970315.py:18: SyntaxWarning: \"is\" with a literal. Did you mean \"==\"?\n",
            "  print('' is 1)\n",
            "/tmp/ipython-input-9-127970315.py:19: SyntaxWarning: \"is\" with a literal. Did you mean \"==\"?\n",
            "  print([] is 1)\n",
            "/tmp/ipython-input-9-127970315.py:20: SyntaxWarning: \"is\" with a literal. Did you mean \"==\"?\n",
            "  print(10 is 10.0)\n"
          ]
        }
      ]
    },
    {
      "cell_type": "markdown",
      "source": [
        "#FOR LOOPS"
      ],
      "metadata": {
        "id": "CbHvzDg34sp8"
      }
    },
    {
      "cell_type": "code",
      "source": [
        "for item in 'Zero to Mastery':\n",
        "  print(item)\n",
        "print('/\\/\\/\\/\\/\\/\\/\\LIST/\\/\\/\\/\\/\\/')\n",
        "for item in [1,2,3,4,5]:\n",
        "  print(item)\n",
        "print('/\\/\\/\\/\\/\\/\\/\\SET/\\/\\/\\/\\/\\/')\n",
        "for item in {1,2,3,4,5}:\n",
        "  print(item)\n",
        "print('/\\/\\/\\/\\/\\/\\/\\/\\TUPLE/\\/\\/\\/\\/')\n",
        "for item in (1,2,3,4,5):\n",
        "  print(item)\n",
        "print('/\\/\\/\\/\\/\\/\\/\\/\\DICTIONARY/\\/\\/\\/\\/')\n",
        "for item in[1,2,3,4,5]:\n",
        "  print(item)\n",
        "\n",
        "\n",
        "for item in (1,2,3,4,5):\n",
        "  for x in ['a', 'b', 'c']:\n",
        "    print(item,x)"
      ],
      "metadata": {
        "colab": {
          "base_uri": "https://localhost:8080/"
        },
        "id": "xWoN08Q14ulT",
        "outputId": "5b7c3923-f931-4400-93c4-6a9e92f70d4a"
      },
      "execution_count": 21,
      "outputs": [
        {
          "output_type": "stream",
          "name": "stdout",
          "text": [
            "Z\n",
            "e\n",
            "r\n",
            "o\n",
            " \n",
            "t\n",
            "o\n",
            " \n",
            "M\n",
            "a\n",
            "s\n",
            "t\n",
            "e\n",
            "r\n",
            "y\n",
            "/\\/\\/\\/\\/\\/\\/\\LIST/\\/\\/\\/\\/\\/\n",
            "1\n",
            "2\n",
            "3\n",
            "4\n",
            "5\n",
            "/\\/\\/\\/\\/\\/\\/\\SET/\\/\\/\\/\\/\\/\n",
            "1\n",
            "2\n",
            "3\n",
            "4\n",
            "5\n",
            "/\\/\\/\\/\\/\\/\\/\\/\\TUPLE/\\/\\/\\/\\/\n",
            "1\n",
            "2\n",
            "3\n",
            "4\n",
            "5\n",
            "/\\/\\/\\/\\/\\/\\/\\/\\DICTIONARY/\\/\\/\\/\\/\n",
            "1\n",
            "2\n",
            "3\n",
            "4\n",
            "5\n",
            "1 a\n",
            "1 b\n",
            "1 c\n",
            "2 a\n",
            "2 b\n",
            "2 c\n",
            "3 a\n",
            "3 b\n",
            "3 c\n",
            "4 a\n",
            "4 b\n",
            "4 c\n",
            "5 a\n",
            "5 b\n",
            "5 c\n"
          ]
        }
      ]
    },
    {
      "cell_type": "markdown",
      "source": [
        "#ITERABLES\n",
        "\n",
        "**key term** - it is an object or a collection that can be iterated over.\n",
        "\n",
        "###iterable -> list, dictionary, tuple, set, string\n",
        "###iterate -> one by one check each item in the collection"
      ],
      "metadata": {
        "id": "97YFxyz17Ht0"
      }
    },
    {
      "cell_type": "code",
      "source": [
        "#object\n",
        "user = {\n",
        "    'name': 'Golem',\n",
        "    'age': 5006,\n",
        "    'can_swim': False\n",
        "}\n",
        "\n",
        "for key, value in user.items():\n",
        "  print(key,value, 'tuple')\n",
        "\n",
        "for item in user.values():\n",
        "  print(item, 'value')\n",
        "\n",
        "#most informative way\n",
        "for item in user.items():\n",
        "  print(item, 'keys')"
      ],
      "metadata": {
        "colab": {
          "base_uri": "https://localhost:8080/"
        },
        "id": "_pGysXfS7JSj",
        "outputId": "84ef7461-fbfe-4bfc-c8d4-7a75ae017198"
      },
      "execution_count": 33,
      "outputs": [
        {
          "output_type": "stream",
          "name": "stdout",
          "text": [
            "name Golem tuple\n",
            "age 5006 tuple\n",
            "can_swim False tuple\n",
            "Golem value\n",
            "5006 value\n",
            "False value\n",
            "('name', 'Golem') keys\n",
            "('age', 5006) keys\n",
            "('can_swim', False) keys\n"
          ]
        }
      ]
    },
    {
      "cell_type": "markdown",
      "source": [
        "#EXERCISE: TRICKY COUNTER"
      ],
      "metadata": {
        "id": "i3xnik52AOUQ"
      }
    },
    {
      "cell_type": "code",
      "source": [
        "#counter\n",
        "\n",
        "my_list = [1,2,3,4,5,6,7,8,9,10]\n",
        "\n",
        "counter = 0\n",
        "\n",
        "for item in my_list:\n",
        "  counter = counter + item\n",
        "print(counter)"
      ],
      "metadata": {
        "colab": {
          "base_uri": "https://localhost:8080/"
        },
        "id": "U-4PTeUKARJ7",
        "outputId": "e5dd25fe-0660-4cf8-863f-fe839a9438cc"
      },
      "execution_count": 35,
      "outputs": [
        {
          "output_type": "stream",
          "name": "stdout",
          "text": [
            "55\n"
          ]
        }
      ]
    },
    {
      "cell_type": "markdown",
      "source": [
        "#range()"
      ],
      "metadata": {
        "id": "c4M1nUNPJa21"
      }
    },
    {
      "cell_type": "code",
      "source": [
        "print(range(100))\n",
        "\n",
        "for number in range(0,10):\n",
        "  print(number)\n",
        "\n",
        "for number in range(0,10):\n",
        "  print('email list')\n",
        "\n",
        "#can use if you dont care what the variable is\n",
        "for _ in range(0,10,2):\n",
        "  print(_)\n",
        "\n",
        "for _ in range(10,0,-1):\n",
        "  print(_)\n",
        "\n",
        "for _ in range(10, 0, -2):\n",
        "  print(list(range(10)))"
      ],
      "metadata": {
        "colab": {
          "base_uri": "https://localhost:8080/"
        },
        "id": "9am1jdbOJdsX",
        "outputId": "3563fadc-b47e-4813-883c-b7ecf34cd24b"
      },
      "execution_count": 43,
      "outputs": [
        {
          "output_type": "stream",
          "name": "stdout",
          "text": [
            "range(0, 100)\n",
            "0\n",
            "1\n",
            "2\n",
            "3\n",
            "4\n",
            "5\n",
            "6\n",
            "7\n",
            "8\n",
            "9\n",
            "email list\n",
            "email list\n",
            "email list\n",
            "email list\n",
            "email list\n",
            "email list\n",
            "email list\n",
            "email list\n",
            "email list\n",
            "email list\n",
            "0\n",
            "2\n",
            "4\n",
            "6\n",
            "8\n",
            "10\n",
            "9\n",
            "8\n",
            "7\n",
            "6\n",
            "5\n",
            "4\n",
            "3\n",
            "2\n",
            "1\n",
            "[0, 1, 2, 3, 4, 5, 6, 7, 8, 9]\n",
            "[0, 1, 2, 3, 4, 5, 6, 7, 8, 9]\n",
            "[0, 1, 2, 3, 4, 5, 6, 7, 8, 9]\n",
            "[0, 1, 2, 3, 4, 5, 6, 7, 8, 9]\n",
            "[0, 1, 2, 3, 4, 5, 6, 7, 8, 9]\n"
          ]
        }
      ]
    },
    {
      "cell_type": "markdown",
      "source": [
        "#ENUMERATE"
      ],
      "metadata": {
        "id": "mKoIWAGXLPWG"
      }
    },
    {
      "cell_type": "code",
      "source": [
        "for i,char in enumerate('Hello'):\n",
        "  print(i,char)\n",
        "\n",
        "print('/\\/\\/\\/\\/\\/\\/\\/')\n",
        "for i,char in enumerate(list(range(10))):\n",
        "  print(i,char)\n",
        "print('/\\/\\/\\/\\/\\/\\/\\/')\n",
        "for i,char in enumerate(list(range(100))):\n",
        "  if char == 50:\n",
        "    print(f'index of 50 is: {i}')"
      ],
      "metadata": {
        "colab": {
          "base_uri": "https://localhost:8080/"
        },
        "id": "jUyIE18tLR3P",
        "outputId": "aa502ec5-34fd-4a96-a223-6fb4641aca5b"
      },
      "execution_count": 52,
      "outputs": [
        {
          "output_type": "stream",
          "name": "stdout",
          "text": [
            "0 H\n",
            "1 e\n",
            "2 l\n",
            "3 l\n",
            "4 o\n",
            "/\\/\\/\\/\\/\\/\\/\\/\n",
            "0 0\n",
            "1 1\n",
            "2 2\n",
            "3 3\n",
            "4 4\n",
            "5 5\n",
            "6 6\n",
            "7 7\n",
            "8 8\n",
            "9 9\n",
            "/\\/\\/\\/\\/\\/\\/\\/\n",
            "index of 50 is: 50\n"
          ]
        }
      ]
    }
  ]
}