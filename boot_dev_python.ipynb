

{
  "nbformat": 4,
  "nbformat_minor": 0,
  "metadata": {
    "colab": {
      "provenance": [],
      "authorship_tag": "ABX9TyMok/QS8juohQr5szb/E9CM",
      "include_colab_link": true
    },
    "kernelspec": {
      "name": "python3",
      "display_name": "Python 3"
    },
    "language_info": {
      "name": "python"
    }
  },
  "cells": [
    {
      "cell_type": "markdown",
      "metadata": {
        "id": "view-in-github",
        "colab_type": "text"
      },
      "source": [
        "<a href=\"https://colab.research.google.com/github/Woodedcode/codebreakthrough/blob/main/boot_dev_python.ipynb\" target=\"_parent\"><img src=\"https://colab.research.google.com/assets/colab-badge.svg\" alt=\"Open In Colab\"/></a>"
      ]
    },
    {
      "cell_type": "code",
      "execution_count": null,
      "metadata": {
        "id": "VR4o-MOn67gB"
      },
      "outputs": [],
      "source": [
        "print(\"Welcome to Fantasy Quest!\")\n",
        "\n"
      ]
    },
    {
      "cell_type": "markdown",
      "source": [
        "#Fix Your First Bug\n",
        "The combat system in Fantasy Quest isn't working as intended! It appears that players are gaining health when attacked instead of losing it."
      ],
      "metadata": {
        "id": "EoJfRYYf7IZY"
      }
    },
    {
      "cell_type": "code",
      "source": [
        "sword_damage = 10\n",
        "start_health = 100\n",
        "end_health = start_health - sword_damage\n",
        "\n",
        "# Don't touch below this line\n",
        "print(f\"Sam's health is: {start_health}\")\n",
        "print(f\"Sam takes {sword_damage} damage...\")\n",
        "print(f\"Sam's health is: {end_health}\")"
      ],
      "metadata": {
        "id": "7muQ_3wn7KCx"
      },
      "execution_count": null,
      "outputs": []
    },
    {
      "cell_type": "markdown",
      "source": [
        "#The Console\n",
        "\n",
        "\n",
        "The \"console\" shows you the text output of your program. It's right beneath the code editor.\n",
        "\n",
        "To see what's happening in our code, we need to print it to the console by using the print() function.\n",
        "\n",
        "We'll learn more about functions later, but for now, just know that print() function will print anything you put inside its parentheses, like this:\n",
        "\n",
        "print(\"Greetings, adventurer!\")\n"
      ],
      "metadata": {
        "id": "ocVFzhPL7aLj"
      }
    },
    {
      "cell_type": "code",
      "source": [
        "print('Please move forward')"
      ],
      "metadata": {
        "id": "N7nDAGRM7af6"
      },
      "execution_count": null,
      "outputs": []
    },
    {
      "cell_type": "markdown",
      "source": [
        "#What Is “Code”?\n",
        "\n",
        "Code is just a series of instructions for a computer to follow one after another. Programs can have a lot of instructions.\n",
        "\n",
        "The Boot.dev backend has 46,119 lines of code as I write this... and it's much smaller than some other projects I've worked on.\n",
        "\n",
        "Remember how we used the print() instruction to print text to the console? We can also use it to print numbers. This prints the number 42:\n",
        "\n",
        "print(42)\n",
        "\n",
        "Well, addition is one of the most common instructions in programming. This also prints the number 42:\n",
        "\n",
        "print(40 + 2)\n",
        "\n",
        "It first calculates the sum inside the parentheses, and then prints the result.\n",
        "Assignment\n",
        "\n",
        "Simple addition is used all the time in game development. In Fantasy Quest, we want weapons to deal bonus damage when they're enchanted.\n",
        "\n",
        "Our hero's sword deals 250 damage normally, but should deal an additional 75 damage when it's enchanted.\n",
        "\n",
        "Calculate and print the result of 250 + 75"
      ],
      "metadata": {
        "id": "p0c6FCfJ7_AA"
      }
    },
    {
      "cell_type": "code",
      "source": [
        "print(250 + 75)"
      ],
      "metadata": {
        "colab": {
          "base_uri": "https://localhost:8080/"
        },
        "id": "9yhzqIZn8ATL",
        "outputId": "79cd4e0b-fd1b-45d7-b968-b0285caa1136"
      },
      "execution_count": null,
      "outputs": [
        {
          "output_type": "stream",
          "name": "stdout",
          "text": [
            "325\n"
          ]
        }
      ]
    },
    {
      "cell_type": "markdown",
      "source": [
        "#Multiple Instructions\n",
        "\n",
        "Code runs in order, starting at the top of the program. For example:\n",
        "\n",
        "print(\"this prints first\")\n",
        "print(\"this prints second\")\n",
        "print(\"this prints last\")\n",
        "\n",
        "Each print() instruction prints on a new line.\n",
        "Assignment\n",
        "\n",
        "The dialogue in our game should display in the correct order! In the first level, our hero encounters a talking owl named Jax.\n",
        "\n",
        "    Run (not submit) the code and see that it's printed in the wrong order\n",
        "    Rearrange the code so that it prints in the following (correct) order:\n",
        "\n",
        "Jax: B-Kaw!\n",
        "Hero: ...\n",
        "Jax: Where are you off to this morning? Bkaw...\n",
        "Hero: Where did an owl learn to speak??\n"
      ],
      "metadata": {
        "id": "OLdsGmVH8m1R"
      }
    },
    {
      "cell_type": "code",
      "source": [
        "print(\"Jax: B-Kaw!\")\n",
        "print(\"Hero: ...\")\n",
        "print(\"Jax: Where are you off to this morning? Bkaw...\")\n",
        "print(\"Hero: Where did an owl learn to speak??\")"
      ],
      "metadata": {
        "id": "wc86XofA8roK"
      },
      "execution_count": null,
      "outputs": []
    },
    {
      "cell_type": "markdown",
      "source": [
        "#Syntax Errors\n",
        "\n",
        "\"Syntax\" is jargon for \"valid code that the computer can understand\". For example, the following code has invalid syntax:\n",
        "\n",
        "print(\"hello world')\n",
        "\n",
        "It has mismatched quotes around the string hello world. One is a single quote ' and the other is a double quote \".\n",
        "Assignment\n",
        "\n",
        "Let's continue our work on Fantasy Quest. There's a bug in our game, and our players are distraught.\n",
        "\n",
        "They're so needy... it's not like we added microtransactions...\n",
        "\n",
        "The code was supposed to print Welcome to Fantasy Quest! to our users, but they get an error instead. Find the syntax error in the code editor, and fix it."
      ],
      "metadata": {
        "id": "yHI2jmio9A4n"
      }
    },
    {
      "cell_type": "code",
      "source": [
        "print(\"Welcome to Fantasy Quest!\")"
      ],
      "metadata": {
        "id": "a7DRKhHm9TGR"
      },
      "execution_count": null,
      "outputs": []
    },
    {
      "cell_type": "markdown",
      "source": [
        "#Lesson Failure\n",
        "\n",
        "You've probably noticed that you have a Submit and a Run button.\n",
        "\n",
        "    Run: For testing and debugging. There is no penalty for running your code.\n",
        "    Submit: Runs your code, but also checks its output against our answer key. If the output doesn't match, you'll be punished.\n",
        "\n",
        "Pro tip: You wouldn't deploy code to end users without testing... right? So don't submit code without running it first! The goal of this game mechanic is to encourage good real-world coding practices. \"Submit\" is like deploying to production.\n",
        "What's the Penalty?\n",
        "\n",
        "When you fail a lesson, one of two things will happen:\n",
        "\n",
        "    If you have armor, you'll lose one. That armor is consumed to protect you from future failures on that lesson.\n",
        "    If you don't have an armor, you'll lose your sharpshooter spree, and it will reset to zero. Each time your spree counter hits 15, you'll earn a random chest. Chests contain gems and items (like armor).\n",
        "\n",
        "Assignment\n",
        "\n",
        "Fantasy Quest has a bug in its server code. The code is supposed to print messages indicating the game server has started successfully.\n",
        "\n",
        "Fix both syntax errors in the code."
      ],
      "metadata": {
        "id": "UnfH6Fd49Xr9"
      }
    },
    {
      "cell_type": "code",
      "source": [
        "print(\"Starting up game server...\")\n",
        "print(\"local game server is listening on port 8080\")"
      ],
      "metadata": {
        "id": "sHglkKSP9c2M"
      },
      "execution_count": null,
      "outputs": []
    },
    {
      "cell_type": "markdown",
      "source": [
        "#Game Statistics\n",
        "\n",
        "The marketing team is asking for some stats about our Fantasy Quest game servers. They'd like to know the average number of players across our 4 servers.\n",
        "Assignment\n",
        "\n",
        "Debug the code so that it correctly prints the solution to the math problem."
      ],
      "metadata": {
        "id": "5WYt7Vw--muA"
      }
    },
    {
      "cell_type": "code",
      "source": [
        "print((250 + 241 + 244 + 255) / 4)"
      ],
      "metadata": {
        "id": "dXYZ2htf-2Jt"
      },
      "execution_count": null,
      "outputs": []
    },
    {
      "cell_type": "markdown",
      "source": [
        "#Shop Response\n",
        "\n",
        "Our dev team has been making updates to Fantasy Quest's innkeeper shop, but there's a problem! The Innkeeper's dialogue is blank!\n",
        "Assignment\n",
        "\n",
        "Add 2 separate print statements to complete the Innkeeper's response. They should output the following to the console:\n",
        "\n",
        "    The Innkeeper: Ah! Great choices...\n",
        "    The Innkeeper: Is there anything else I can help you with?\n"
      ],
      "metadata": {
        "id": "XceyVALA-3id"
      }
    },
    {
      "cell_type": "code",
      "source": [
        "print('The Innkeeper: Ah! Great choices...')\n",
        "print('The Innkeeper: Is there anything else I can help you with?')"
      ],
      "metadata": {
        "id": "yDAraeEK-_0s"
      },
      "execution_count": null,
      "outputs": []
    },
    {
      "cell_type": "markdown",
      "source": [],
      "metadata": {
        "id": "oWkOuUz7_Ktl"
      }
    },
    {
      "cell_type": "code",
      "source": [
        "#Variables\n",
        "\n",
        "Variables are how we store data as our program runs. Up 'till now we've been printing data by passing it straight into print(). Now we're going to save the data in variables so we can reuse it and change it before printing it.\n",
        "####Creating Variables\n",
        "\n",
        "A \"variable\" is just a name that we give to a value. For example, we can make a new variable named my_height and set its value to 100:\n",
        "\n",
        "my_height = 100\n",
        "\n",
        "Or we can define a variable called my_name and set it to the text string \"Lane\":\n",
        "\n",
        "my_name = \"Lane\"\n",
        "\n",
        "We have the freedom to choose any name for our variables, but they should be descriptive and consist of a single \"token\", meaning continuous text with underscores separating the words.\n",
        "####Using Variables\n",
        "\n",
        "Once we have a variable, we can access its value by using its name. For example, this will print 100:\n",
        "\n",
        "print(my_height)\n",
        "\n",
        "And this will print Lane:\n",
        "\n",
        "print(my_name)\n",
        "\n",
        "####Assignment\n",
        "\n",
        "We need to keep track of our hero's health!\n",
        "\n",
        "On the first line of code, create a new variable named player_health and set it equal to 1000."
      ],
      "metadata": {
        "id": "u0dVLAZ5_LOG"
      },
      "execution_count": null,
      "outputs": []
    },
    {
      "cell_type": "code",
      "source": [
        "player_health = 1000\n",
        "\n",
        "# don't touch below this line\n",
        "\n",
        "print(player_health)"
      ],
      "metadata": {
        "id": "aVRr2iLi_bWS"
      },
      "execution_count": null,
      "outputs": []
    },
    {
      "cell_type": "markdown",
      "source": [
        "#Variables Vary\n",
        "\n",
        "Variables are called \"variables\" because they can hold any value and that value can change (it varies).\n",
        "\n",
        "For example, this code prints 20:\n",
        "\n",
        "acceleration = 10\n",
        "acceleration = 20\n",
        "print(acceleration)\n",
        "\n",
        "The line acceleration = 20 reassigns the value of acceleration to 20. It overwrites whatever was being held in the acceleration variable before (10 in this case).\n",
        "Assignment\n",
        "\n",
        "We need to reduce our hero's health as they take damage.\n",
        "\n",
        "Before each print() function in the provided code, change the value of player_health to 100 less than it was before.\n",
        "\n",
        "The final output should look like this:\n",
        "\n",
        "900\n",
        "800\n",
        "700\n",
        "600\n"
      ],
      "metadata": {
        "id": "qwVy6WtWA60N"
      }
    },
    {
      "cell_type": "code",
      "source": [
        "player_health = 1000\n",
        "\n",
        "# reduce by 100 here\n",
        "player_health = 900\n",
        "print(player_health)\n",
        "\n",
        "# and here\n",
        "player_health = 800\n",
        "print(player_health)\n",
        "\n",
        "# and here\n",
        "player_health = 700\n",
        "print(player_health)\n",
        "\n",
        "# and here\n",
        "player_health = 600\n",
        "print(player_health)"
      ],
      "metadata": {
        "id": "mnpzt-hOBAV1"
      },
      "execution_count": null,
      "outputs": []
    },
    {
      "cell_type": "markdown",
      "source": [
        "#streak embersstreak embers\n",
        "\n",
        "Storing Results\n",
        "\n",
        "Now that we know how to store and change the value of variables let's do some math!\n",
        "\n",
        "Here are some examples of common mathematical operators in Python syntax.\n",
        "\n",
        "summation = a + b  # Addition\n",
        "difference = a - b # Subtraction\n",
        "product = a * b    # Multiplication\n",
        "quotient = a / b   # Division\n",
        "\n",
        "Parentheses can be used to order math operations.\n",
        "\n",
        "avg = (a + b + c) / 3\n",
        "\n",
        "Assignment\n",
        "\n",
        "Create a new variable called armored_health on line 4 and set it equal to player_health * armor_multiplier"
      ],
      "metadata": {
        "id": "uNcJ6MykBF1b"
      }
    },
    {
      "cell_type": "code",
      "source": [
        "player_health = 1000\n",
        "armor_multiplier = 2\n",
        "\n",
        "# create armored_health here\n",
        "armored_health = player_health * armor_multiplier\n",
        "print(armored_health)"
      ],
      "metadata": {
        "id": "bOvx-06WBGLa"
      },
      "execution_count": null,
      "outputs": []
    },
    {
      "cell_type": "markdown",
      "source": [
        "#Negative Numbers\n",
        "\n",
        "Negative numbers in Python work the way you probably expect. Just add a minus sign:\n",
        "\n",
        "my_negative_num = -1\n",
        "\n",
        "Assignment\n",
        "\n",
        "When our hero walks through poison, their health should go down. Right now the hero is gaining 10 health instead of losing 10 health. Change the poison_damage variable to be negative."
      ],
      "metadata": {
        "id": "T7SsQHDPBpVB"
      }
    },
    {
      "cell_type": "code",
      "source": [
        "player_health = 100\n",
        "poison_damage = -10\n",
        "\n",
        "\n",
        "# don't touch below this line\n",
        "\n",
        "player_poison_health = player_health + poison_damage\n",
        "\n",
        "print(player_poison_health)"
      ],
      "metadata": {
        "id": "Y45eY3w1BqXx"
      },
      "execution_count": null,
      "outputs": []
    },
    {
      "cell_type": "markdown",
      "source": [
        "#Basic Variable Types\n",
        "\n",
        "Python has several basic data types.\n",
        "Strings\n",
        "\n",
        "In programming, snippets of text are called \"strings\". They're lists of characters strung together. We create strings by wrapping the text in single quotes or double quotes. That said, double quotes are preferred.\n",
        "\n",
        "name_with_single_quotes = 'boot.dev' # not so good\n",
        "name_with_double_quotes = \"boot.dev\" # so good\n",
        "\n",
        "Numbers\n",
        "\n",
        "Numbers are not surrounded by quotes when they're declared.\n",
        "\n",
        "An integer (or \"int\") is a number without a decimal part:\n",
        "\n",
        "x = 5 # positive integer\n",
        "y = -5 # negative integer\n",
        "\n",
        "A float is a number with a decimal part:\n",
        "\n",
        "x = 5.2\n",
        "y = -5.2\n",
        "\n",
        "Booleans\n",
        "\n",
        "A \"Boolean\" (or \"bool\") is a type that can only have one of two values: True or False. As you may have heard, computers really only use 1's and 0's. These 1's and 0's are just True/False boolean values.\n",
        "\n",
        "is_tall = True\n",
        "is_short = False\n",
        "\n",
        "Assignment\n",
        "\n",
        "Fix the bugs in the code. player_health should be an integer and player_has_magic should be a boolean."
      ],
      "metadata": {
        "id": "7dwFx1-iB1GG"
      }
    },
    {
      "cell_type": "code",
      "source": [
        "player_health = 100\n",
        "\n",
        "player_has_magic = True\n",
        "\n",
        "# don't touch below this line\n",
        "print(\"player_health is a/an \", type(player_health).__name__)\n",
        "print(\"player_has_magic is a/an \", type(player_has_magic).__name__)"
      ],
      "metadata": {
        "id": "Q71LkD52CCDo"
      },
      "execution_count": null,
      "outputs": []
    },
    {
      "cell_type": "markdown",
      "source": [
        "#Boot.dev\n",
        "Dashboard\n",
        "Courses\n",
        "Billing\n",
        "Community\n",
        "11\n",
        "\n",
        "gem bag\n",
        "\n",
        "No Role\n",
        "\n",
        "Level 5\n",
        "user avatarprofile role frame\n",
        "streak embersstreak embers\n",
        "\n",
        "F-Strings in Python\n",
        "\n",
        "Ever played Pokemon and chosen a funny name so that the in-game messages would come out funny?\n",
        "\n",
        "america strength\n",
        "\n",
        "In Python we can create strings that contain dynamic values with the f-string syntax.\n",
        "\n",
        "num_bananas = 10\n",
        "f_string = f\"You have {num_bananas} bananas\"\n",
        "print(f_string)\n",
        "# You have 10 bananas\n",
        "\n",
        "    Opening quotes must be preceded by an f.\n",
        "    Variables within curly brackets have their values \"interpolated\" (injected) into the string.\n",
        "    It's just a string with a special syntax.\n",
        "\n",
        "Assignment\n",
        "\n",
        "Fix the bug on line 7. Use an f-string to inject the dynamic values into the string:\n",
        "\n",
        "    Replace NAME with the value of the name variable\n",
        "    Replace RACE with the value of the race variable\n",
        "    Replace AGE with the value of the age variable\n",
        "\n",
        "Do not \"hard-code\" the values into the string. For example, this is not the solution we're looking for (even though it happens to work in this case):\n",
        "\n",
        "print(\"Yarl is a dwarf who is 37 years old.\")\n"
      ],
      "metadata": {
        "id": "s7lA386fCNPa"
      }
    },
    {
      "cell_type": "code",
      "source": [
        "name = \"Yarl\"\n",
        "age = 37\n",
        "race = \"dwarf\"\n",
        "\n",
        "# Don't edit above this line\n",
        "\n",
        "print(f\"{name} is a {race} who is {age} years old.\")"
      ],
      "metadata": {
        "id": "BPAgLv9-CRRJ"
      },
      "execution_count": null,
      "outputs": []
    },
    {
      "cell_type": "markdown",
      "source": [
        "#NoneType Variables\n",
        "\n",
        "Not all variables have a value. We can make an \"empty\" variable by setting it to None. None is a special value in Python that represents the absence of a value. It is not the same as zero, False, or an empty string.\n",
        "\n",
        "my_mental_acuity = None\n",
        "\n",
        "The value of my_mental_acuity in this case is None until we use the assignment operator, =, to give it a value.\n",
        "None Is NOT a String\n",
        "\n",
        "NoneType is not the same as a string with a value of \"None\":\n",
        "\n",
        "my_none = None # this is a None-type\n",
        "my_none = \"None\" # this is a string with the value \"None\"\n",
        "\n",
        "Assignment\n",
        "\n",
        "Declare a variable named enemy and set it to None. Don't change the print() function."
      ],
      "metadata": {
        "id": "rzvVgwZwCedN"
      }
    },
    {
      "cell_type": "code",
      "source": [
        "# create the empty \"enemy\" variable here\n",
        "enemy = None\n",
        "\n",
        "# don't touch below this line\n",
        "print(enemy is None)\n"
      ],
      "metadata": {
        "id": "0cGzlkLKCqz7"
      },
      "execution_count": null,
      "outputs": []
    },
    {
      "cell_type": "markdown",
      "source": [
        "#Math With Strings\n",
        "\n",
        "When working with strings the + operator performs a \"concatenation\", which is a fancy word that means \"joining two strings\". Generally speaking, it's better to use string interpolation with f-strings over + concatenation.\n",
        "\n",
        "first_name = \"Lane \"\n",
        "last_name = \"Wagner\"\n",
        "full_name = first_name + last_name\n",
        "print(full_name)\n",
        "# prints \"Lane Wagner\"\n",
        "\n",
        "full_name now holds the value \"Lane Wagner\".\n",
        "\n",
        "Notice the extra space at the end of \"Lane \" in the first_name variable. That extra space is there to separate the words in the final result: \"Lane Wagner\".\n",
        "Assignment\n",
        "\n",
        "We have a second player in our game!\n",
        "\n",
        "We need to tell each of our players how much health they have left.\n",
        "\n",
        "    Edit line 9 to print Player 1's health: You have 1200 health using string concatenation and the variables provided\n",
        "    Edit line 10 to print Player 2's health: You have 1100 health in the same way\n"
      ],
      "metadata": {
        "id": "iIhEvHVsC1Ex"
      }
    },
    {
      "cell_type": "code",
      "source": [
        "sentence_start = \"You have \"\n",
        "sentence_end = \" health\"\n",
        "\n",
        "player1_health = \"1200\"\n",
        "player2_health = \"1100\"\n",
        "\n",
        "# Don't edit above this line\n",
        "\n",
        "print('You have 1200 health')\n",
        "print('You have 1100 health')"
      ],
      "metadata": {
        "id": "PTKt451jDDfc"
      },
      "execution_count": null,
      "outputs": []
    },
    {
      "cell_type": "markdown",
      "source": [
        "#Boots\n",
        "\n",
        "You may have already figured this out by now, but below the lesson explanation (or in the Boots tab on mobile), there's an adorable bear-wizard named Boots.\n",
        "\n",
        "His job is to help you when if you get stuck. Here's how:\n",
        "\n",
        "    Boots is an AI chatbot, like ChatGPT, that's been trained on our lessons. When you ask him a question, he already knows:\n",
        "        The official solution\n",
        "        What you've been asked to do\n",
        "        The current state of your code (if you press the clipboard button to paste it in)\n",
        "    He's been trained to not give you the answer (that's bad for learning), but instead to use the Socratic method to help you figure it out. He asks you follow up questions and explains fundamental concepts to keep you moving forward.\n",
        "    Chatting with Boots before you've completed a lesson costs a Baked Salmon (he's a hungry guy), or, if you don't have one, 50% of the XP that you'd earn from completing the lesson. You only need to pay once per lesson to start the conversation.\n",
        "    Chatting with Boots after you've completed a lesson is free. Use this to ask follow up questions, review the concepts, or ask for more examples.\n",
        "\n",
        "Assignment\n",
        "\n",
        "Fantasy Quest's dialogue messages are all jumbled up. Fix it!\n",
        "\n",
        "    Run the code. Notice that nothing prints to the console.\n",
        "    Ask Boots why nothing is printing. You'll need to pay up (just do it). Be sure to click the clipboard icon on the text input to include your code so that he can see it. Notice only what's below the comment is pasted - this is intentional since Boots already has the starting code.\n",
        "    Use Boots to figure out what's wrong, fix the code, then submit it. We're expecting the following output:\n"
      ],
      "metadata": {
        "id": "BUcmKBAcDg3s"
      }
    },
    {
      "cell_type": "code",
      "source": [
        "quest_start = \"You there! Adventurer!\"\n",
        "quest_middle = \"The local mine has been taken over by orcs!\"\n",
        "quest_end = \"We need your help taking it back.\"\n",
        "quest_objective = \"Bring back 8 of their axes as proof of your hard work.\"\n",
        "space = \" \"\n",
        "\n",
        "# don't touch above this line\n",
        "print(quest_start)\n",
        "print(quest_middle)\n",
        "print(quest_end + space + quest_objective)"
      ],
      "metadata": {
        "id": "y4yQ96e7Dj_y"
      },
      "execution_count": null,
      "outputs": []
    },
    {
      "cell_type": "markdown",
      "source": [
        "#Spellbook\n",
        "\n",
        "As you progress through Boot.dev, you might find yourself wanting to:\n",
        "\n",
        "    Take notes\n",
        "    Review concepts you already learned\n",
        "    See more examples of a concept\n",
        "    See an example of some syntax you already learned\n",
        "\n",
        "Your spellbook solves these problems.\n",
        "\n",
        "It's a searchable cheatsheet of everything you've learned on Boot.dev. As you complete lessons, you'll automatically unlock new pages in your spellbook that can be searched at any time. So, if you know what you're looking for, use your spellbook before chatting with Boots, because using the spellbook costs no items or XP!\n",
        "Assignment\n",
        "\n",
        "Competitive Fantasy Quest players – Ballan's Ballers – have won all their games in the elimination round of the tournament. They're now in the finals! Calculate the average score of their 4 games and store it in the average_score variable.\n",
        "\n",
        "The average (or \"mean\") is calculated by adding up all the numbers and dividing by how many numbers there are. Which means first we need to add up all the scores, then divide by 4.\n",
        "\n",
        "Let's use our spellbook to recall the syntax we need:\n",
        "\n",
        "    Find and open the spellbook.\n",
        "        Look at the bottom-right of the lesson text, you'll see a toggle to switch from Boots to your spellbook. Flip the switch to open your spellbook.\n",
        "        On mobile, it's the last tab at the top of the screen.\n",
        "    Search for the concept you'll need for this lesson, maybe \"python math\" or \"order of operations\"\n",
        "\n",
        "Complete the lesson using your spellbook as a reference"
      ],
      "metadata": {
        "id": "iF3ovlSxGTk8"
      }
    },
    {
      "cell_type": "code",
      "source": [
        "game_one_score = 97\n",
        "game_two_score = 92\n",
        "game_three_score = 106\n",
        "game_four_score = 105\n",
        "\n",
        "# Don't touch above this line\n",
        "\n",
        "average_score = (game_one_score + game_two_score + game_three_score + game_four_score) / 4 # ?\n",
        "\n",
        "# Don't touch below this line\n",
        "\n",
        "print(round(average_score))"
      ],
      "metadata": {
        "id": "0Q879bPvGVkJ"
      },
      "execution_count": null,
      "outputs": []
    },
    {
      "cell_type": "markdown",
      "source": [
        "#Character Report\n",
        "\n",
        "One of our interns built a program that prints information about Fantasy Quest player characters. It's almost done, but when you were reviewing his code, you found some bugs.\n",
        "Assignment\n",
        "\n",
        "Fix the bugs to get the character report working!\n",
        "\n",
        "    Run the code to see it fail.\n",
        "    Fix the bug with the f-string on line 9.\n",
        "    Update the syntax so that each variable is the data type you'd expect:\n",
        "        name: String\n",
        "        level: Integer\n",
        "        character_class: String\n",
        "        armor: Float\n",
        "        magic_resistance: Float (keep it equal to 15 but change it to a float)\n",
        "        account_active: Boolean\n"
      ],
      "metadata": {
        "id": "1ujpYWZQG63F"
      }
    },
    {
      "cell_type": "code",
      "source": [
        "name = \"Lopen\"\n",
        "level = 25\n",
        "character_class = \"Windrunner\"\n",
        "armor = 12.4\n",
        "magic_resistance = 15.0\n",
        "account_active = True\n",
        "\n",
        "print(\"Character Report\")\n",
        "print(f\"{name} is a level {level} {character_class}.\")\n",
        "print(f\"They have {armor} armor and {magic_resistance} magic resistance.\")\n",
        "print(f\"Their account is currently active: {account_active}.\")\n",
        "\n",
        "# Don't edit below this line\n",
        "\n",
        "print(\"=========================\")\n",
        "print(\"Character Report Complete\")\n",
        "print(\"Data types:\")\n",
        "print(\n",
        "    f\"name: {type(name).__name__}, level: {type(level).__name__}, character_class: {type(character_class).__name__}\"\n",
        ")\n",
        "print(\n",
        "    f\"armor: {type(armor).__name__}, magic_resistance: {type(magic_resistance).__name__}\"\n",
        ")\n",
        "print(f\"account_active: {type(account_active).__name__}\")\n"
      ],
      "metadata": {
        "id": "n6t6nQAIIIO6"
      },
      "execution_count": null,
      "outputs": []
    },
    {
      "cell_type": "markdown",
      "source": [
        "#////////////////////////////5/29\\\\\\\\\\\\\\\\\\\\\\\\\\\\\\\\\\\\\\\\\\\\\\\\\\\\\\\\\\\\\\\\\\\\\\"
      ],
      "metadata": {
        "id": "ZgO9mhvxRimB"
      }
    },
    {
      "cell_type": "markdown",
      "source": [
        "#Functions\n",
        "\n",
        "\n",
        "Functions allow us to reuse and organize code. For example, say we have some code that calculates the area of a circle:\n",
        "\n",
        "radius = 5\n",
        "area = 3.14 * radius * radius\n",
        "\n",
        "That works! The problem is when we want to calculate the area of other circles, each with its own radius. We could just copy the code and change the variable names like this:\n",
        "\n",
        "radius = 5\n",
        "area1 = 3.14 * radius * radius\n",
        "\n",
        "radius2 = 7\n",
        "area2 = 3.14 * radius2 * radius2\n",
        "\n",
        "But we want to reuse our code! Why would we want to redo our work? What if we wanted to calculate the area of thousands of circles??? That's where functions help.\n",
        "\n",
        "Instead, we can define a new function called area_of_circle using the def keyword.\n",
        "\n",
        "def area_of_circle(r):\n",
        "    pi = 3.14\n",
        "    result = pi * r * r\n",
        "    return result\n",
        "\n",
        "Let's break this area_of_circle function down:\n",
        "\n",
        "    It takes one input (aka \"parameter\" or \"argument\") called r\n",
        "    The body of the function is indented - this is the code that will run each time we use (aka \"call\") the function\n",
        "    It returns a single value (the output of the function). In this case, it's the value stored in the result variable\n",
        "\n",
        "To \"call\" this function (fancy programmer speak for \"use this function\") we can pass in any number as the argument (in this case, 5) for the parameter r, and capture the output into a new variable:\n",
        "\n",
        "area = area_of_circle(5)\n",
        "print(area)\n",
        "# 78.5\n",
        "\n",
        "    5 goes in as the input r\n",
        "    The body of the function runs, which stores 78.5 in the result variable\n",
        "    The function returns the value 78.5, which means the area_of_circle(5) expression evaluates to 78.5\n",
        "    78.5 is stored in the area variable and then printed\n",
        "\n",
        "Because we've already defined the function, now we can use it as many times as we want with different inputs!\n",
        "\n",
        "area = area_of_circle(6)\n",
        "print(area)\n",
        "# 113.04\n",
        "\n",
        "area = area_of_circle(7)\n",
        "print(area)\n",
        "# 153.86\n",
        "\n",
        "\n",
        "####Assignment\n",
        "\n",
        "We need to calculate the size of a weapon's \"attack area\". With a 1.0 meter sword, for example, a player can attack in an area of 3.14 square meters around them. You can use the area_of_circle function to do that calculation.\n",
        "\n",
        "Fix the bug on line 13 by calling the area_of_circle function with the spear_length as input and store the result in the spear_area variable."
      ],
      "metadata": {
        "id": "dr9S1EwtQBui"
      }
    },
    {
      "cell_type": "code",
      "source": [
        "def area_of_circle(radius):\n",
        "    pi = 3.14\n",
        "    area = pi * radius * radius\n",
        "    return area\n",
        "\n",
        "\n",
        "sword_length = 1.0\n",
        "spear_length = 2.0\n",
        "\n",
        "# don't touch above this line\n",
        "\n",
        "sword_area = area_of_circle(sword_length)\n",
        "spear_area = area_of_circle(spear_length)\n",
        "\n",
        "# don't touch below this line\n",
        "\n",
        "print(\"Sword length:\", sword_length, \"meters.\")\n",
        "print(\"Sword attack area:\", sword_area, \"square meters\")\n",
        "\n",
        "print(\"Spear length:\", spear_length, \"meters.\")\n",
        "print(\"Spear attack area:\", spear_area, \"square meters\")\n"
      ],
      "metadata": {
        "id": "qsALMrGFRdSA"
      },
      "execution_count": null,
      "outputs": []
    },
    {
      "cell_type": "markdown",
      "source": [
        "#Multiple Parameters\n",
        "\n",
        "Functions can have multiple parameters (\"parameter\" being a fancy word for \"input\"). For example, this subtract function accepts 2 parameters: a and b.\n",
        "\n",
        "def subtract(a, b):\n",
        "    result = a - b\n",
        "    return result\n",
        "\n",
        "The name of a parameter doesn't matter when it comes to which values will be assigned to which parameter. It's position that matters. The first parameter will become the first value that's passed in, the second parameter is the second value that's passed in, and so on. In this example, the subtract function is called with a = 5 and b = 3:\n",
        "\n",
        "result = subtract(5, 3)\n",
        "print(result)\n",
        "# 2\n",
        "\n",
        "Here's an example with four parameters:\n",
        "\n",
        "def create_introduction(name, age, height, weight):\n",
        "    first_part = \"Your name is \" + name + \" and you are \" + age + \" years old.\"\n",
        "    second_part = \"You are \" + height + \" meters tall and weigh \" + weight + \" kilograms.\"\n",
        "    full_intro = first_part + \" \" + second_part\n",
        "    return full_intro\n",
        "\n",
        "It can be called like this:\n",
        "\n",
        "my_name = \"John\"\n",
        "my_age = \"30\"\n",
        "\n",
        "intro = create_introduction(my_name, my_age, \"1.8\", \"80\")\n",
        "print(intro)\n",
        "# Your name is John and you are 30 years old. You are 1.8 meters tall and weigh 80 kilograms.\n",
        "\n",
        "##Assignment\n",
        "\n",
        "We need to calculate the total damage from a combo of three damaging attacks. Complete the triple_attack function by returning the sum of its parameters, damage_one, damage_two, and damage_three."
      ],
      "metadata": {
        "id": "ie_hieGiR-L2"
      }
    },
    {
      "cell_type": "code",
      "source": [
        "def triple_attack(damage_one, damage_two, damage_three):\n",
        "    total = damage_one + damage_two + damage_three\n",
        "    return total\n",
        "\n",
        "# Don't touch below this line\n",
        "\n",
        "# This is the first triple attack\n",
        "attack_one = 2\n",
        "attack_two = 4\n",
        "attack_three = 3\n",
        "first_triple_attack_damage = triple_attack(attack_one, attack_two, attack_three)\n",
        "\n",
        "print(\"Getting damage for\", attack_one, attack_two, \"and\", attack_three, \"...\")\n",
        "print(first_triple_attack_damage, \"points of damage dealt!\")\n",
        "print(\"=====================================\")\n",
        "# This is the second triple attack\n",
        "attack_four = -1\n",
        "attack_five = 10\n",
        "attack_six = 5\n",
        "second_triple_attack_damage = triple_attack(attack_four, attack_five, attack_six)\n",
        "\n",
        "print(\"Getting damage for\", attack_four, attack_five, \"and\", attack_six, \"...\")\n",
        "print(second_triple_attack_damage, \"points of damage dealt!\")\n",
        "print(\"=====================================\")"
      ],
      "metadata": {
        "id": "IUV0Ay1keo3G"
      },
      "execution_count": null,
      "outputs": []
    },
    {
      "cell_type": "markdown",
      "source": [
        "#Printing vs. Returning\n",
        "\n",
        "Some new developers get hung up on the difference between print() and return.\n",
        "\n",
        "It can be particularly confusing when the test suite we provide simply prints the output of your functions to the console. It makes it seem like print() and return are interchangeable, but they are not!\n",
        "\n",
        "    print() is a function that:\n",
        "        Prints a value to the console\n",
        "        Does not return a value\n",
        "    return is a keyword that:\n",
        "        Ends the current function's execution\n",
        "        Provides a value (or values) back to the caller of the function\n",
        "        Does not print anything to the console (unless the return value is later print()ed)\n",
        "\n",
        "##Printing to Debug Your Code\n",
        "\n",
        "Printing values and running your code is a great way to debug your code. You can see what values are stored in various variables, find your mistakes, and fix them. Add print statements and run your code as you go! It's a great habit to get into to make sure that each line you write is doing what you expect it to do.\n",
        "\n",
        "In the real world it's rare to leave print() statements in your code when you're done debugging. Similarly, you need to remember to remove any print() statements from your code before submitting your work here on Boot.dev because it will interfere with the tests!\n",
        "##Assignment\n",
        "\n",
        "There's a problem in the get_title function! It's supposed to calculate the title value and return it to the caller. Instead, it's barbarically printing the value to the console.\n",
        "\n",
        "Fix the function so that it returns the title instead of printing it to the console."
      ],
      "metadata": {
        "id": "RfOdR7lceptU"
      }
    },
    {
      "cell_type": "code",
      "source": [
        "def get_title(first_name, last_name, job):\n",
        "    title = first_name + \" \" + last_name + \" the \" + job\n",
        "    return(title)\n",
        "\n",
        "# Don't touch below this line\n",
        "\n",
        "\n",
        "def test(first_name, last_name, job):\n",
        "    title = get_title(first_name, last_name, job)\n",
        "    print(\"First name:\", first_name)\n",
        "    print(\"Last name:\", last_name)\n",
        "    print(\"Job:\", job)\n",
        "    print(\"Title:\", title)\n",
        "    print(\"=====================================\")\n",
        "\n",
        "\n",
        "test(\"Frodo\", \"Baggins\", \"warrior\")\n",
        "test(\"Bilbo\", \"Baggins\", \"thief\")\n",
        "test(\"Gandalf\", \"The Grey\", \"wizard\")\n",
        "test(\"Aragorn\", \"Son of Arathorn\", \"ranger\")\n"
      ],
      "metadata": {
        "id": "SIFBfcVYe1BK"
      },
      "execution_count": null,
      "outputs": []
    },
    {
      "cell_type": "markdown",
      "source": [
        "#Where to Declare Functions\n",
        "\n",
        "You've probably noticed that a variable needs to be declared before it's used. For example, the following doesn't work:\n",
        "\n",
        "print(my_name)\n",
        "my_name = 'Lane Wagner'\n",
        "# NameError: 'my_name' is not defined\n",
        "\n",
        "It needs to be:\n",
        "\n",
        "my_name = 'Lane Wagner'\n",
        "print(my_name)\n",
        "# Lane Wagner\n",
        "\n",
        "Code executes in order from top to bottom, so a variable needs to be created before it can be used. That means that if you define a function, you can't call that function until after it has been defined.\n",
        "##Assignment\n",
        "\n",
        "There's a bug! It looks like we are trying to call a function before it was defined! Run the code and read the printed error, then fix it."
      ],
      "metadata": {
        "id": "F8Ph59NKe6dB"
      }
    },
    {
      "cell_type": "code",
      "source": [
        "def main():\n",
        "    print(\"Fantasy Quest is booting up...\")\n",
        "    print(\"Game is running!\")\n",
        "\n",
        "main()"
      ],
      "metadata": {
        "id": "yFYVWmKlfHfG"
      },
      "execution_count": null,
      "outputs": []
    },
    {
      "cell_type": "markdown",
      "source": [
        "#Discord\n",
        "\n",
        "Getting help is a critical part of learning to code (and even in your day to day working as a developer). We've already talked about Boots and spellbooks, which are great first lines of defense. But what else can you do?\n",
        "\n",
        "First, it's totally normal to look stuff up online as you work on Boot.dev. It's not cheating. It's impossible to memorize everything, and it's frankly just not necessary, even as a professional developer.\n",
        "\n",
        "Second, sometimes you just need a human. Luckily, we have an amazing Discord community full of developers and fellow students ready to help you out. So,\n",
        "\n",
        "    Open our Discord community page\n",
        "    Join the server and sync your account\n",
        "    With your account linked up, you'll be able to chat with other learners and mentors, as well as use the #help forums to ask questions\n",
        "    Additionally, if you help others in the Discord, you'll earn karma that will help you earn fellowship achievements\n",
        "\n",
        "##Assignment\n",
        "\n",
        "Enough Discord talk, back to writing code.\n",
        "\n",
        "In Fantasy Quest, characters lose health due to heat exhaustion. The game tracks the temperature in Freedom units (Fahrenheit), but we need to display the temperature in Celsius for players outside the US. Here's the formula to calculate the temperature in Celsius from Fahrenheit (f):\n",
        "\n",
        "5/9 * (f - 32)\n",
        "\n",
        "Complete the to_celsius function body. It should return the temperature in Celsius for a given Fahrenheit temperature (f parameter).\n",
        "\n"
      ],
      "metadata": {
        "id": "c_Y6k7SFfI30"
      }
    },
    {
      "cell_type": "code",
      "source": [
        "def to_celsius(f):\n",
        "    # ?\n",
        "    temp = 5/9 * (f - 32)\n",
        "    return temp\n",
        "\n",
        "\n",
        "## Don't touch below this line\n",
        "\n",
        "\n",
        "def test(f):\n",
        "    c = round(to_celsius(f), 2)\n",
        "    print(f, \"degrees fahrenheit is\", c, \"degrees celsius\")\n",
        "\n",
        "\n",
        "test(100)\n",
        "test(88)\n",
        "test(104)\n",
        "test(112)\n"
      ],
      "metadata": {
        "id": "PKrYV5tsht9R"
      },
      "execution_count": null,
      "outputs": []
    },
    {
      "cell_type": "code",
      "source": [
        "def to_celsius(f):\n",
        "    # ?\n",
        "    temp = 5/9 * (f - 32)\n",
        "    return temp\n",
        "\n",
        "\n",
        "## Don't touch below this line\n",
        "\n",
        "\n",
        "def test(f):\n",
        "    c = round(to_celsius(f), 2)\n",
        "    print(f, \"degrees fahrenheit is\", c, \"degrees celsius\")\n",
        "\n",
        "\n",
        "test(100)\n",
        "test(88)\n",
        "test(104)\n",
        "test(112)"
      ],
      "metadata": {
        "id": "Ch5SgOfoj65J"
      },
      "execution_count": null,
      "outputs": []
    },
    {
      "cell_type": "markdown",
      "source": [
        "#Solutions\n",
        "\n",
        "Okay, I just need to tell you about one last recourse you have when you're stuck. Every lesson on Boot.dev has an instructor solution that you can view!\n",
        "\n",
        "Like Boots, solutions come at a cost... a steeper one in fact. If you view a solution before you complete the lesson, you'll lose all the XP for that lesson. Well, unless you use a seer stone - in which case you won't lose any XP. Though you will be down a seer stone.\n",
        "\n",
        "Just like it's free to use Boots after a lesson is complete, viewing a solution after you've completed the lesson is free as well. In fact, we encourage you to frequently check your work against ours, often times there's something to learn from the differences.\n",
        "\n",
        "View solutions sparingly. If you find yourself using the solution before completion more than about once per chapter you should consider slowing down, asking for help in the discord, and even resetting lessons and trying them again to build a stronger foundation.\n",
        "##Assignment\n",
        "\n",
        "Enough about solution mechanics, let's write more code.\n",
        "\n",
        "We need to display the current time to our players. The problem is that the time is stored as a number of hours, but we want to display it as a number of seconds. There are 60 seconds in a minute, but how many are in an hour?\n",
        "\n",
        "Complete the hours_to_seconds function. It should convert hours to seconds and return the result."
      ],
      "metadata": {
        "id": "6SxwMVFpj74f"
      }
    },
    {
      "cell_type": "code",
      "source": [
        "def hours_to_seconds(hours):\n",
        "    # ?\n",
        "    secs = 3600 * hours\n",
        "    return secs\n",
        "\n",
        "# Don't touch below this line\n",
        "\n",
        "\n",
        "def test(hours):\n",
        "    secs = hours_to_seconds(hours)\n",
        "    print(hours, \"hours is\", secs, \"seconds\")\n",
        "\n",
        "\n",
        "test(10)\n",
        "test(1)\n",
        "test(25)\n",
        "test(100)\n",
        "test(33)"
      ],
      "metadata": {
        "id": "uVAReeOEkExr"
      },
      "execution_count": null,
      "outputs": []
    },
    {
      "cell_type": "markdown",
      "source": [
        "#Multiple Return Values\n",
        "\n",
        "A function can return more than one value by separating them with commas.\n",
        "\n",
        "def cast_iceblast(wizard_level, start_mana):\n",
        "    damage = wizard_level * 2\n",
        "    new_mana = start_mana - 10\n",
        "    return damage, new_mana # return two values\n",
        "\n",
        "##Receiving Multiple Values\n",
        "\n",
        "When calling a function that returns multiple values, you can assign them to multiple variables.\n",
        "\n",
        "dmg, mana = cast_iceblast(5, 100)\n",
        "print(f\"Damage: {dmg}, Remaining Mana: {mana}\")\n",
        "Damage: 10, Remaining Mana: 90\n",
        "\n",
        "When cast_iceblast is called, it returns two values. The first value is assigned to dmg, and the second value is assigned to mana. Just like function inputs, it's the order of the values that matters, not the variable names. We could just as easily called the variables one and two:\n",
        "\n",
        "one, two = cast_iceblast(5, 100)\n",
        "print(f\"Damage: {one}, Remaining Mana: {two}\")\n",
        "Damage: 10, Remaining Mana: 90\n",
        "\n",
        "That said, descriptive variable names make your code easy to understand, so use them!\n",
        "##What Happened to the Variables?\n",
        "\n",
        "The damage and new_mana variables from cast_iceblast's function body only exist inside of the function. They can't be used outside of the function. We'll explain that more later when we talk about scope.\n",
        "##Assignment\n",
        "\n",
        "Complete the become_warrior function. It accepts 2 inputs: the full_name string, and the power integer. It should return 2 values: a \"title\" string and a \"new power\" integer.\n",
        "\n",
        "    Create the title using f-strings. Combine full_name with \"the warrior\" in this format:\n",
        "\n",
        "full_name the warrior\n",
        "\n",
        "    Create the new_power value that is equal to the input power plus one.\n",
        "    Return both title and new_power\n"
      ],
      "metadata": {
        "id": "GW_vXC_KkHQA"
      }
    },
    {
      "cell_type": "code",
      "source": [
        "def become_warrior(full_name, power):\n",
        "    # ?\n",
        "    title = f\"{full_name} the warrior\"\n",
        "    new_power = power + 1\n",
        "    return title, new_power\n",
        "\n",
        "# Don't edit below this line\n",
        "\n",
        "\n",
        "def main():\n",
        "    test(\"Frodo Baggins\", 5)\n",
        "    test(\"Bilbo Baggins\", 10)\n",
        "    test(\"Gandalf The Grey\", 9000)\n",
        "\n",
        "\n",
        "def test(input1, input2):\n",
        "    result1, result2 = become_warrior(input1, input2)\n",
        "    print(result1, \"has a power level of:\", result2)\n",
        "\n",
        "\n",
        "main()"
      ],
      "metadata": {
        "id": "Lm65vN6N7Yf3"
      },
      "execution_count": null,
      "outputs": []
    },
    {
      "cell_type": "markdown",
      "source": [
        "#Default Values\n",
        "\n",
        "In Python you can specify a default value for a function argument. It's nice for when a function has arguments that are \"optional\". You as the function definer can specify a specific default value in case the caller doesn't provide one.\n",
        "\n",
        "A default value is created by using the assignment (=) operator in the function signature.\n",
        "\n",
        "def get_greeting(email, name=\"there\"):\n",
        "    print(\"Hello\", name, \"welcome! You've registered your email:\", email)\n",
        "\n",
        "get_greeting(\"lane@example.com\", \"Lane\n",
        "\n",
        "**Hello Lane welcome! You've registered your email: lane@example.com**\n",
        "\n",
        "get_greeting(\"lane@example.com\")\n",
        "\n",
        "**Hello there welcome! You've registered your email: lane@example.com**\n",
        "\n",
        "If the second parameter is omitted, the default \"there\" value will be used in its place. As you may have guessed, for this structure to work, optional arguments (the ones with defaults) must come after all required arguments.\n",
        "Assignment\n",
        "\n",
        "Complete the get_punched and get_slashed functions. They both take 2 integers as arguments, health and armor.\n",
        "\n",
        "    Complete the get_punched function:\n",
        "        Change the armor parameter to have a default value of 0\n",
        "        Create a damage variable equal to 50 minus the armor - the armor reduces the damage\n",
        "        Create a new_health variable equal to the input health minus damage - we apply the damage\n",
        "        Return new_health\n",
        "    Complete the get_slashed function\n",
        "        Change the armor parameter to have a default value of 0\n",
        "        Create a damage variable equal to 100 minus the armor\n",
        "        Create a new_health variable equal to the input health minus damage\n",
        "        Return new_health\n",
        "\n"
      ],
      "metadata": {
        "id": "tc3ne3jEHwjI"
      }
    },
    {
      "cell_type": "code",
      "source": [
        "def get_punched(health, armor=0):\n",
        "    # ?\n",
        "    damage = 50 - armor\n",
        "    new_health = health - damage\n",
        "    return new_health\n",
        "\n",
        "def get_slashed(health, armor=0):\n",
        "    # ?\n",
        "    damage = 100 - armor\n",
        "    new_health = health - damage\n",
        "    return new_health\n",
        "\n",
        "# Don't touch below this line\n",
        "\n",
        "def test(health, armor):\n",
        "    print(f\"Running tests for health {health} and armor {armor}\")\n",
        "    print(\"========================================\")\n",
        "    print(f\"Health: {health}, Armor: {armor}\")\n",
        "    print(f\"Health after punch: {get_punched(health, armor)}\")\n",
        "    print(\"----------------------------------------\")\n",
        "    print(f\"Health: {health}, Armor: {armor}\")\n",
        "    print(f\"Health after slash: {get_slashed(health, armor)}\")\n",
        "    print(\"----------------------------------------\")\n",
        "    print(f\"Health: {health}, Armor: no armor!\")\n",
        "    print(f\"Health after slash: {get_slashed(health)}\")\n",
        "    print(\"----------------------------------------\")\n",
        "    print(f\"Health: {health}, Armor: no armor!\")\n",
        "    print(f\"Health after punch: {get_punched(health)}\")\n",
        "    print(\"----------------------------------------\\n\")\n",
        "\n",
        "\n",
        "test(400, 5)\n",
        "test(300, 3)\n",
        "test(200, 1)\n"
      ],
      "metadata": {
        "id": "RNXVHadaIVjV"
      },
      "execution_count": 2,
      "outputs": []
    },
    {
      "cell_type": "markdown",
      "source": [
        "#Curse\n",
        "\n",
        "An enemy's weapons can be cursed so that they don't deal as much damage.\n",
        "##Assignment\n",
        "\n",
        "Complete the curse function. It accepts a weapon_damage parameter and returns two values:\n",
        "\n",
        "    The lesser_cursed damage: reduce the input weapon_damage from 100% to 50% (50% reduction).\n",
        "    The greater_cursed damage: reduce the input weapon_damage from 100% to 25% (75% reduction).\n",
        "\n",
        "A greater curse is more powerful than a lesser curse, so it reduces the damage more."
      ],
      "metadata": {
        "id": "WbT0qyfVLu2w"
      }
    },
    {
      "cell_type": "code",
      "source": [
        "def curse(weapon_damage):\n",
        "    # ?\n",
        "    lesser_cursed = weapon_damage * 0.5\n",
        "    greater_cursed = weapon_damage * 0.25\n",
        "    return lesser_cursed, greater_cursed\n",
        "# Don't modify below this line\n",
        "\n",
        "\n",
        "def test(weapon_damage):\n",
        "    print(\"Weapon's base damage:\", float(weapon_damage))\n",
        "    print(\"Cursing...\")\n",
        "    lesser_cursed, greater_cursed = curse(weapon_damage)\n",
        "    print(\"With lesser curse the damage is:\", float(lesser_cursed), \"damage.\")\n",
        "    print(\"With greater curse the damage is:\", float(greater_cursed), \"damage.\")\n",
        "    print(\"=====================================\")\n",
        "\n",
        "\n",
        "def main():\n",
        "    test(100)\n",
        "    test(500)\n",
        "    test(1000)\n",
        "\n",
        "\n",
        "main()\n"
      ],
      "metadata": {
        "id": "I9-BVw1rPYZ2"
      },
      "execution_count": null,
      "outputs": []
    },
    {
      "cell_type": "markdown",
      "source": [
        "#Enchant and Attack\n",
        "\n",
        "In Fantasy Quest, a weapon can be enchanted to do bonus damage.\n",
        "##Assignment\n",
        "\n",
        "Complete the enchant_and_attack function. It creates a new \"enchanted\" name for a weapon and calculates how much damage the enchanted weapon will deal to a targeted enemy.\n",
        "\n",
        "It accepts 3 parameters:\n",
        "\n",
        "    target_health: integer\n",
        "    damage: integer\n",
        "    weapon: string\n",
        "\n",
        "It should do the following things in the function body:\n",
        "\n",
        "    Calculate and store the \"enchanted damage\" in a new variable. The enchanted damage should be the input damage plus 10.\n",
        "    Calculate and store the \"new health\" in a new variable. The new health should be the input target_health minus the enchanted damage.\n",
        "    Create a new variable called enchanted_weapon. It should be the input weapon with the string \"enchanted \" added to the beginning of it. For example:\n",
        "        sword -> enchanted sword\n",
        "        axe -> enchanted axe\n",
        "    Return the enchanted weapon and the new health in that order.\n"
      ],
      "metadata": {
        "id": "ak_IR92CPa_Q"
      }
    },
    {
      "cell_type": "code",
      "source": [
        "def enchant_and_attack(target_health, damage, weapon):\n",
        "    # ?\n",
        "    enchanted_damage = damage + 10\n",
        "    new_health = target_health - enchanted_damage\n",
        "    enchanted_weapon = \"enchanted\" + weapon\n",
        "    return enchanted_weapon, new_health\n",
        "\n",
        "# Don't modify below this line\n",
        "\n",
        "\n",
        "def test(target_health, damage, weapon):\n",
        "    print(f\"The target has {target_health} health.\")\n",
        "    print(f\"{weapon} base damage: {damage} - Enchanting and attacking.\")\n",
        "    enchanted_weapon, new_health = enchant_and_attack(target_health, damage, weapon)\n",
        "    print(f\"The target has been attacked with the {enchanted_weapon}.\")\n",
        "    print(f\"The target has {new_health} health remaining.\")\n",
        "    print(\"=====================================\")\n",
        "\n",
        "\n",
        "def main():\n",
        "    test(100, 50, \"sword\")\n",
        "    test(500, 100, \"axe\")\n",
        "    test(1000, 250, \"bow\")\n",
        "\n",
        "\n",
        "main()"
      ],
      "metadata": {
        "id": "y94VibbVRbpC"
      },
      "execution_count": null,
      "outputs": []
    },
    {
      "cell_type": "markdown",
      "source": [
        "#SCOPE\n",
        "\n",
        "Scope refers to where a variable or function name is available to be used. For example, when we create variables in a function (such as by giving names to our parameters), that data is not available outside of that function.\n",
        "##Example\n",
        "\n",
        "def subtract(x, y):\n",
        "    return x - y\n",
        "result = subtract(5, 3)\n",
        "print(x)\n",
        "ERROR! \"name 'x' is not defined\"\n",
        "\n",
        "When the subtract function is called, we assign 5 to the variable x, but x only exists in the code within the subtract function. If we try to print x outside of that function, then we won't get a result. In fact, we'll get a big fat error.\n",
        "\n",
        "##Assignment\n",
        "\n",
        "Find the bug in the code on line 10. We're using variable names from the wrong scope. Fix it!"
      ],
      "metadata": {
        "id": "xwBNQAgKRc_C"
      }
    },
    {
      "cell_type": "code",
      "source": [
        "def get_max_health(modifier, level):\n",
        "    return modifier * level\n",
        "\n",
        "\n",
        "my_modifier = 5\n",
        "my_level = 10\n",
        "\n",
        "## don't touch above this line\n",
        "\n",
        "max_health = get_max_health(my_modifier, my_level)\n",
        "\n",
        "# don't touch below this line\n",
        "\n",
        "print(f\"max_health is: {max_health}\")"
      ],
      "metadata": {
        "id": "6wG1nhRBS6B-"
      },
      "execution_count": null,
      "outputs": []
    },
    {
      "cell_type": "markdown",
      "source": [
        "#Global Scope\n",
        "\n",
        "So far we've been working in the global scope. That means that when we define a variable or a function, that name is accessible in every other place in our program, even within other functions.\n",
        "\n",
        "For example:\n",
        "\n",
        "pi = 3.14\n",
        "\n",
        "def get_area_of_circle(radius):\n",
        "    return pi * radius * radius\n",
        "\n",
        "Because pi was declared in the parent \"global\" scope, it is usable within the get_area_of_circle() function.\n",
        "##Assignment\n",
        "\n",
        "Let's change how we are calculating our player's stats! The only thing we should need to define globally is the character level and then let our functions do the rest!\n",
        "\n",
        "Declare the variable player_level at the top of the global scope and set it to 4."
      ],
      "metadata": {
        "id": "O1TKIlmhS7nj"
      }
    },
    {
      "cell_type": "code",
      "source": [
        "player_level = 4\n",
        "# Don't touch below this line\n",
        "\n",
        "\n",
        "def calculate_health(modifier):\n",
        "    return player_level * modifier\n",
        "\n",
        "\n",
        "def calculate_primary_stats(armor_bonus, modifier):\n",
        "    return armor_bonus + modifier + player_level\n",
        "\n",
        "\n",
        "print(f\"Character has {calculate_health(10)} max health.\")\n",
        "\n",
        "print(f\"Character has {calculate_primary_stats(3, 8)} primary stats.\")"
      ],
      "metadata": {
        "id": "MwoBjlD-TQSb"
      },
      "execution_count": null,
      "outputs": []
    },
    {
      "cell_type": "markdown",
      "source": [
        "#Unit Tests\n",
        "\n",
        "Up until this point, all the coding lessons you've completed have been testing you based on your code's console output (what's printed). For example, a lesson might expect your code (in conjunction with the code we provide) to print something like:\n",
        "\n",
        "Armor: 2\n",
        "Health: 18\n",
        "\n",
        "If your code prints that exact output, you pass. If it doesn't, you fail.\n",
        "##A New Type of Lesson\n",
        "\n",
        "Going forward, you'll encounter a new type of lesson: unit tests. A unit test is just an automated program that tests a small \"unit\" of code. Usually just a function or two. The editor will have tabs: the \"main.py\" file containing your code, and the \"main_test.py\" file containing the unit tests.\n",
        "\n",
        "These new unit-test-style lessons will test your code's functionality rather than its output. Our tests will call functions in your code with different arguments, and expect certain return values. If your code returns the correct values, you pass. If it doesn't, you fail.\n",
        "\n",
        "There are two reasons for this change:\n",
        "\n",
        "    It's more realistic. In the real world, you'll be writing unit tests and running them against your code to make sure it works as expected.\n",
        "    You can run and debug your code with print statements, and leave those print statements in when you submit. Unlike the output-based lessons, you won't have to remove your print statements to pass.\n",
        "\n",
        "##Assignment\n",
        "\n",
        "Complete the total_xp function. It accepts two integers as input:\n",
        "\n",
        "    level\n",
        "    xp_to_add\n",
        "\n",
        "There are 100 xp per level. total_xp should convert the current level to xp, then add this current xp to the xp_to_add argument and return the player's total xp. For example:\n",
        "\n",
        "    If a player is level 1 and gains 100 xp, they have 200 total xp.\n",
        "    If a player is level 2 and gains 250 xp, they have 450 total xp.\n",
        "    If a player is level 170 and gains 590 xp, they have 17590 total xp.\n",
        "\n"
      ],
      "metadata": {
        "id": "0bdPGPPiTRNg"
      }
    },
    {
      "cell_type": "code",
      "source": [
        "def total_xp(level, xp_to_add):\n",
        "    total_xp = 100 * level + xp_to_add\n",
        "    return total_xp\n"
      ],
      "metadata": {
        "colab": {
          "base_uri": "https://localhost:8080/",
          "height": 221
        },
        "id": "WYvV6RViUqOg",
        "outputId": "f5edbdbb-453d-4290-cbfa-398829131efb"
      },
      "execution_count": 5,
      "outputs": [
        {
          "output_type": "error",
          "ename": "NameError",
          "evalue": "name 'total_to_add' is not defined",
          "traceback": [
            "\u001b[0;31m---------------------------------------------------------------------------\u001b[0m",
            "\u001b[0;31mNameError\u001b[0m                                 Traceback (most recent call last)",
            "\u001b[0;32m<ipython-input-5-f4c00c07b3dd>\u001b[0m in \u001b[0;36m<cell line: 0>\u001b[0;34m()\u001b[0m\n\u001b[1;32m      3\u001b[0m     \u001b[0;32mreturn\u001b[0m \u001b[0mtotal_xp\u001b[0m\u001b[0;34m\u001b[0m\u001b[0;34m\u001b[0m\u001b[0m\n\u001b[1;32m      4\u001b[0m \u001b[0;34m\u001b[0m\u001b[0m\n\u001b[0;32m----> 5\u001b[0;31m \u001b[0mtotal_to_add\u001b[0m\u001b[0;34m(\u001b[0m\u001b[0;36m100\u001b[0m\u001b[0;34m)\u001b[0m\u001b[0;34m\u001b[0m\u001b[0;34m\u001b[0m\u001b[0m\n\u001b[0m\u001b[1;32m      6\u001b[0m \u001b[0mtotal_to_add\u001b[0m\u001b[0;34m(\u001b[0m\u001b[0;36m200\u001b[0m\u001b[0;34m)\u001b[0m\u001b[0;34m\u001b[0m\u001b[0;34m\u001b[0m\u001b[0m\n\u001b[1;32m      7\u001b[0m \u001b[0mtotal_to_add\u001b[0m\u001b[0;34m(\u001b[0m\u001b[0;36m300\u001b[0m\u001b[0;34m)\u001b[0m\u001b[0;34m\u001b[0m\u001b[0;34m\u001b[0m\u001b[0m\n",
            "\u001b[0;31mNameError\u001b[0m: name 'total_to_add' is not defined"
          ]
        }
      ]
    },
    {
      "cell_type": "markdown",
      "source": [
        "#Debugging\n",
        "\n",
        "When you're working as a professional developer, you'll typically write code on your computer and test it by yourself before it's deployed to users.\n",
        "\n",
        "That first part of the process is called debugging. You write some code, run it, and if it doesn't work, you fix the bugs. You repeat this process until you're confident that your code works as expected.\n",
        "##Run vs. Submit\n",
        "\n",
        "At Boot.dev, the Run button is for debugging. The Submit button mimics the idea of publishing your code for production use.\n",
        "\n",
        "You should be debugging your code using the Run button. You should be adding print() statements to your code to make sure it's doing what you think it's doing at different points in the code.\n",
        "\n",
        "    Write a line to calculate a value\n",
        "    print() the value you calculated\n",
        "    Run the code\n",
        "    Did it print what you expected? If not, fix it\n",
        "    Repeat\n",
        "\n",
        "You will never lose XP or be penalized on Boot.dev for using the run button. However, there are consequences for submitting broken code, just like there are career consequences for pushing broken code to your users!\n",
        "##The Submit Button Will Run Additional Tests\n",
        "\n",
        "When you use the Run button, a few tests will run against your code. However, the Submit button will run additional tests that you're not able to debug against. That's what keeps it fun and realistic (it's so hard to know what your users will do with your code!).\n",
        "##Assignment\n",
        "\n",
        "Complete the take_magic_damage function. It should return the new health after calculating how much magic-type damage the player takes. Here is a description of the arguments:\n",
        "\n",
        "    health: The player's starting health\n",
        "    resist: The player's magic resistance. This reduces the damage they take by a static amount\n",
        "    amp: The attacker's magic amplification. This increases the damage they deal by a multiplier\n",
        "    spell_power: The base damage of the spell\n",
        "\n",
        "First, calculate the total maximum damage to be inflicted by multiplying the spell_power by the amp. Then, subtract the resist from the total damage to get the actual damage dealt. Apply that damage to the player's health and return the new health."
      ],
      "metadata": {
        "id": "6h983L-rU-D-"
      }
    },
    {
      "cell_type": "code",
      "source": [
        "def take_magic_damage(health, resist, amp, spell_power):\n",
        "    total_damage = spell_power * amp\n",
        "    actual_damage = total_damage - resist\n",
        "    new_health = health - actual_damage\n",
        "    return new_health"
      ],
      "metadata": {
        "id": "WcLHKPloXWmO"
      },
      "execution_count": null,
      "outputs": []
    },
    {
      "cell_type": "markdown",
      "source": [
        "#Debugging Practice\n",
        "\n",
        "I want to walk you through how I approach writing code, complete with all the debugging steps I take along the way.\n",
        "\n",
        "The goal is to write small amounts of code, and then test each bit of code to make sure it's doing what we expect before moving on. Trying to write entire programs at once is a recipe for pain and suffering. The goal is to write a few lines, test them, and then write a few more lines, and repeat until you're done.\n",
        "\n",
        "This isn't a technique that's unique to beginners. Even senior engineers write code this way.\n",
        "##Assignment\n",
        "\n",
        "Let's complete the unlock_achievement function. It accepts 3 arguments:\n",
        "\n",
        "    before_xp: int\n",
        "    ach_xp: int\n",
        "    ach_name: str\n",
        "\n",
        "It should return 2 values:\n",
        "\n",
        "    The player's xp after the achievement is unlocked (The sum of before_xp and ach_xp)\n",
        "    An alert message that says \"Achievement Unlocked: ACHIEVEMENT_NAME\", where ACHIEVEMENT_NAME is the name of the achievement\n",
        "\n",
        "Let's start by running the code in its current state. You should see an error like this:\n",
        "\n",
        "IndentationError: expected an indented block after function definition\n",
        "\n",
        "Hmm... looks like we're getting a syntax error: Python doesn't allow you to have an empty function body. To get past this error, let's just return two dummy values from the function:\n",
        "\n",
        "def unlock_achievement(before_xp, ach_xp, ach_name):\n",
        "    return None, None\n",
        "\n",
        "Run the code again. This time you shouldn't get a syntax error, but your tests should fail because you're returning the incorrect values. Let's fix that.\n",
        "\n",
        "Let's start by calculating the new amount of xp. Update the function body:\n",
        "\n",
        "def unlock_achievement(before_xp, ach_xp, ach_name):\n",
        "    after_xp = before_xp - ach_xp\n",
        "    print(\"After xp:\", after_xp)\n",
        "    return None, None\n",
        "\n",
        "Run the code again. This time you should see the after_xp value printed to the console. Does it look correct? It shouldn't... we have a bug! The after_xp should be the sum of the before_xp and ach_xp values. Fix the code and run it again to make sure it's working.\n",
        "\n",
        "Once that's working, remove the print statement and return the after_xp value instead of the first None. Run the code again. You should see that your tests are closer: The first \"expected\" and \"actual\" values should match for each test. The second return value is still broken, let's fix it!\n",
        "\n",
        "Now that we have the after_xp value, we need to create an alert message. Update the function body:\n",
        "\n",
        "def unlock_achievement(before_xp, ach_xp, ach_name):\n",
        "    after_xp = before_xp + ach_xp\n",
        "    alert = \"Achievement: \" + ach_name\n",
        "    print(alert)\n",
        "    return after_xp, None\n",
        "\n",
        "Run the code. Is the console output what you expect? We want the alert to say:\n",
        "\n",
        "Achievement Unlocked: ACHIEVEMENT_NAME\n",
        "\n",
        "Looks like the output is missing the word \"Unlocked\". Fix the bug, then run the code again to make sure it's working.\n",
        "\n",
        "When you're confident, remove the print statement and return the alert value instead of the second None. Run the code again. You should see that your tests are passing!\n",
        "\n",
        "Now that your tests are passing, submit your code so that it runs against all the test cases. Remember, when you \"run\" instead of submit you're only able to see a few of the tests. The submit button will run all the tests, which might catch bugs you didn't know you had! That's why it's important to debug with print statements and the run button before submitting."
      ],
      "metadata": {
        "id": "I4oCgTwjXYwO"
      }
    },
    {
      "cell_type": "code",
      "source": [
        "def unlock_achievement(before_xp, ach_xp, ach_name):\n",
        "    # ?\n",
        "    after_xp = before_xp + ach_xp\n",
        "    alert = \"Achievement Unlocked: \" + ach_name\n",
        "    return after_xp, alert"
      ],
      "metadata": {
        "id": "in0Ma8N5aVQO"
      },
      "execution_count": null,
      "outputs": []
    },
    {
      "cell_type": "markdown",
      "source": [
        "#Stack Trace\n",
        "\n",
        "A stack trace (or \"traceback\") is a scary-looking error message that the Python interpreter prints to the console when it encounters certain problems. Stack traces are most common (at least for you right now) when you're trying to run invalid Python code.\n",
        "\n",
        "You need to get used to figuring out scary error messages as a programmer. We might as well start now.\n",
        "##Assignment\n",
        "\n",
        "Go ahead and run the code in its current state. You should see something like this:\n",
        "\n",
        "PythonError: Traceback (most recent call last):\n",
        "  File \"<exec>\", line 6, in <module>\n",
        "  File \"<string>\", line 1, in <module>\n",
        "  File \"/home/pyodide/main.py\", line 3\n",
        "    msg = f\"You have {strength} strength, {wisdom} wisdom, and {dexterity} dexterity for a total of {total} stats.\n",
        "                                                                                                                  ^\n",
        "IndentationError: unindent does not match any outer indentation level\n",
        "\n",
        "    PythonError: Traceback (most recent call last):\n",
        "\n",
        "This is a standard header that's just letting us know that a Python traceback is what we're looking at.\n",
        "\n",
        "    File \"<exec>\", line 6, in <module> and File \"<string>\", line 1, in <module>\n",
        "\n",
        "This is the start of the \"trace\". These strange \"<exec>\" and \"<string>\" files don't really exist, the Python interpreter is letting us know about them because they have to do with how your code is executed in a virtual browser-based environment.\n",
        "\n",
        "    File \"/home/pyodide/main.py\", line 3\n",
        "\n",
        "Now we're getting to the real meat of the error message! The purpose of a \"trace\" is to show us the path that the Python interpreter took through our code before it encountered the error, which can help us figure out what went wrong.\n",
        "\n",
        "In this case, the interpreter was executing the code in the main.py file, and it got to line 3 before it encountered the error.\n",
        "\n",
        "    msg = f\"You have {strength} strength, {wisdom} wisdom, and {dexterity} dexterity for a total of {total} stats.\n",
        "\n",
        "This is the line of code that caused the error.\n",
        "\n",
        "    IndentationError: unindent does not match any outer indentation level\n",
        "\n",
        "This is the type of error that was raised. In this case, it's an IndentationError, which means that the Python interpreter was expecting a certain amount of indentation (whitespace at the beginning of the line) but it didn't get what it was expecting.\n",
        "\n",
        "Don't be fooled! The proper amount of indentation in Python is 4 spaces (or one <tab> stroke). In this case, line 2 is actually indented 6 spaces, which is why the interpreter is confused. Fix line 2.\n",
        "\n",
        "Run the code again. You should see another error, this time the last few lines are something like:\n",
        "\n",
        "msg = f\"You have {strength} strength, {wisdom} wisdom, and {dexterity} dexterity for a total of {total} stats.\n",
        "                                                                                                 ^\n",
        "SyntaxError: unterminated string literal (detected at line 3)\n",
        "\n",
        "Now we have a SyntaxError, which is just a more general type of error related to invalid code. Take a close look at line 3 and fix the problem."
      ],
      "metadata": {
        "id": "njvo2yrzafHX"
      }
    },
    {
      "cell_type": "code",
      "source": [
        "def create_stats_message(strength, wisdom, dexterity):\n",
        "    total = strength + wisdom + dexterity\n",
        "    msg = f\"You have {strength} strength, {wisdom} wisdom, and {dexterity} dexterity for a total of {total} stats.\"\n",
        "    return msg"
      ],
      "metadata": {
        "id": "qKfHn2m-bgdG"
      },
      "execution_count": null,
      "outputs": []
    },
    {
      "cell_type": "markdown",
      "source": [
        "#Python Numbers\n",
        "\n",
        "In Python, numbers without a decimal point are called Integers - just like they are in mathematics.\n",
        "\n",
        "Integers are simply whole numbers, positive or negative. For example, 3 and -3 are both examples of integers.\n",
        "\n",
        "Arithmetic can be performed as you might expect:\n",
        "##Addition\n",
        "\n",
        "2 + 1\n",
        "# 3\n",
        "\n",
        "##Subtraction\n",
        "\n",
        "2 - 1\n",
        "# 1\n",
        "\n",
        "##Multiplication\n",
        "\n",
        "2 * 2\n",
        "# 4\n",
        "\n",
        "##Division\n",
        "\n",
        "3 / 2\n",
        "# 1.5 (a float)\n",
        "\n",
        "This one is actually a bit different - division on two integers will actually produce a float. A float is, as you may have guessed, the number type that allows for decimal values.\n",
        "##Assignment\n",
        "\n",
        "Complete the missing sections of the calculate_damage function.\n",
        "\n",
        "    Fix the total_damage variable so that it contains the sum of all the different weapons' and spells' damage values.\n",
        "    Fix the average_damage variable so that it contains the average of the combined weapon and spell damage.\n"
      ],
      "metadata": {
        "id": "KO4qdb--biBP"
      }
    },
    {
      "cell_type": "code",
      "source": [
        "def calculate_damage(sword, arrow, spear, dagger, fireball):\n",
        "    total_damage = sword + arrow + spear + dagger + fireball\n",
        "    average_damage = (sword + arrow + spear + dagger + fireball) / 5\n",
        "    return total_damage, average_damage"
      ],
      "metadata": {
        "id": "HdxHa3CgcIxk"
      },
      "execution_count": null,
      "outputs": []
    },
    {
      "cell_type": "markdown",
      "source": [
        "#Changing in Place\n",
        "\n",
        "It's fairly common to want to change the value of a variable based on its current value.\n",
        "\n",
        "player_score = 4\n",
        "player_score = player_score + 1\n",
        "player_score now equals 5\n",
        "\n",
        "player_score = 4\n",
        "player_score = player_score - 1\n",
        "player_score now equals 3\n",
        "\n",
        "Don't let the fact that the expression player_score = player_score - 1 is not a valid mathematical expression be confusing. It doesn't matter, it is valid code. It's valid because the way the expression should be read in English is:\n",
        "\n",
        "    Assign to player_score the current value of player_score minus 1\n",
        "\n",
        "In this operation, the right-hand side (player_score - 1) is calculated first. Once we have the result, we update player_score with this new value.\n",
        "##Assignment\n",
        "\n",
        "Complete the update_player_score function. It should add increment to current_score and then return the new current_score."
      ],
      "metadata": {
        "id": "fN9xRBurcKut"
      }
    },
    {
      "cell_type": "code",
      "source": [
        "def update_player_score(current_score, increment):\n",
        "    current_score += increment\n",
        "    return current_score"
      ],
      "metadata": {
        "id": "s9R1CBWjdamb"
      },
      "execution_count": null,
      "outputs": []
    },
    {
      "cell_type": "markdown",
      "source": [
        "#Plus Equals\n",
        "\n",
        "Python makes reassignment easy when doing math. In JavaScript or Go, you might be familiar with the ++ syntax for incrementing a number variable by 1. In Python, we use the += in-place operator instead.\n",
        "\n",
        "star_rating = 4\n",
        "star_rating += 1\n",
        "star_rating is now 5\n",
        "\n",
        "##Other Operators\n",
        "\n",
        "The other in-place operators work similarly:\n",
        "\n",
        "star_rating = 4\n",
        "star_rating -= 1\n",
        "star_rating is now 3\n",
        "\n",
        "star_rating = 4\n",
        "star_rating *= 2\n",
        "star_rating is now 8\n",
        "\n",
        "star_rating = 4\n",
        "star_rating /= 2\n",
        "star_rating is now 2.0\n",
        "\n",
        "##Assignment\n",
        "\n",
        "Complete the get_hurt function. It should use the -= in-place operator to subtract damage from current_health and then return the new current_health.\n",
        "\n"
      ],
      "metadata": {
        "id": "KH8vwuMZdbjX"
      }
    },
    {
      "cell_type": "code",
      "source": [
        "def get_hurt(current_health, damage):\n",
        "    current_health -= damage\n",
        "    return current_health\n"
      ],
      "metadata": {
        "id": "Hb4Ty67DfxsS"
      },
      "execution_count": null,
      "outputs": []
    },
    {
      "cell_type": "markdown",
      "source": [
        "#Scientific Notation\n",
        "\n",
        "As we covered earlier, a float is a positive or negative number with a fractional part.\n",
        "\n",
        "You can add the letter e or E followed by a positive or negative integer to specify that you're using scientific notation.\n",
        "\n",
        "print(16e3)\n",
        "# Prints 16000.0\n",
        "\n",
        "print(7.1e-2)\n",
        "# Prints 0.071\n",
        "\n",
        "If you're not familiar with scientific notation, it's a way of expressing numbers that are too large or too small to conveniently write normally.\n",
        "\n",
        "In a nutshell, the number following the e specifies how many places to move the decimal to the right for a positive number, or to the left for a negative number.\n",
        "##Underscores for Readability\n",
        "\n",
        "Python also allows you to represent large numbers in the decimal format using underscores as the delimiter instead of commas to make it easier to read.\n",
        "\n",
        "num = 16_000\n",
        "print(num)\n",
        "Prints 16000\n",
        "\n",
        "num = 16_000_000\n",
        "print(num)\n",
        "Prints 16000000\n",
        "\n",
        "##Assignment\n",
        "\n",
        "Due to the constraints of our app's server, there is a maximum number of players we can have on a single Fantasy Quest server.\n",
        "\n",
        "Complete the max_players_on_server function. It takes no inputs, but simply returns 3 static numbers:\n",
        "\n",
        "    The max players on a \"small\" server: 1,024,000,000,000,000,000 (1.024e18)\n",
        "    The max players on a \"medium\" server: 10,240,000,000,000,000,000\n",
        "    The max players on a \"large\" server: 102,400,000,000,000,000,000\n",
        "\n",
        "Use scientific notation to represent these numbers. For example: 3.104e15."
      ],
      "metadata": {
        "id": "oNc-S3S4f0DT"
      }
    },
    {
      "cell_type": "code",
      "source": [
        "def max_players_on_server():\n",
        "    max_small = 1.024e+18\n",
        "    max_medium = 1.024e+19\n",
        "    max_large = 1.024e+20\n",
        "    return max_small, max_medium, max_large\n",
        "\n",
        "\n",
        "print(1100)"
      ],
      "metadata": {
        "colab": {
          "base_uri": "https://localhost:8080/"
        },
        "id": "K1ZR8pAshgoa",
        "outputId": "8afa5d91-6d48-4d8b-f6cf-c072fa8fe43e"
      },
      "execution_count": 6,
      "outputs": [
        {
          "output_type": "stream",
          "name": "stdout",
          "text": [
            "1100\n"
          ]
        }
      ]
    }
  ]
}
