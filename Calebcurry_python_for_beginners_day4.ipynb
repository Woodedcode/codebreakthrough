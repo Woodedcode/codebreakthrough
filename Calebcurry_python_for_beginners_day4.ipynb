{
  "nbformat": 4,
  "nbformat_minor": 0,
  "metadata": {
    "colab": {
      "provenance": [],
      "authorship_tag": "ABX9TyOIkIzpzQzO5goIhj5xmDSG",
      "include_colab_link": true
    },
    "kernelspec": {
      "name": "python3",
      "display_name": "Python 3"
    },
    "language_info": {
      "name": "python"
    }
  },
  "cells": [
    {
      "cell_type": "markdown",
      "metadata": {
        "id": "view-in-github",
        "colab_type": "text"
      },
      "source": [
        "<a href=\"https://colab.research.google.com/github/Woodedcode/codebreakthrough/blob/main/Calebcurry_python_for_beginners_day4.ipynb\" target=\"_parent\"><img src=\"https://colab.research.google.com/assets/colab-badge.svg\" alt=\"Open In Colab\"/></a>"
      ]
    },
    {
      "cell_type": "markdown",
      "source": [
        "***#Nested Function calls***\n",
        "\n",
        "thing in the inner-most parenthesis happens first\n",
        "\n"
      ],
      "metadata": {
        "id": "NWNsruSFcbKj"
      }
    },
    {
      "cell_type": "code",
      "execution_count": 4,
      "metadata": {
        "colab": {
          "base_uri": "https://localhost:8080/"
        },
        "id": "snYxstUecXTd",
        "outputId": "eee7769f-5c71-4c9c-ebe3-4f04837800c9"
      },
      "outputs": [
        {
          "output_type": "stream",
          "name": "stdout",
          "text": [
            "15\n",
            "15\n"
          ]
        }
      ],
      "source": [
        "import math\n",
        "age = 15\n",
        "\n",
        "#breaking it down\n",
        "age_str = str(age)\n",
        "id_age_str = id(age_str)\n",
        "other = math.floor(2.6)\n",
        "added = id_age_str + other\n",
        "added_str = str(added)\n",
        "length = len(added_str)\n",
        "print(length)\n",
        "\n",
        "print(len(str(id(str(age)) + math.floor(2.6))))"
      ]
    },
    {
      "cell_type": "markdown",
      "source": [
        "#Review"
      ],
      "metadata": {
        "id": "Cs7PJpeXfRbm"
      }
    },
    {
      "cell_type": "code",
      "source": [
        "me = \"Caleb\"\n",
        "\n",
        "#escape character example\n",
        "print(\"\\n\")\n",
        "\n",
        "me = \"C\\ta\\tl\\te\\tb\\n\"\n",
        "\n",
        "print(me)\n",
        "\n",
        "#can also use single quotes\n",
        "you = 'Subscriber'\n",
        "\n",
        "me = \"Caleb\" #reset to normal\n",
        "\n",
        "#passing multiple arguments to print\n",
        "print(me, you)\n",
        "\n",
        "#double quotes and single quotes work the same way with the exception of working with quotes inside.\n",
        "#here are some examples:\n",
        "\n",
        "single_quotes = 'She said \"Hi\"'\n",
        "print(single_quotes)\n",
        "\n",
        "double_quotes = \"She said \\\"Hi\\\"\"\n",
        "print(double_quotes)\n",
        "\n",
        "single_quotes = 'I\\'m learning!'\n",
        "print(single_quotes)\n",
        "\n",
        "double_quotes = \"I'm learning!\"\n",
        "print(double_quotes)\n",
        "\n",
        "#notice we have to escape the same quote as the surrounding quote\n",
        "\n",
        "#Here are the other escape sequences:\n",
        "#https://docs.python.org/2.0/ref/strings.html\n",
        "\n",
        "#Notice that if you want to print \\ you must put two\n",
        "print(\"\\\\\")\n",
        "\n",
        "#you can also prefix with r which will make a raw string (ignoring escapes except same quote)\n",
        "print(r'as raw as I\\'ve ever seen. \\/\\/ () \\/\\/. \\t' ) #only \\' is escaped\n",
        "\n",
        "\n",
        "\n",
        "########## CONCATENTATION ##########\n",
        "\n",
        "#Use a + to concatenate\n",
        "msg = me + \" + \" + you\n",
        "print(msg)\n",
        "\n",
        "#Can use comma separated values in print. Automatically uses spaces between\n",
        "print(me, \"+\", you)\n",
        "\n",
        "#You can automatically concatenate literals (actual values with quotes as opposed to variables)\n",
        "#by putting them one after the other. This is ideal if you need to split a large string up\n",
        "#onto multiple lines.\n",
        "print(\"my \" \"name \"\n",
        "    \"is \" \"Caleb\")\n",
        "\n",
        "#You can also use multiline string\n",
        "print(\"\"\"Name: Caleb\n",
        "Age: 58\"\"\")\n",
        "\n",
        "#skip newline using \\ (without it, it would go down a line each line)\n",
        "print(\"\"\"\\\n",
        "Name: Caleb. \\\n",
        "Age: 58\"\"\")\n",
        "\n",
        "\"\"\"You may see\n",
        "them as multi-\n",
        "line comments even\n",
        "if they technically\n",
        "are not.\n",
        "https://stackoverflow.com/questions/7696924/is-there-a-way-to-create-multiline-comments-in-python\n",
        "\"\"\"\n",
        "\n",
        "########## INDEXES ##########\n",
        "\n",
        "#It's very common to grab particular characters within a string\n",
        "#this is also common for collections when we get to em.\n",
        "msg = \"This is a very important message.\"\n",
        "print(msg[5])\n",
        "\n",
        "#indexing is zero based. This means 0 will get the very first character:\n",
        "print(msg[0])\n",
        "\n",
        "#This value is returned and can be assigned to a variable or used in an expression\n",
        "first_letter = msg[0]\n",
        "print(first_letter + \"acos\")\n",
        "\n",
        "#You can also index from the right.\n",
        "period = msg[32] #from left\n",
        "print(period)\n",
        "period = msg[-1] #from right\n",
        "print(period)\n",
        "#This may be obvious, but we do not use -0 to get the first element from the right as we would\n",
        "#use 0 to get the first element from the left. (Side note) -0 actually is 0:\n",
        "print(-0) #(side note)\n",
        "print(0 == -0) #0 == 0 (side note)\n",
        "\n",
        "########## SLICING #########\n",
        "\n",
        "#repeating this for ease of reading:\n",
        "msg = \"This is a very important message.\"\n",
        "\n",
        "#We can pass two numbers in for the index to get a series of characters.\n",
        "#left is included. Right is excluded.\n",
        "\n",
        "#this will get 2 characters (from index 1 - 3 with 3 not included...we are left with index 1 and 2.\n",
        "print(msg[1:3]) #hi\n",
        "\n",
        "#You can also leave off first to start at beginning\n",
        "#or leave off second to go to end\n",
        "print(msg[:5]) #print index 0-4 (because 5 is excluded, remember)\n",
        "print (msg[1:]) #from index 1 to end\n",
        "\n",
        "#We can also use negatives. Here is how you get the last 8 characters:\n",
        "print(msg[-8:]) #start 8 from right and go to end\n",
        "\n",
        "#out of range index\n",
        "#Grabbing an out of range index directly will cause an error.\n",
        "#But incorrect ranges fail gracefully.\n",
        "#print(msg[42]) #doesn't work\n",
        "print(msg[42:43]) #works\n",
        "\n",
        "\n",
        "########## IMMUTABILITY ##########\n",
        "\n",
        "#Strings are immutable, meaning they can't change.\n",
        "cant_change = \"Java is my favorite!\"\n",
        "\n",
        "#cant_change[0] = K .....nope. Sorry Kava (my dog)\n",
        "\n",
        "#generate new string from old:\n",
        "#Kava is my favorite!\n",
        "new = 'K' + cant_change[1:]\n",
        "print(new)\n",
        "\n",
        "#Python is my favorite!\n",
        "fav_language = \"Python \" + cant_change[5:]\n",
        "print(fav_language)\n",
        "\n",
        "#Java is actually coffee\n",
        "coffee = cant_change[:8] + \"actually coffee\" #grab first 7 characters (index 8 not included)\n",
        "print(coffee)\n",
        "\n",
        "#operations that appear to change string actually replace:\n",
        "#Java is actually coffee (contrary to popular belief).\n",
        "coffee += \" (contrary to popular belief).\"\n",
        "print(coffee)\n",
        "\n",
        "########## GETTING STRING LENGTH ##########\n",
        "\n",
        "#There is a function we can use....\n",
        "#similar to how we invoke print to do something for us (output to console)\n",
        "#we can invoke len to count for us:\n",
        "\n",
        "print(len(coffee))\n",
        "\n",
        "#for those from other languages...\n",
        "#notice we do not say coffee.len()\n",
        "#coffee.len() XXXXXX\n",
        "#nope.\n",
        "\n",
        "#last index is always len() - 1.\n",
        "name = \"Caleb\"\n",
        "print(\"index 4:\", name[4]) #b\n",
        "print(\"len(name)\", len(name)) #length is 5\n",
        "\n",
        "\n",
        "########## MORE STRING WORK ##########\n",
        "\n",
        "#How to convert a number to a string\n",
        "length = len(name)\n",
        "\n",
        "print(\"Length is \" + str(length))\n",
        "\n",
        "#this works however sometimes you just need one combined string instead of components.\n",
        "#when we use a comma, we are passing in data as separate arguments.\n",
        "#fortunately, print knows how to handle it. Other times, we must pass in one string.\n",
        "#WARNING --> Commas automatically print a space.\n",
        "print(\"length is \", length)\n",
        "\n",
        "#an example of this is if we need a variable. We cannot use a comma:\n",
        "\n",
        "#BAD\n",
        "msg = \"length is\", len(name)\n",
        "print(msg) #NOT WHAT WE WANTED!\n",
        "\n",
        "#GOOD\n",
        "length = len(name)\n",
        "msg = \"length is \" + str(length)\n",
        "print(msg)\n",
        "\n",
        "#EVEN BETTER\n",
        "#We can also nest function calls:\n",
        "print(\"length is \" + str(len(name)))\n",
        "#The order in which these are invoked are in to out...\n",
        "#len(name) is first which returns a number.\n",
        "#this number is passed to str which converts it to a string\n",
        "#this string is then concatenated with the string on the left\n",
        "#this final string is then passed to print\n",
        "\n",
        "#That's the end of your introduction to strings!"
      ],
      "metadata": {
        "id": "Uz0kZpB0f0Wq"
      },
      "execution_count": null,
      "outputs": []
    },
    {
      "cell_type": "markdown",
      "source": [
        "#Creating a List and Indexing"
      ],
      "metadata": {
        "id": "P9mh0fknlY0s"
      }
    },
    {
      "cell_type": "code",
      "source": [
        "ages = [12,28,28]\n",
        "\n",
        "people = ['Ryan', \"Annie\", 'Olive']\n",
        "\n",
        "my_favorite_things = [\"working out\", 7, [\"amazon prime\",'netflix']]\n",
        "print(ages)\n",
        "print(people)\n",
        "print(my_favorite_things)"
      ],
      "metadata": {
        "colab": {
          "base_uri": "https://localhost:8080/"
        },
        "id": "YKmBYzIylg3Z",
        "outputId": "c6dde02b-2469-4192-ef88-bb24ac23b937"
      },
      "execution_count": 5,
      "outputs": [
        {
          "output_type": "stream",
          "name": "stdout",
          "text": [
            "[12, 28, 28]\n",
            "['Ryan', 'Annie', 'Olive']\n",
            "['working out', 7, ['amazon prime', 'netflix']]\n"
          ]
        }
      ]
    },
    {
      "cell_type": "markdown",
      "source": [
        "#Immutability/Changing and Slicing a List"
      ],
      "metadata": {
        "id": "yp5SHmvBmHGD"
      }
    },
    {
      "cell_type": "code",
      "source": [
        "ages = [12,28,28]\n",
        "\n",
        "people = ['Ryan', \"Annie\", 'Olive']\n",
        "\n",
        "my_favorite_things = [\"working out\", 7, [\"amazon prime\",'netflix']]\n",
        "print(id(my_favorite_things))\n",
        "my_favorite_things[0] = \"walking\"\n",
        "print(id(my_favorite_things))\n",
        "print(my_favorite_things)\n",
        "print(len(my_favorite_things))"
      ],
      "metadata": {
        "colab": {
          "base_uri": "https://localhost:8080/"
        },
        "id": "gj69y-6OmOpE",
        "outputId": "389a4903-fba7-4057-b3b6-00e5ada91b1b"
      },
      "execution_count": 8,
      "outputs": [
        {
          "output_type": "stream",
          "name": "stdout",
          "text": [
            "138878518147072\n",
            "138878518147072\n",
            "['walking', 7, ['amazon prime', 'netflix']]\n",
            "3\n"
          ]
        }
      ]
    },
    {
      "cell_type": "markdown",
      "source": [
        "#How to Copy a List\n",
        "\n",
        "functions attached to objects are known as methods\n",
        "\n",
        "this a shallow copy method"
      ],
      "metadata": {
        "id": "WUnezMRxnyNd"
      }
    },
    {
      "cell_type": "code",
      "source": [
        "my_favorite_things = [\"working out\", 7, [\"amazon prime\",'netflix']]\n",
        "print(my_favorite_things[1:2])\n",
        "copy = my_favorite_things[:] #copies the list\n",
        "copy = my_favorite_things.copy() #also copies the list\n",
        "print(copy)\n",
        "\n",
        "copy[0] = \"walking\"\n",
        "print(my_favorite_things,copy)"
      ],
      "metadata": {
        "colab": {
          "base_uri": "https://localhost:8080/"
        },
        "id": "JzmiDrEpn5FK",
        "outputId": "93e4eb8a-f06b-4dfe-ab99-337edcb81f75"
      },
      "execution_count": 15,
      "outputs": [
        {
          "output_type": "stream",
          "name": "stdout",
          "text": [
            "[7]\n",
            "['working out', 7, ['amazon prime', 'netflix']]\n",
            "['working out', 7, ['amazon prime', 'netflix']] ['walking', 7, ['amazon prime', 'netflix']]\n"
          ]
        }
      ]
    },
    {
      "cell_type": "markdown",
      "source": [
        "#Intro to Nested Lists\n",
        "list inside of a list"
      ],
      "metadata": {
        "id": "dd2iu8Smp_wY"
      }
    },
    {
      "cell_type": "code",
      "source": [
        "my_favorite_things = [\"working out\", 7, [\"amazon prime\",['netflix','hulu']]]\n",
        "print(my_favorite_things[2])\n",
        "print(my_favorite_things[2][1])\n",
        "print(my_favorite_things[2][1][0])\n",
        "print(len(my_favorite_things[2][1]))"
      ],
      "metadata": {
        "colab": {
          "base_uri": "https://localhost:8080/"
        },
        "id": "XFXHkl2gqEdt",
        "outputId": "8cf9644f-237d-4144-b046-b7a4be45b775"
      },
      "execution_count": 19,
      "outputs": [
        {
          "output_type": "stream",
          "name": "stdout",
          "text": [
            "['amazon prime', ['netflix', 'hulu']]\n",
            "['netflix', 'hulu']\n",
            "netflix\n",
            "2\n"
          ]
        }
      ]
    },
    {
      "cell_type": "markdown",
      "source": [
        "#How to Deep Copy a List"
      ],
      "metadata": {
        "id": "QtDZS1Svqyq8"
      }
    },
    {
      "cell_type": "code",
      "source": [
        "import copy\n",
        "\n",
        "my_favorite_things = [\"working out\", 7, [\"amazon prime\",'netflix']]\n",
        "#copy = my_favorite_things.copy()\n",
        "c = copy.deepcopy(my_favorite_things)\n",
        "\n",
        "print(my_favorite_things,copy)\n",
        "\n",
        "c[0] = \"walking\"\n",
        "print(my_favorite_things,copy)\n",
        "\n",
        "c[2][0] = \"hulu\"\n",
        "print(my_favorite_things,copy)\n",
        "\n",
        "print(id(c[2]))\n",
        "print(id(my_favorite_things[2]))\n",
        "\n",
        "print(my_favorite_things,c)"
      ],
      "metadata": {
        "colab": {
          "base_uri": "https://localhost:8080/"
        },
        "id": "XeoDmGNkq0ZM",
        "outputId": "5925bffe-132f-478e-b62b-37f1d5305c61"
      },
      "execution_count": 28,
      "outputs": [
        {
          "output_type": "stream",
          "name": "stdout",
          "text": [
            "['working out', 7, ['amazon prime', 'netflix']] <module 'copy' from '/usr/lib/python3.11/copy.py'>\n",
            "['working out', 7, ['amazon prime', 'netflix']] <module 'copy' from '/usr/lib/python3.11/copy.py'>\n",
            "['working out', 7, ['amazon prime', 'netflix']] <module 'copy' from '/usr/lib/python3.11/copy.py'>\n",
            "138878517137664\n",
            "138878523208192\n",
            "['working out', 7, ['amazon prime', 'netflix']] ['walking', 7, ['hulu', 'netflix']]\n"
          ]
        }
      ]
    },
    {
      "cell_type": "markdown",
      "source": [
        "#Combining Lists"
      ],
      "metadata": {
        "id": "eG7ajsx0smrK"
      }
    },
    {
      "cell_type": "code",
      "source": [
        "fav_things = [\"working out\", 7, [\"amazon prime\",'netflix']]\n",
        "least_fav = ['onions', 'javascript']\n",
        "\n",
        "print(fav_things + least_fav)\n",
        "\n",
        "\n",
        "#least_fav.append(\"editing\") #preferred way\n",
        "least_fav = least_fav + ['editing']\n",
        "print(least_fav)"
      ],
      "metadata": {
        "colab": {
          "base_uri": "https://localhost:8080/"
        },
        "id": "oZNNIlvTsoDc",
        "outputId": "84e45d3b-2f55-4c10-c9af-499a4d263796"
      },
      "execution_count": 30,
      "outputs": [
        {
          "output_type": "stream",
          "name": "stdout",
          "text": [
            "['working out', 7, ['amazon prime', 'netflix'], 'onions', 'javascript']\n",
            "['onions', 'javascript', 'editing', 'editing']\n"
          ]
        }
      ]
    }
  ]
}
