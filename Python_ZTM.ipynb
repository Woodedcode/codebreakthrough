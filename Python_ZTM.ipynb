{
  "nbformat": 4,
  "nbformat_minor": 0,
  "metadata": {
    "colab": {
      "provenance": [],
      "authorship_tag": "ABX9TyOUZ7cH/Up9VQIkjxtVQvlw",
      "include_colab_link": true
    },
    "kernelspec": {
      "name": "python3",
      "display_name": "Python 3"
    },
    "language_info": {
      "name": "python"
    }
  },
  "cells": [
    {
      "cell_type": "markdown",
      "metadata": {
        "id": "view-in-github",
        "colab_type": "text"
      },
      "source": [
        "<a href=\"https://colab.research.google.com/github/Woodedcode/codebreakthrough/blob/main/Python_ZTM.ipynb\" target=\"_parent\"><img src=\"https://colab.research.google.com/assets/colab-badge.svg\" alt=\"Open In Colab\"/></a>"
      ]
    },
    {
      "cell_type": "markdown",
      "source": [
        "#Fundamental Data Types\n",
        "\n",
        "int - integer EX: 3,4,5\n",
        "float -  floating point number EX: 1.2"
      ],
      "metadata": {
        "id": "vU_3Kym4mX8e"
      }
    },
    {
      "cell_type": "code",
      "execution_count": 7,
      "metadata": {
        "colab": {
          "base_uri": "https://localhost:8080/"
        },
        "id": "zyGRrPvumCAx",
        "outputId": "4e854371-8c48-4030-bfd0-3b9a86c1130a"
      },
      "outputs": [
        {
          "output_type": "stream",
          "name": "stdout",
          "text": [
            "6\n",
            "<class 'int'>\n",
            "<class 'int'>\n",
            "<class 'int'>\n",
            "<class 'float'>\n",
            "<class 'float'>\n",
            "<class 'float'>\n",
            "<class 'int'>\n",
            "8\n",
            "1\n",
            "1\n"
          ]
        }
      ],
      "source": [
        "#integers\n",
        "print(2 + 4)\n",
        "print(type(6))\n",
        "print(type(2 - 4))\n",
        "print(type(2 * 4))\n",
        "print(type(2 / 4))\n",
        "print(type(0.000001))\n",
        "print(type(5.000001))\n",
        "print(type(0))\n",
        "\n",
        "#power of\n",
        "print(2**3)\n",
        "\n",
        "#integer rounded down\n",
        "print(5//4)\n",
        "\n",
        "\n",
        "#modulo\n",
        "print(5%4)"
      ]
    },
    {
      "cell_type": "code",
      "source": [],
      "metadata": {
        "id": "pWDmL5W4nV-R"
      },
      "execution_count": null,
      "outputs": []
    }
  ]
}