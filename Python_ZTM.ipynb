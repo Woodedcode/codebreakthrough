{
  "nbformat": 4,
  "nbformat_minor": 0,
  "metadata": {
    "colab": {
      "provenance": [],
      "authorship_tag": "ABX9TyOFRQbOpFGF7lLt+K1uVdxS",
      "include_colab_link": true
    },
    "kernelspec": {
      "name": "python3",
      "display_name": "Python 3"
    },
    "language_info": {
      "name": "python"
    }
  },
  "cells": [
    {
      "cell_type": "markdown",
      "metadata": {
        "id": "view-in-github",
        "colab_type": "text"
      },
      "source": [
        "<a href=\"https://colab.research.google.com/github/Woodedcode/codebreakthrough/blob/main/Python_ZTM.ipynb\" target=\"_parent\"><img src=\"https://colab.research.google.com/assets/colab-badge.svg\" alt=\"Open In Colab\"/></a>"
      ]
    },
    {
      "cell_type": "markdown",
      "source": [
        "#Fundamental Data Types\n",
        "\n",
        "int - integer EX: 3,4,5\n",
        "float -  floating point number EX: 1.2"
      ],
      "metadata": {
        "id": "vU_3Kym4mX8e"
      }
    },
    {
      "cell_type": "code",
      "execution_count": 7,
      "metadata": {
        "colab": {
          "base_uri": "https://localhost:8080/"
        },
        "id": "zyGRrPvumCAx",
        "outputId": "4e854371-8c48-4030-bfd0-3b9a86c1130a"
      },
      "outputs": [
        {
          "output_type": "stream",
          "name": "stdout",
          "text": [
            "6\n",
            "<class 'int'>\n",
            "<class 'int'>\n",
            "<class 'int'>\n",
            "<class 'float'>\n",
            "<class 'float'>\n",
            "<class 'float'>\n",
            "<class 'int'>\n",
            "8\n",
            "1\n",
            "1\n"
          ]
        }
      ],
      "source": [
        "#integers\n",
        "print(2 + 4)\n",
        "print(type(6))\n",
        "print(type(2 - 4))\n",
        "print(type(2 * 4))\n",
        "print(type(2 / 4))\n",
        "print(type(0.000001))\n",
        "print(type(5.000001))\n",
        "print(type(0))\n",
        "\n",
        "#power of\n",
        "print(2**3)\n",
        "\n",
        "#integer rounded down\n",
        "print(5//4)\n",
        "\n",
        "\n",
        "#modulo\n",
        "print(5%4)"
      ]
    },
    {
      "cell_type": "markdown",
      "source": [
        "#MATH FUNCTIONS\n",
        "\n",
        "type and print functions you can use\n",
        "\n",
        "#Math functions\n",
        "\n",
        "####round\n",
        "round(number, ndigits)\n"
      ],
      "metadata": {
        "id": "Lyr8UkkMVUVZ"
      }
    },
    {
      "cell_type": "code",
      "source": [
        "print(round(3.1))\n",
        "#no negative numbers\n",
        "print(abs(-20))"
      ],
      "metadata": {
        "colab": {
          "base_uri": "https://localhost:8080/"
        },
        "id": "t2I9yjAUZX30",
        "outputId": "0c37c43b-d245-41f6-99aa-f0fcc8b60d95"
      },
      "execution_count": 11,
      "outputs": [
        {
          "output_type": "stream",
          "name": "stdout",
          "text": [
            "3\n",
            "20\n"
          ]
        }
      ]
    },
    {
      "cell_type": "markdown",
      "source": [
        "#OPERATOR PRECEDENCE\n",
        "\n",
        "###PEMDAS\n",
        "\n",
        "20 + 3 * 4\n",
        "20 + (3 * 4)\n",
        "\n"
      ],
      "metadata": {
        "id": "EftLfucPabSR"
      }
    },
    {
      "cell_type": "code",
      "source": [
        "print(20 + (3 * 4))\n",
        "print(20 - 3 * 4)\n",
        "\n",
        "# () wrapped in a bracket, you do first\n",
        "# ** power of\n",
        "# * / multiplication and division\n",
        "# + - addition and subtraction\n",
        "print((20 - 3) + 2 ** 2)\n"
      ],
      "metadata": {
        "id": "pWDmL5W4nV-R",
        "colab": {
          "base_uri": "https://localhost:8080/"
        },
        "outputId": "847c1d5a-14fa-41c7-a259-f2014dc0dc98"
      },
      "execution_count": 12,
      "outputs": [
        {
          "output_type": "stream",
          "name": "stdout",
          "text": [
            "32\n",
            "8\n",
            "21\n"
          ]
        }
      ]
    },
    {
      "cell_type": "markdown",
      "source": [
        "#OPTIONAL: bin() and complex\n",
        "####BINARY NUMBERS\n"
      ],
      "metadata": {
        "id": "EAoZJTIyfcEu"
      }
    },
    {
      "cell_type": "code",
      "source": [
        "#binary number\n",
        "print(bin(5))\n",
        "print(int('0b101', 2))"
      ],
      "metadata": {
        "colab": {
          "base_uri": "https://localhost:8080/"
        },
        "id": "DiwCxgGnf9Dp",
        "outputId": "8ec0dcac-294c-4cc1-aca9-535b92e138bd"
      },
      "execution_count": 18,
      "outputs": [
        {
          "output_type": "stream",
          "name": "stdout",
          "text": [
            "0b101\n",
            "5\n"
          ]
        }
      ]
    },
    {
      "cell_type": "markdown",
      "source": [
        "#VARIABLES"
      ],
      "metadata": {
        "id": "la7mT_PwhGyx"
      }
    },
    {
      "cell_type": "code",
      "source": [
        "user_iq = 190\n",
        "print(user_iq)\n",
        "user_age = user_iq / 4\n",
        "print(user_age)\n",
        "\n",
        "#constants\n",
        "PI = 3.14\n",
        "print(PI)\n",
        "\n",
        "a,b,c = 1,2,3\n",
        "print(a)\n",
        "print(b)\n",
        "print(c)\n",
        "\n"
      ],
      "metadata": {
        "colab": {
          "base_uri": "https://localhost:8080/"
        },
        "id": "rliGHy_ChIi4",
        "outputId": "813b317f-60dd-4712-998e-c95e2f739fcd"
      },
      "execution_count": 24,
      "outputs": [
        {
          "output_type": "stream",
          "name": "stdout",
          "text": [
            "190\n",
            "47.5\n",
            "3.14\n",
            "1\n",
            "2\n",
            "3\n"
          ]
        }
      ]
    },
    {
      "cell_type": "markdown",
      "source": [
        "#EXPRESSIONS VS STATENTS"
      ],
      "metadata": {
        "id": "GoIgdvZSkgYE"
      }
    },
    {
      "cell_type": "code",
      "source": [
        "iq = 100\n",
        "user_age = iq / 5\n",
        "print(user_age)"
      ],
      "metadata": {
        "colab": {
          "base_uri": "https://localhost:8080/"
        },
        "id": "ijcxSbAuksTw",
        "outputId": "61415ad4-d7c5-480d-9f8b-26f449016d49"
      },
      "execution_count": 25,
      "outputs": [
        {
          "output_type": "stream",
          "name": "stdout",
          "text": [
            "20.0\n"
          ]
        }
      ]
    },
    {
      "cell_type": "markdown",
      "source": [
        "#AUGMENTED ASSIGNMENT OPERATOR\n",
        "\n",
        "\n",
        "sum_value = 5\n",
        "some_value = some_value + 2"
      ],
      "metadata": {
        "id": "bG4013G_lEkr"
      }
    },
    {
      "cell_type": "code",
      "source": [
        "some_value = 5\n",
        "#some_value = some_value + 2\n",
        "#print(some_value)\n",
        "#sum_value = 5\n",
        "#some_value = some_value + 2\n",
        "#print(some_value)\n",
        "#some_value -= 2\n",
        "#print(some_value)\n",
        "some_value *= 2\n",
        "print(some_value)"
      ],
      "metadata": {
        "colab": {
          "base_uri": "https://localhost:8080/"
        },
        "id": "qM-A8-3ylI8d",
        "outputId": "ff73709c-3f54-4254-e2ca-23964101122c"
      },
      "execution_count": 37,
      "outputs": [
        {
          "output_type": "stream",
          "name": "stdout",
          "text": [
            "10\n"
          ]
        }
      ]
    },
    {
      "cell_type": "markdown",
      "source": [
        "#STRINGS"
      ],
      "metadata": {
        "id": "cuKWfY5DmNdQ"
      }
    },
    {
      "cell_type": "code",
      "source": [
        "phrase = 'hi hello there'\n",
        "print(phrase)\n",
        "phrase1 = \"hi hello there 24!\"\n",
        "print(type(phrase1))\n",
        "\n",
        "user_name = 'supercoder'\n",
        "password = 'supersecret'\n",
        "long_string = '''\n",
        "WOW\n",
        "0 0\n",
        "___\n",
        "'''\n",
        "\n",
        "print(long_string)\n",
        "\n",
        "first_name = 'Ryan'\n",
        "last_name = 'Woods'\n",
        "\n",
        "full_name = first_name + ' ' + last_name\n",
        "print(full_name)"
      ],
      "metadata": {
        "colab": {
          "base_uri": "https://localhost:8080/"
        },
        "id": "cGMAoRLVmOnb",
        "outputId": "3724a1d0-1828-4cfe-9b95-84e451117262"
      },
      "execution_count": 44,
      "outputs": [
        {
          "output_type": "stream",
          "name": "stdout",
          "text": [
            "hi hello there\n",
            "<class 'str'>\n",
            "\n",
            "WOW\n",
            "0 0\n",
            "___\n",
            "\n",
            "Ryan Woods\n"
          ]
        }
      ]
    },
    {
      "cell_type": "markdown",
      "source": [
        "#STRING CONCATENATION"
      ],
      "metadata": {
        "id": "Im_bE9GWn7Bk"
      }
    }
  ]
}