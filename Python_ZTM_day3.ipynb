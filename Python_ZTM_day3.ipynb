{
  "nbformat": 4,
  "nbformat_minor": 0,
  "metadata": {
    "colab": {
      "provenance": [],
      "authorship_tag": "ABX9TyM7Dcxnk6mnnlQS08vIGg+G",
      "include_colab_link": true
    },
    "kernelspec": {
      "name": "python3",
      "display_name": "Python 3"
    },
    "language_info": {
      "name": "python"
    }
  },
  "cells": [
    {
      "cell_type": "markdown",
      "metadata": {
        "id": "view-in-github",
        "colab_type": "text"
      },
      "source": [
        "<a href=\"https://colab.research.google.com/github/Woodedcode/codebreakthrough/blob/main/Python_ZTM_day3.ipynb\" target=\"_parent\"><img src=\"https://colab.research.google.com/assets/colab-badge.svg\" alt=\"Open In Colab\"/></a>"
      ]
    },
    {
      "cell_type": "markdown",
      "source": [
        "#IMMUTABILITY"
      ],
      "metadata": {
        "id": "yg4x7vTQ8s24"
      }
    },
    {
      "cell_type": "code",
      "execution_count": null,
      "metadata": {
        "id": "BaLQO9X28nwB"
      },
      "outputs": [],
      "source": [
        "selfish = '1234567'\n",
        "#slicing\n",
        "#print(slelfish[start:stop:step])\n",
        "\n",
        "\n",
        "#IMMUTABILITY - strings in python are immutable -> strings cannot change the value of a string -> ability to change is something re-assigned or create something new\n",
        "selfish = 100\n",
        "\n",
        "print(selfish)\n",
        "\n",
        "selfish[0] = 8\n",
        "\n",
        "print(selfish)\n"
      ]
    },
    {
      "cell_type": "markdown",
      "source": [
        "#BUILT IN FUNCTIONS AND METHODS\n",
        "\n",
        "str()\n",
        "int()\n",
        "float()\n",
        "type()\n",
        "print()\n",
        "len()\n"
      ],
      "metadata": {
        "id": "p8plVDg4-NQO"
      }
    },
    {
      "cell_type": "code",
      "source": [
        "greet = 'hellloooo'\n",
        "print(greet[:])\n",
        "print(greet[0:9])\n",
        "\n",
        "#python string methods - https://www.w3schools.com/python/python_ref_string.asp\n",
        "\n",
        "quote = 'to be or not to be'\n",
        "\n",
        "print(quote.upper())\n",
        "print(quote.capitalize())\n",
        "print(quote.find('be'))\n",
        "print(quote.replace('be', 'me'))\n",
        "print(quote)\n",
        "quote2 = quote.replace('be','me')\n",
        "print(quote2)"
      ],
      "metadata": {
        "colab": {
          "base_uri": "https://localhost:8080/"
        },
        "id": "4P5kAxoF-Qst",
        "outputId": "eeeafed5-7495-4473-e08e-d555ab9e2873"
      },
      "execution_count": 13,
      "outputs": [
        {
          "output_type": "stream",
          "name": "stdout",
          "text": [
            "hellloooo\n",
            "hellloooo\n",
            "TO BE OR NOT TO BE\n",
            "To be or not to be\n",
            "3\n",
            "to me or not to me\n",
            "to be or not to be\n",
            "to me or not to me\n"
          ]
        }
      ]
    },
    {
      "cell_type": "markdown",
      "source": [
        "#BOOLEANS\n",
        "\n",
        "bool - True or False\n"
      ],
      "metadata": {
        "id": "dwBcu6wiDpMH"
      }
    },
    {
      "cell_type": "code",
      "source": [
        "name = 'Ryan'\n",
        "is_cool = False\n",
        "\n",
        "is_cool = True\n",
        "\n",
        "print(bool(1))\n",
        "print(bool(0))\n",
        "print(bool('True'))"
      ],
      "metadata": {
        "colab": {
          "base_uri": "https://localhost:8080/"
        },
        "id": "3rkxhECy_kLQ",
        "outputId": "2c7d6006-637f-4cb8-e057-284aaeedddf9"
      },
      "execution_count": 18,
      "outputs": [
        {
          "output_type": "stream",
          "name": "stdout",
          "text": [
            "True\n",
            "False\n",
            "True\n"
          ]
        }
      ]
    },
    {
      "cell_type": "markdown",
      "source": [
        "#EXERCISE: TYPE CONVERSION"
      ],
      "metadata": {
        "id": "qUSNI5oCEjMb"
      }
    },
    {
      "cell_type": "code",
      "source": [
        "name = 'Ryan Woods'\n",
        "age = 35\n",
        "relationship_status = 'Married'\n",
        "print(relationship_status)\n",
        "relationship_status = 'It\\'s complicated'\n",
        "print(relationship_status)\n",
        "\n",
        "#\\\\\\\\\\\\\\\\\\\\\\\\\\\\\\\\\\\\\\\\\\\\\\\\\\\\\\\\\\\\\\\\\\\\\\\\\\\\\\\\\\\\\\\\\\\\\\\\\\\n",
        "\n",
        "birth_year = input('What year were you born?')\n",
        "age = 2025 - int(birth_year)\n",
        "print(f'Your age is: {age}')"
      ],
      "metadata": {
        "colab": {
          "base_uri": "https://localhost:8080/"
        },
        "id": "eYRPYVQLEqbA",
        "outputId": "9736c19b-73a5-4958-bd29-87055c5850ee"
      },
      "execution_count": 28,
      "outputs": [
        {
          "output_type": "stream",
          "name": "stdout",
          "text": [
            "Married\n",
            "It's complicated\n",
            "What year were you born?1989\n",
            "Your age is: 36\n"
          ]
        }
      ]
    },
    {
      "cell_type": "markdown",
      "source": [
        "#DEVELOPER FUNDAMENTALS: II"
      ],
      "metadata": {
        "id": "2SXBrqn7PVEm"
      }
    },
    {
      "cell_type": "code",
      "source": [
        "#commenting your code\n",
        "name = 'Ryan' #this assigns to a variable"
      ],
      "metadata": {
        "id": "H2i7iXoHPcTE"
      },
      "execution_count": 29,
      "outputs": []
    },
    {
      "cell_type": "markdown",
      "source": [
        "#EXERCISE: PASSWORD CHECKER"
      ],
      "metadata": {
        "id": "jZPMFxnnQkHO"
      }
    },
    {
      "cell_type": "code",
      "source": [
        "username = input('What is your username?')\n",
        "password = input('What is your password?')\n",
        "#takes two inputs and\n",
        "\n",
        "password_length = len(password)\n",
        "hidden_password = '*' * password_length\n",
        "\n",
        "print(f'{username}, your password, {hidden_password}, is {len(password)} letters long')"
      ],
      "metadata": {
        "colab": {
          "base_uri": "https://localhost:8080/"
        },
        "id": "yXrqN-KkQpgf",
        "outputId": "3f537f0f-716a-44fb-de1d-d8af7c5b7684"
      },
      "execution_count": 34,
      "outputs": [
        {
          "output_type": "stream",
          "name": "stdout",
          "text": [
            "What is your username?Ryan\n",
            "What is your password?abcdefg\n",
            "Ryan, your password, *******, is 7 letters long\n"
          ]
        }
      ]
    },
    {
      "cell_type": "markdown",
      "source": [
        "#LISTS"
      ],
      "metadata": {
        "id": "fJeeW1dxSmUV"
      }
    },
    {
      "cell_type": "code",
      "source": [
        "li = [1,2,3,4,5]\n",
        "li2 = ['a','b','c']\n",
        "li3 = [1,2,'a',True]\n",
        "\n",
        "\n",
        "# Data structure\n",
        "\n",
        "\n",
        "amazon_cart = ['notebooks', 'sunglasses']\n",
        "print(amazon_cart[0])\n",
        "print(amazon_cart[1])\n",
        "#print(amazon_cart[2])"
      ],
      "metadata": {
        "colab": {
          "base_uri": "https://localhost:8080/"
        },
        "id": "_Eml2Nm6Snfp",
        "outputId": "8cd683e2-059b-484d-b661-842ee27a43c7"
      },
      "execution_count": 37,
      "outputs": [
        {
          "output_type": "stream",
          "name": "stdout",
          "text": [
            "notebooks\n",
            "sunglasses\n"
          ]
        }
      ]
    },
    {
      "cell_type": "markdown",
      "source": [
        "#LIST SLICING"
      ],
      "metadata": {
        "id": "6dbscA4qUjp-"
      }
    },
    {
      "cell_type": "code",
      "source": [
        "#list slicing\n",
        "string = 'hellloooo'\n",
        "print(string[0:4:1])\n",
        "\n",
        "amazon_cart = [\n",
        "    'notebooks',\n",
        "    'sunglasses',\n",
        "    'toys',\n",
        "    'grapes'\n",
        "    ]\n",
        "print(amazon_cart)\n",
        "print(amazon_cart[0:2])\n",
        "print(amazon_cart[0::2])\n",
        "\n",
        "amazon_cart[0] = 'laptop'\n",
        "new_cart = amazon_cart[0:3]#[:]\n",
        "new_cart[0] = 'gum'\n",
        "print(new_cart)\n",
        "print(amazon_cart)\n",
        "print(amazon_cart[1:3])\n",
        "print(amazon_cart[0:3])\n",
        "print(amazon_cart)\n",
        "\n"
      ],
      "metadata": {
        "colab": {
          "base_uri": "https://localhost:8080/"
        },
        "id": "NbMovOFIUlMQ",
        "outputId": "a3486e47-1d3d-4d30-a595-baa5341c11de"
      },
      "execution_count": 51,
      "outputs": [
        {
          "output_type": "stream",
          "name": "stdout",
          "text": [
            "hell\n",
            "['notebooks', 'sunglasses', 'toys', 'grapes']\n",
            "['notebooks', 'sunglasses']\n",
            "['notebooks', 'toys']\n",
            "['gum', 'sunglasses', 'toys', 'grapes']\n",
            "['gum', 'sunglasses', 'toys', 'grapes']\n",
            "['sunglasses', 'toys']\n",
            "['gum', 'sunglasses', 'toys']\n",
            "['gum', 'sunglasses', 'toys', 'grapes']\n"
          ]
        }
      ]
    },
    {
      "cell_type": "markdown",
      "source": [
        "#MATRIX\n",
        "- a way to describe 2d lists or multidimentional lists\n",
        "- Array with another array inside of it"
      ],
      "metadata": {
        "id": "SjI0RXRhqJfo"
      }
    },
    {
      "cell_type": "code",
      "source": [
        "#Matrix\n",
        "matrix = [\n",
        "    [1,2,3],\n",
        "    [2,4,6],\n",
        "    [7,8,9],\n",
        "]\n",
        "\n",
        "print(matrix[0][1])"
      ],
      "metadata": {
        "colab": {
          "base_uri": "https://localhost:8080/"
        },
        "id": "LHZjNhnmqLJY",
        "outputId": "e0045e05-482c-4570-c0af-411c19dd5430"
      },
      "execution_count": 53,
      "outputs": [
        {
          "output_type": "stream",
          "name": "stdout",
          "text": [
            "2\n"
          ]
        }
      ]
    },
    {
      "cell_type": "markdown",
      "source": [
        "# LIST METHODS\n",
        "- .append() - to add to the list"
      ],
      "metadata": {
        "id": "tQGgooRJsOzW"
      }
    },
    {
      "cell_type": "code",
      "source": [
        "basket = [1,2,3,4,5]\n",
        "\n",
        "#adding\n",
        "new_list = basket.append(100)\n",
        "print(basket)\n",
        "print(new_list)\n",
        "\n",
        "\n",
        "#adding correctly\n",
        "basket.append(100)\n",
        "new_list = basket\n",
        "print(basket, \"basket\")\n",
        "print(new_list, \"new list\")\n",
        "\n",
        "#inset\n",
        "basket.insert(5,100)\n",
        "print(basket)\n",
        "\n",
        "new_list = basket.insert(5,100)\n",
        "print(basket, \"basket\")\n",
        "print(new_list, \"new list\")\n",
        "\n",
        "\n",
        "\n",
        "#extend\n",
        "new_list = basket.extend([100,101])\n",
        "print(basket, \"basket\")\n",
        "print(new_list, \"new list\")\n",
        "\n",
        "\n",
        "\n",
        "#removing\n",
        "#basket.remove(4)\n",
        "#print(basket,\".remove\")\n",
        "\n",
        "new_list = basket.remove(4)\n",
        "print(basket, 'remove')\n",
        "\n",
        "\n",
        "#pop\n",
        "basket.pop()\n",
        "print(basket, \".pop\")\n",
        "basket.pop()\n",
        "print(basket, \".pop\")\n",
        "basket.pop(0)\n",
        "print(basket, \".pop\")\n",
        "\n",
        "\n",
        "\n",
        "#clear\n",
        "new_list = basket.clear()\n",
        "print(basket, 'basket')"
      ],
      "metadata": {
        "colab": {
          "base_uri": "https://localhost:8080/"
        },
        "id": "evdqg05psRi-",
        "outputId": "0411da06-4c39-42c3-a820-a5b432544941"
      },
      "execution_count": 79,
      "outputs": [
        {
          "output_type": "stream",
          "name": "stdout",
          "text": [
            "[1, 2, 3, 4, 5, 100]\n",
            "None\n",
            "[1, 2, 3, 4, 5, 100, 100] basket\n",
            "[1, 2, 3, 4, 5, 100, 100] new list\n",
            "[1, 2, 3, 4, 5, 100, 100, 100]\n",
            "[1, 2, 3, 4, 5, 100, 100, 100, 100] basket\n",
            "None new list\n",
            "[1, 2, 3, 4, 5, 100, 100, 100, 100, 100, 101] basket\n",
            "None new list\n",
            "[1, 2, 3, 5, 100, 100, 100, 100, 100, 101] remove\n",
            "[1, 2, 3, 5, 100, 100, 100, 100, 100] .pop\n",
            "[1, 2, 3, 5, 100, 100, 100, 100] .pop\n",
            "[2, 3, 5, 100, 100, 100, 100] .pop\n",
            "[] basket\n"
          ]
        }
      ]
    },
    {
      "cell_type": "markdown",
      "source": [
        "#LIST METHODS 2"
      ],
      "metadata": {
        "id": "HVG2o1B7wd57"
      }
    },
    {
      "cell_type": "code",
      "source": [
        "basket = ['a','b','c','d','e']\n",
        "\n",
        "print(basket.index('d',0,4))\n",
        "print('d' in basket)\n",
        "print('x' in basket)\n",
        "print('i' in 'hi my name is Ryan')\n",
        "\n",
        "\n",
        "# .count()\n",
        "print(basket.count('d'))"
      ],
      "metadata": {
        "colab": {
          "base_uri": "https://localhost:8080/"
        },
        "id": "CJ83zFH_whRl",
        "outputId": "09eed5d9-ea48-474c-a45d-9a0c376fa1a1"
      },
      "execution_count": 92,
      "outputs": [
        {
          "output_type": "stream",
          "name": "stdout",
          "text": [
            "3\n",
            "True\n",
            "False\n",
            "True\n",
            "1\n"
          ]
        }
      ]
    },
    {
      "cell_type": "code",
      "source": [],
      "metadata": {
        "id": "luDKZBWFyJdC"
      },
      "execution_count": null,
      "outputs": []
    },
    {
      "cell_type": "markdown",
      "source": [
        "#LIST METHOD 3"
      ],
      "metadata": {
        "id": "tm4WKEh_x4cM"
      }
    },
    {
      "cell_type": "code",
      "source": [
        "#.sort\n",
        "basket = ['a','x','b','c','d','e','d']\n",
        "\n",
        "#basket.sort()\n",
        "\n",
        "#new_basket = basket[:]\n",
        "#new_basket.sort()\n",
        "#print(new_basket)\n",
        "print(sorted(basket))\n",
        "print(basket)\n",
        "\n",
        "\n",
        "#.reverse\n",
        "basket.sort()\n",
        "basket.reverse()\n",
        "print(basket, 'reversed')"
      ],
      "metadata": {
        "colab": {
          "base_uri": "https://localhost:8080/"
        },
        "id": "SHBpJ5Crx7CF",
        "outputId": "822a7de1-1a53-4cc4-bb0b-2c4a86359abd"
      },
      "execution_count": 107,
      "outputs": [
        {
          "output_type": "stream",
          "name": "stdout",
          "text": [
            "['a', 'b', 'c', 'd', 'd', 'e', 'x']\n",
            "['a', 'x', 'b', 'c', 'd', 'e', 'd']\n",
            "['x', 'e', 'd', 'd', 'c', 'b', 'a'] reversed\n"
          ]
        }
      ]
    },
    {
      "cell_type": "markdown",
      "source": [
        "#COMMON LIST PATTERNS"
      ],
      "metadata": {
        "id": "N8MhE7LLz9L8"
      }
    },
    {
      "cell_type": "code",
      "source": [
        "#range\n",
        "basket = ['a','x','b','c','d','e','d']\n",
        "\n",
        "basket.reverse()\n",
        "print(basket[::-1])\n",
        "#print(basket)\n",
        "#print(basket[:])\n",
        "\n",
        "\n",
        "print(list(range(1,21)))\n",
        "print(list(range(21)))\n",
        "\n",
        "\n",
        "\n",
        "# .join\n",
        "#sentence = ' '\n",
        "new_sentence = ' '.join(['hi','my','name', 'is', 'Ryan'])\n",
        "print(new_sentence)"
      ],
      "metadata": {
        "colab": {
          "base_uri": "https://localhost:8080/"
        },
        "id": "I6fwIdek1lO0",
        "outputId": "958b3ce3-9598-473b-9c19-bdcf6974875f"
      },
      "execution_count": 120,
      "outputs": [
        {
          "output_type": "stream",
          "name": "stdout",
          "text": [
            "['a', 'x', 'b', 'c', 'd', 'e', 'd']\n",
            "[1, 2, 3, 4, 5, 6, 7, 8, 9, 10, 11, 12, 13, 14, 15, 16, 17, 18, 19, 20]\n",
            "[0, 1, 2, 3, 4, 5, 6, 7, 8, 9, 10, 11, 12, 13, 14, 15, 16, 17, 18, 19, 20]\n",
            "hi my name is Ryan\n"
          ]
        }
      ]
    },
    {
      "cell_type": "markdown",
      "source": [
        "#LIST UNPACKING"
      ],
      "metadata": {
        "id": "0PK3SQVo3UuR"
      }
    },
    {
      "cell_type": "code",
      "source": [
        "#LIST UNPACKING"
      ],
      "metadata": {
        "id": "psP6N8WZ3W6H"
      },
      "execution_count": 123,
      "outputs": []
    },
    {
      "cell_type": "code",
      "source": [
        "a,b,c, *other,d = [1,2,3,4,5,6,7,8,9]\n",
        "\n",
        "print(a)\n",
        "print(b)\n",
        "print(c)\n",
        "print(other)\n",
        "print(d)"
      ],
      "metadata": {
        "colab": {
          "base_uri": "https://localhost:8080/"
        },
        "id": "4sts52_53jb9",
        "outputId": "508fe9be-8020-4c50-c645-442d9bab4de9"
      },
      "execution_count": 129,
      "outputs": [
        {
          "output_type": "stream",
          "name": "stdout",
          "text": [
            "1\n",
            "2\n",
            "3\n",
            "[4, 5, 6, 7, 8]\n",
            "9\n"
          ]
        }
      ]
    },
    {
      "cell_type": "markdown",
      "source": [
        "#NONE"
      ],
      "metadata": {
        "id": "gPvjn_LS404M"
      }
    },
    {
      "cell_type": "code",
      "source": [
        "None\n",
        "\n",
        "#a = None\n",
        "weapons = None\n",
        "print(weapons)"
      ],
      "metadata": {
        "colab": {
          "base_uri": "https://localhost:8080/"
        },
        "id": "MVeHaN3T43E9",
        "outputId": "17aad94a-2f39-4713-e422-ff619fb4014c"
      },
      "execution_count": 130,
      "outputs": [
        {
          "output_type": "stream",
          "name": "stdout",
          "text": [
            "None\n"
          ]
        }
      ]
    },
    {
      "cell_type": "markdown",
      "source": [
        "#DICTIONARIES"
      ],
      "metadata": {
        "id": "YNqzUQ9e5UGU"
      }
    },
    {
      "cell_type": "code",
      "source": [
        "#DICTIONARY\n",
        "\n",
        "\n",
        "dictionary = {\n",
        "    'a': 1,\n",
        "    'b': 2,\n",
        "    'x': 3\n",
        "}\n",
        "\n",
        "print(dictionary)\n",
        "dictionary['b']\n",
        "#dictionary['c']\n",
        "\n",
        "\n",
        "dictionary = {\n",
        "    'a': [1,2,3],\n",
        "    'b': 'hello',\n",
        "    'x': True\n",
        "}\n",
        "print(dictionary)\n",
        "\n",
        "my_list = [\n",
        "    {\n",
        "    'a': [1,2,3],\n",
        "    'b': 'hello',\n",
        "    'x': True\n",
        "    },\n",
        "    {\n",
        "    'a': [4,5,6],\n",
        "    'b': 'bye',\n",
        "    'x': False\n",
        "}\n",
        "]\n",
        "\n",
        "print(my_list[0]['a'][2])\n",
        "print(dictionary['a'][1])"
      ],
      "metadata": {
        "colab": {
          "base_uri": "https://localhost:8080/"
        },
        "id": "lzzBNitj5V7i",
        "outputId": "940203e6-91be-44d1-dbe2-6a1ad2cee48f"
      },
      "execution_count": 139,
      "outputs": [
        {
          "output_type": "stream",
          "name": "stdout",
          "text": [
            "{'a': 1, 'b': 2, 'x': 3}\n",
            "{'a': [1, 2, 3], 'b': 'hello', 'x': True}\n",
            "3\n",
            "2\n"
          ]
        }
      ]
    },
    {
      "cell_type": "markdown",
      "source": [
        "#DEVELOPER FUNDAMENTALS: III\n",
        "\n",
        "a list is ordered, a dictionary has NO order.\n",
        "dictionaries hold more info than lists"
      ],
      "metadata": {
        "id": "ZszZtqD98BpL"
      }
    },
    {
      "cell_type": "markdown",
      "source": [
        "#DICTIONARY KEYS\n",
        "\n",
        "A key is something descriptive\n",
        "\n",
        "Dictionary keys need to be immutable\n",
        "Lists are mutable.\n",
        "\n",
        "A key needs to be unique"
      ],
      "metadata": {
        "id": "m_Gd3Mgy-_kC"
      }
    },
    {
      "cell_type": "code",
      "source": [
        "#DICTIONARY\n",
        "dictionary = {\n",
        "    '123': [1,2,3],\n",
        "    '123': 'hello'\n",
        "}\n",
        "\n",
        "print(dictionary['123'])"
      ],
      "metadata": {
        "colab": {
          "base_uri": "https://localhost:8080/"
        },
        "id": "iK09IFUJ-SYb",
        "outputId": "3784a423-a8eb-429b-fcae-6956acec4362"
      },
      "execution_count": 140,
      "outputs": [
        {
          "output_type": "stream",
          "name": "stdout",
          "text": [
            "hello\n"
          ]
        }
      ]
    },
    {
      "cell_type": "markdown",
      "source": [
        "#DICTIONARY METHODS"
      ],
      "metadata": {
        "id": "S049uTIJAEYZ"
      }
    },
    {
      "cell_type": "code",
      "source": [
        "user = {\n",
        "    'basket': [1,2,3],\n",
        "    'greet': 'hello',\n",
        "    'age': 20\n",
        "}\n",
        "\n",
        "#print(user['age'])\n",
        "#method\n",
        "print(user.get('age'))\n",
        "print(user.get('age',35))\n",
        "\n",
        "\n",
        "\n",
        "\n",
        "\n",
        "\n",
        "#\\\\\\\\\\\\\\\\\\\\\\\\\\\\\\\\\\\\\\\\\\\\\\\\\\\\\\\\\\\\\\\\\\\\\\\\\\\\\\\\\\\\\\\n",
        "\n",
        "# EXAMPLE : user2 = dict(key=value)\n",
        "user2 = dict(name='Ryan')\n",
        "#key word needs to be a vaible that has been made\n",
        "print(user2)"
      ],
      "metadata": {
        "colab": {
          "base_uri": "https://localhost:8080/"
        },
        "id": "D6oQafkSAGU2",
        "outputId": "3f805290-315b-4a84-d6a9-6f14f43d3978"
      },
      "execution_count": 147,
      "outputs": [
        {
          "output_type": "stream",
          "name": "stdout",
          "text": [
            "20\n",
            "20\n",
            "{'name': 'Ryan'}\n"
          ]
        }
      ]
    },
    {
      "cell_type": "markdown",
      "source": [
        "#DICTIONARY METHODS 2"
      ],
      "metadata": {
        "id": "TzIuLau6BeYe"
      }
    },
    {
      "cell_type": "code",
      "source": [
        "user = {\n",
        "    'basket': [1,2,3],\n",
        "    'greet': 'hello',\n",
        "    'age': 20\n",
        "}\n",
        "\n",
        "\n",
        "print('basket' in user)\n",
        "print('size' in user)\n",
        "print('age' in user.keys())\n",
        "print(20 in user.values())\n",
        "print(user.items())\n",
        "\n",
        "\n",
        "\n",
        "#user2 = user.copy()\n",
        "#print(user)\n",
        "#print(user.clear())\n",
        "#print(user2)\n",
        "\n",
        "\n",
        "\n",
        "print(user.pop('age'))\n",
        "print(user)\n",
        "\n",
        "print(user.popitem())\n",
        "print(user)\n",
        "\n",
        "print(user.update({'age':55}))\n",
        "print(user)\n"
      ],
      "metadata": {
        "colab": {
          "base_uri": "https://localhost:8080/"
        },
        "id": "nbTTuLXVBgnm",
        "outputId": "939ffba2-8cfd-4be0-b266-a4050751e08c"
      },
      "execution_count": 170,
      "outputs": [
        {
          "output_type": "stream",
          "name": "stdout",
          "text": [
            "True\n",
            "False\n",
            "True\n",
            "True\n",
            "dict_items([('basket', [1, 2, 3]), ('greet', 'hello'), ('age', 20)])\n",
            "20\n",
            "{'basket': [1, 2, 3], 'greet': 'hello'}\n",
            "('greet', 'hello')\n",
            "{'basket': [1, 2, 3]}\n",
            "None\n",
            "{'basket': [1, 2, 3], 'age': 55}\n"
          ]
        }
      ]
    }
  ]
}