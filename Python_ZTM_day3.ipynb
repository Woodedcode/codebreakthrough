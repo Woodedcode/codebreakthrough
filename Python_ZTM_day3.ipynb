{
  "nbformat": 4,
  "nbformat_minor": 0,
  "metadata": {
    "colab": {
      "provenance": [],
      "authorship_tag": "ABX9TyPN7lwrHLzIQdc48X8INHFp",
      "include_colab_link": true
    },
    "kernelspec": {
      "name": "python3",
      "display_name": "Python 3"
    },
    "language_info": {
      "name": "python"
    }
  },
  "cells": [
    {
      "cell_type": "markdown",
      "metadata": {
        "id": "view-in-github",
        "colab_type": "text"
      },
      "source": [
        "<a href=\"https://colab.research.google.com/github/Woodedcode/codebreakthrough/blob/main/Python_ZTM_day3.ipynb\" target=\"_parent\"><img src=\"https://colab.research.google.com/assets/colab-badge.svg\" alt=\"Open In Colab\"/></a>"
      ]
    },
    {
      "cell_type": "markdown",
      "source": [
        "#IMMUTABILITY"
      ],
      "metadata": {
        "id": "yg4x7vTQ8s24"
      }
    },
    {
      "cell_type": "code",
      "execution_count": null,
      "metadata": {
        "id": "BaLQO9X28nwB"
      },
      "outputs": [],
      "source": [
        "selfish = '1234567'\n",
        "#slicing\n",
        "#print(slelfish[start:stop:step])\n",
        "\n",
        "\n",
        "#IMMUTABILITY - strings in python are immutable -> strings cannot change the value of a string -> ability to change is something re-assigned or create something new\n",
        "selfish = 100\n",
        "\n",
        "print(selfish)\n",
        "\n",
        "selfish[0] = 8\n",
        "\n",
        "print(selfish)\n"
      ]
    },
    {
      "cell_type": "markdown",
      "source": [
        "#BUILT IN FUNCTIONS AND METHODS\n",
        "\n",
        "str()\n",
        "int()\n",
        "float()\n",
        "type()\n",
        "print()\n",
        "len()\n"
      ],
      "metadata": {
        "id": "p8plVDg4-NQO"
      }
    },
    {
      "cell_type": "code",
      "source": [
        "greet = 'hellloooo'\n",
        "print(greet[:])\n",
        "print(greet[0:9])\n",
        "\n",
        "#python string methods - https://www.w3schools.com/python/python_ref_string.asp\n",
        "\n",
        "quote = 'to be or not to be'\n",
        "\n",
        "print(quote.upper())\n",
        "print(quote.capitalize())\n",
        "print(quote.find('be'))\n",
        "print(quote.replace('be', 'me'))\n",
        "print(quote)\n",
        "quote2 = quote.replace('be','me')\n",
        "print(quote2)"
      ],
      "metadata": {
        "colab": {
          "base_uri": "https://localhost:8080/"
        },
        "id": "4P5kAxoF-Qst",
        "outputId": "eeeafed5-7495-4473-e08e-d555ab9e2873"
      },
      "execution_count": 13,
      "outputs": [
        {
          "output_type": "stream",
          "name": "stdout",
          "text": [
            "hellloooo\n",
            "hellloooo\n",
            "TO BE OR NOT TO BE\n",
            "To be or not to be\n",
            "3\n",
            "to me or not to me\n",
            "to be or not to be\n",
            "to me or not to me\n"
          ]
        }
      ]
    },
    {
      "cell_type": "markdown",
      "source": [
        "#BOOLEANS\n",
        "\n",
        "bool - True or False\n"
      ],
      "metadata": {
        "id": "dwBcu6wiDpMH"
      }
    },
    {
      "cell_type": "code",
      "source": [
        "name = 'Ryan'\n",
        "is_cool = False\n",
        "\n",
        "is_cool = True\n",
        "\n",
        "print(bool(1))\n",
        "print(bool(0))\n",
        "print(bool('True'))"
      ],
      "metadata": {
        "colab": {
          "base_uri": "https://localhost:8080/"
        },
        "id": "3rkxhECy_kLQ",
        "outputId": "2c7d6006-637f-4cb8-e057-284aaeedddf9"
      },
      "execution_count": 18,
      "outputs": [
        {
          "output_type": "stream",
          "name": "stdout",
          "text": [
            "True\n",
            "False\n",
            "True\n"
          ]
        }
      ]
    },
    {
      "cell_type": "markdown",
      "source": [
        "#EXERCISE: TYPE CONVERSION"
      ],
      "metadata": {
        "id": "qUSNI5oCEjMb"
      }
    },
    {
      "cell_type": "code",
      "source": [
        "name = 'Ryan Woods'\n",
        "age = 35\n",
        "relationship_status = 'Married'\n",
        "print(relationship_status)\n",
        "relationship_status = 'It\\'s complicated'\n",
        "print(relationship_status)\n",
        "\n",
        "#\\\\\\\\\\\\\\\\\\\\\\\\\\\\\\\\\\\\\\\\\\\\\\\\\\\\\\\\\\\\\\\\\\\\\\\\\\\\\\\\\\\\\\\\\\\\\\\\\\\n",
        "\n",
        "birth_year = input('What year were you born?')\n",
        "age = 2025 - int(birth_year)\n",
        "print(f'Your age is: {age}')"
      ],
      "metadata": {
        "colab": {
          "base_uri": "https://localhost:8080/"
        },
        "id": "eYRPYVQLEqbA",
        "outputId": "9736c19b-73a5-4958-bd29-87055c5850ee"
      },
      "execution_count": 28,
      "outputs": [
        {
          "output_type": "stream",
          "name": "stdout",
          "text": [
            "Married\n",
            "It's complicated\n",
            "What year were you born?1989\n",
            "Your age is: 36\n"
          ]
        }
      ]
    },
    {
      "cell_type": "markdown",
      "source": [
        "#DEVELOPER FUNDAMENTALS: II"
      ],
      "metadata": {
        "id": "2SXBrqn7PVEm"
      }
    },
    {
      "cell_type": "code",
      "source": [
        "#commenting your code\n",
        "name = 'Ryan' #this assigns to a variable"
      ],
      "metadata": {
        "id": "H2i7iXoHPcTE"
      },
      "execution_count": 29,
      "outputs": []
    },
    {
      "cell_type": "markdown",
      "source": [
        "#EXERCISE: PASSWORD CHECKER"
      ],
      "metadata": {
        "id": "jZPMFxnnQkHO"
      }
    },
    {
      "cell_type": "code",
      "source": [
        "username = input('What is your username?')\n",
        "password = input('What is your password?')\n",
        "#takes two inputs and\n",
        "\n",
        "password_length = len(password)\n",
        "hidden_password = '*' * password_length\n",
        "\n",
        "print(f'{username}, your password, {hidden_password}, is {len(password)} letters long')"
      ],
      "metadata": {
        "colab": {
          "base_uri": "https://localhost:8080/"
        },
        "id": "yXrqN-KkQpgf",
        "outputId": "3f537f0f-716a-44fb-de1d-d8af7c5b7684"
      },
      "execution_count": 34,
      "outputs": [
        {
          "output_type": "stream",
          "name": "stdout",
          "text": [
            "What is your username?Ryan\n",
            "What is your password?abcdefg\n",
            "Ryan, your password, *******, is 7 letters long\n"
          ]
        }
      ]
    },
    {
      "cell_type": "markdown",
      "source": [
        "#LISTS"
      ],
      "metadata": {
        "id": "fJeeW1dxSmUV"
      }
    },
    {
      "cell_type": "code",
      "source": [
        "li = [1,2,3,4,5]\n",
        "li2 = ['a','b','c']\n",
        "li3 = [1,2,'a',True]\n",
        "\n",
        "\n",
        "# Data structure\n",
        "\n",
        "\n",
        "amazon_cart = ['notebooks', 'sunglasses']\n",
        "print(amazon_cart[0])\n",
        "print(amazon_cart[1])\n",
        "#print(amazon_cart[2])"
      ],
      "metadata": {
        "colab": {
          "base_uri": "https://localhost:8080/"
        },
        "id": "_Eml2Nm6Snfp",
        "outputId": "8cd683e2-059b-484d-b661-842ee27a43c7"
      },
      "execution_count": 37,
      "outputs": [
        {
          "output_type": "stream",
          "name": "stdout",
          "text": [
            "notebooks\n",
            "sunglasses\n"
          ]
        }
      ]
    },
    {
      "cell_type": "markdown",
      "source": [
        "#LIST SLICING"
      ],
      "metadata": {
        "id": "6dbscA4qUjp-"
      }
    },
    {
      "cell_type": "code",
      "source": [
        "#list slicing\n",
        "string = 'hellloooo'\n",
        "print(string[0:4:1])\n",
        "\n",
        "amazon_cart = [\n",
        "    'notebooks',\n",
        "    'sunglasses',\n",
        "    'toys',\n",
        "    'grapes'\n",
        "    ]\n",
        "print(amazon_cart)\n",
        "print(amazon_cart[0:2])\n",
        "print(amazon_cart[0::2])\n",
        "\n",
        "amazon_cart[0] = 'laptop'\n",
        "new_cart = amazon_cart[0:3]\n",
        "new_cart[0] = 'gum'\n",
        "print(new_cart)\n",
        "print(amazon_cart)\n",
        "print(amazon_cart[1:3])\n",
        "print(amazon_cart[0:3])\n",
        "print(amazon_cart)\n",
        "\n"
      ],
      "metadata": {
        "colab": {
          "base_uri": "https://localhost:8080/"
        },
        "id": "NbMovOFIUlMQ",
        "outputId": "29c92ed9-1bc3-4496-d7b3-701a938bcdb2"
      },
      "execution_count": 50,
      "outputs": [
        {
          "output_type": "stream",
          "name": "stdout",
          "text": [
            "hell\n",
            "['notebooks', 'sunglasses', 'toys', 'grapes']\n",
            "['notebooks', 'sunglasses']\n",
            "['notebooks', 'toys']\n",
            "['gum', 'sunglasses', 'toys']\n",
            "['laptop', 'sunglasses', 'toys', 'grapes']\n",
            "['sunglasses', 'toys']\n",
            "['laptop', 'sunglasses', 'toys']\n",
            "['laptop', 'sunglasses', 'toys', 'grapes']\n"
          ]
        }
      ]
    }
  ]
}