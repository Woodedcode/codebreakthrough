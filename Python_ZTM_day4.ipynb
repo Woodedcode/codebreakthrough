{
  "nbformat": 4,
  "nbformat_minor": 0,
  "metadata": {
    "colab": {
      "provenance": [],
      "authorship_tag": "ABX9TyMRodE9Wh8My6QxydbA90P6",
      "include_colab_link": true
    },
    "kernelspec": {
      "name": "python3",
      "display_name": "Python 3"
    },
    "language_info": {
      "name": "python"
    }
  },
  "cells": [
    {
      "cell_type": "markdown",
      "metadata": {
        "id": "view-in-github",
        "colab_type": "text"
      },
      "source": [
        "<a href=\"https://colab.research.google.com/github/Woodedcode/codebreakthrough/blob/main/Python_ZTM_day4.ipynb\" target=\"_parent\"><img src=\"https://colab.research.google.com/assets/colab-badge.svg\" alt=\"Open In Colab\"/></a>"
      ]
    },
    {
      "cell_type": "markdown",
      "source": [
        "#TUPLES - data structure - IMMUTABLE LISTS\n",
        "\n",
        "faster than lists\n",
        "\n",
        "a dictionary can have keys that are immutable\n",
        "\n",
        "typle is a valid key"
      ],
      "metadata": {
        "id": "bU-Sqh_65ePU"
      }
    },
    {
      "cell_type": "code",
      "execution_count": 15,
      "metadata": {
        "colab": {
          "base_uri": "https://localhost:8080/"
        },
        "id": "K4Fgmqwh5aK8",
        "outputId": "bb21012a-43d9-4879-8508-03892c996fe7"
      },
      "outputs": [
        {
          "output_type": "stream",
          "name": "stdout",
          "text": [
            "2\n",
            "True\n",
            "[1, 2, 3]\n",
            "(2,)\n",
            "(2, 3, 4)\n",
            "1\n",
            "2\n",
            "3\n",
            "[4, 5]\n",
            "3\n",
            "4\n",
            "7\n"
          ]
        }
      ],
      "source": [
        "my_tuple = (1,2,3,4,5)\n",
        "#my_tuple[1] = 'z'\n",
        "print(my_tuple[1])\n",
        "print(5 in my_tuple)\n",
        "\n",
        "user = {\n",
        "    (1,2): [1,2,3],\n",
        "    'greet': 'hello',\n",
        "    'age': 20\n",
        "}\n",
        "\n",
        "print(user[(1,2)])\n",
        "#\\\\\\\\\\\\\\\\\\\\\\\\\\\\\\\\\\\\\\\\\\\\\\\\\\\\\\\\\\\\\\\\\\\\\\\\\\\\\\\\\\\\\\\\\\\\\\\\\n",
        "my_tuple = (1,2,3,4,5)\n",
        "new_tuple = my_tuple[1:2]\n",
        "print(new_tuple)\n",
        "new_tuple = my_tuple[1:4]\n",
        "print(new_tuple)\n",
        "\n",
        "x,y,z, *other = (1,2,3,4,5)\n",
        "print(x)\n",
        "print(y)\n",
        "print(z)\n",
        "print(other)\n",
        "\n",
        "\n",
        "#\\\\\\\\\\\\\\\\\\\\\\\\\\\\\\\\\\\\\\\\\\\\\\\\\\\\\\\\\\\\\\\\\\ TUPLE METHODS\n",
        "my_tuple = (1,2,3,4,5,5,5)\n",
        "print(my_tuple.count(5))\n",
        "print(my_tuple.index(5))\n",
        "print(len(my_tuple))"
      ]
    },
    {
      "cell_type": "markdown",
      "source": [
        "#SETS\n",
        "\n",
        "unordered collection of unique objects"
      ],
      "metadata": {
        "id": "1Evwy52e-Yua"
      }
    },
    {
      "cell_type": "code",
      "source": [
        "my_list = [1,2,3,4,5,5]\n",
        "print(my_list)\n",
        "print(set(my_list))\n",
        "#\\\\\\\\\\\\\\\\\\\\\\\\\\\\\\\\\\\\\\\\\\\\\\\\\\\\\\\\\\\\\\\\\\\\\\\\\\\\\\\\\\\\\\\n",
        "my_set = {1,2,3,4,5}\n",
        "#my_set.add(100)\n",
        "#my_set.add(2)\n",
        "print(my_set)\n",
        "#\\\\\\\\\\\\\\\\\\\\\\\\\\\\\\\\\\\\\\\\\\\\\\\\\\\\\\\\\\\\\\\\\\\\\\\\\\\\\\\\\\\\\\\n",
        "my_set = {1,2,3,4,5,5}\n",
        "#print(my_set[0])\n",
        "print(1 in my_set)\n",
        "print(len(my_set))\n",
        "print(list(my_set))\n",
        "new_set = my_set.copy()\n",
        "print(new_set)"
      ],
      "metadata": {
        "colab": {
          "base_uri": "https://localhost:8080/"
        },
        "id": "ui4hAeOj_skr",
        "outputId": "975e5098-c112-4021-ae81-688e7e91c2a3"
      },
      "execution_count": 25,
      "outputs": [
        {
          "output_type": "stream",
          "name": "stdout",
          "text": [
            "[1, 2, 3, 4, 5, 5]\n",
            "{1, 2, 3, 4, 5}\n",
            "{1, 2, 3, 4, 5}\n",
            "True\n",
            "5\n",
            "[1, 2, 3, 4, 5]\n",
            "{1, 2, 3, 4, 5}\n"
          ]
        }
      ]
    },
    {
      "cell_type": "markdown",
      "source": [
        "#SETS METHODS\n",
        "\n",
        "#### .difference() - shows the difference between sets\n",
        "#### .discard() -\n",
        "#### .difference_update() -\n",
        "#### .ntersection() -\n",
        "#### .insidjoint() -\n",
        "#### .issubset() -\n",
        "#### .issuperset() -\n",
        "#### .union() -"
      ],
      "metadata": {
        "id": "zCSl8egZBoy0"
      }
    },
    {
      "cell_type": "code",
      "source": [
        "my_set = {1,2,3,4,5}\n",
        "your_set = {4,5,6,7,8,9,10}\n",
        "\n",
        "# .difference() - shows the difference between sets\n",
        "print('.difference')\n",
        "print(my_set.difference(your_set))\n",
        "# .discard() - removes an element from a set if it is a member\n",
        "print('.discard')\n",
        "print(my_set.discard(5))\n",
        "print(my_set)\n",
        "# .difference_update() - removes all elements of another set from this set\n",
        "print('.difference_update')\n",
        "print(my_set.difference_update(your_set))\n",
        "print(my_set)\n",
        "\n",
        "# .intersection() -\n",
        "print('.intersection')\n",
        "print(my_set.intersection(your_set))\n",
        "print(my_set & your_set)\n",
        "# .insidjoint() -\n",
        "print('.isdisjoint')\n",
        "print(my_set.isdisjoint(your_set))\n",
        "\n",
        "# .issubset() -\n",
        "my_set = {4,5}\n",
        "print('.issubset')\n",
        "print(my_set.issubset(your_set))\n",
        "\n",
        "# .issuperset() -\n",
        "print('.issuperset')\n",
        "print(my_set.issuperset(your_set))\n",
        "print(your_set.issuperset(my_set))\n",
        "\n",
        "# .union() - adds both sets together but removes any duplicates\n",
        "print('.union')\n",
        "print(my_set.union(your_set))\n",
        "print(my_set | your_set)\n",
        "\n",
        "\n",
        "\n",
        "common_elements = set1.intersection(list1)\n",
        "print(common_elements)"
      ],
      "metadata": {
        "colab": {
          "base_uri": "https://localhost:8080/"
        },
        "id": "tvs3XTGWCKKp",
        "outputId": "d150bf0b-1359-47d5-d0e6-edec274a1cda"
      },
      "execution_count": 57,
      "outputs": [
        {
          "output_type": "stream",
          "name": "stdout",
          "text": [
            ".difference\n",
            "{1, 2, 3}\n",
            ".discard\n",
            "None\n",
            "{1, 2, 3, 4}\n",
            ".difference_update\n",
            "None\n",
            "{1, 2, 3}\n",
            ".intersection\n",
            "set()\n",
            "set()\n",
            ".isdisjoint\n",
            "True\n",
            ".issubset\n",
            "True\n",
            ".issuperset\n",
            "False\n",
            "True\n",
            ".union\n",
            "{4, 5, 6, 7, 8, 9, 10}\n",
            "{4, 5, 6, 7, 8, 9, 10}\n",
            "{3, 4}\n"
          ]
        }
      ]
    }
  ]
}