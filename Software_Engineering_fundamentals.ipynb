{
  "nbformat": 4,
  "nbformat_minor": 0,
  "metadata": {
    "colab": {
      "provenance": [],
      "authorship_tag": "ABX9TyPQ9sidulY6PKj7PLS0JfXh",
      "include_colab_link": true
    },
    "kernelspec": {
      "name": "python3",
      "display_name": "Python 3"
    },
    "language_info": {
      "name": "python"
    }
  },
  "cells": [
    {
      "cell_type": "markdown",
      "metadata": {
        "id": "view-in-github",
        "colab_type": "text"
      },
      "source": [
        "<a href=\"https://colab.research.google.com/github/Woodedcode/codebreakthrough/blob/main/Software_Engineering_fundamentals.ipynb\" target=\"_parent\"><img src=\"https://colab.research.google.com/assets/colab-badge.svg\" alt=\"Open In Colab\"/></a>"
      ]
    },
    {
      "cell_type": "markdown",
      "source": [
        "#Software Engineering Fundamentals"
      ],
      "metadata": {
        "id": "0TTxfDitRG4m"
      }
    },
    {
      "cell_type": "markdown",
      "source": [
        "#Computer and Hardware\n",
        "\n",
        "Explain:\n",
        "\n",
        "Examples:\n",
        "\n",
        "#FOUNDATIONAL THEORY\n",
        "##\n",
        "\n",
        "##ABSTRACTIONS\n",
        "###layer\n",
        "\n"
      ],
      "metadata": {
        "id": "eAImI69iH79_"
      }
    },
    {
      "cell_type": "code",
      "execution_count": null,
      "metadata": {
        "id": "lmaN1MqpFJmF"
      },
      "outputs": [],
      "source": []
    },
    {
      "cell_type": "markdown",
      "source": [
        "#OPERATING SYSTEM\n",
        "\n",
        "##dedicated software that communicates with hardware"
      ],
      "metadata": {
        "id": "UhO4ubvUPPbd"
      }
    },
    {
      "cell_type": "markdown",
      "source": [
        "#SOFTWARE\n",
        "\n",
        "##WINDOWS, UNIX/LINUX, AND MAC\n",
        "\n",
        "- Learn Unix/Linux\n",
        "- VM Ware/Virtual Box\n",
        "- Terminal\n",
        "\n"
      ],
      "metadata": {
        "id": "6sP6yWoHPlmD"
      }
    },
    {
      "cell_type": "markdown",
      "source": [
        "#TYPES OF SOFTWARE\n",
        "\n",
        "#desktop -\n",
        "#web -\n",
        "#mobile -\n",
        "#hybrid -\n",
        "#embedded -\n",
        "\n",
        "##Desktop software\n",
        "####media, games, web browsers, antivirus, server software\n",
        "\n",
        "things you need to be aware of - OS, Architecture (32/64 bit), Updates\n",
        "\n",
        "\n",
        "#SOFTARE IN A VM\n",
        "###hardware\n",
        "###OS\n",
        "###VM\n",
        "###App"
      ],
      "metadata": {
        "id": "GERUA6K5RNKT"
      }
    },
    {
      "cell_type": "markdown",
      "source": [
        "#TYPES OF LANGUAGES\n",
        "\n",
        "#### Assembly -\n",
        "#### C (modern programming lang) -\n",
        "#### C++ - continuation of C\n",
        "#### Java/C\\# - OOP, runs in a VM\n",
        "#### Javacript - Web Browser\n",
        "#### Python -\n",
        "#### Rust/Go/Exlir/Zig\n",
        "\n",
        "#### compiled\n",
        "\\- C, C#, Java, C++\n",
        "\n",
        "#### Interpreted\n",
        "\\- Python, Ruby, PHP\n",
        "\n",
        "\n",
        "### INTERMEDIATE LANGUAGE\n",
        "C# -> IL -> exe\n",
        "\n",
        "###Transpiled Languages\n",
        "Typescript -> Javascript\n",
        "\n",
        "### DECLARATIVE (What)\n",
        "\\- SQL\n",
        "### IMPERATIVE (How)\n",
        "\\- Python\n"
      ],
      "metadata": {
        "id": "jFRe9b7WXuCG"
      }
    },
    {
      "cell_type": "markdown",
      "source": [
        "#INTRO TO BINARY\n",
        "\n",
        "zero - 0 - 0\n",
        "one -1 - 1\n",
        "two -2 - 10\n",
        "three -3 - 11\n",
        "four -4 - 100\n",
        "five -5 - 101\n",
        "six -6 - 110\n",
        "seven -7 - 111\n",
        "eight -8 - 1000\n",
        "nine -9 - 1001\n",
        "ten -10 - 1010\n",
        "eleven - 11 - 1011\n",
        "twelve - 12 - 1100\n",
        "thirteen -13 - 1101\n",
        "fourteen -14 - 1110\n",
        "fifteen -15 - 1111\n",
        "sixteen - 16 - 10000\n",
        "\n",
        "\n",
        "*REVIEW*"
      ],
      "metadata": {
        "id": "M4tIS-r_iRyA"
      }
    },
    {
      "cell_type": "markdown",
      "source": [
        "#Bytes and Fractional Numbers\n",
        "\n",
        "*REVIEW*\n",
        "\n",
        "\n",
        "####FRACITONAL NUMBERS\n",
        "#####Floating Point\n",
        "1/3 -> .33333\n",
        "\n",
        "32 bits -> floats\n",
        "\n",
        "64 bit -> doubles\n",
        "\n"
      ],
      "metadata": {
        "id": "JrLjUCHQ70LV"
      }
    },
    {
      "cell_type": "markdown",
      "source": [
        "#HEX AND OCTAL\n",
        "*REVIEW*"
      ],
      "metadata": {
        "id": "UC5wqkKnB17I"
      }
    },
    {
      "cell_type": "markdown",
      "source": [
        "#ERRORS\n",
        "\n",
        "Issue -> bug -> backlog\n",
        "\n",
        "EXceptions -> something is wrong with the code when executed -> excption handling\n",
        "\n",
        "Try, catch, do something"
      ],
      "metadata": {
        "id": "DCj_r5htB-AX"
      }
    },
    {
      "cell_type": "markdown",
      "source": [
        "#LOGIC ERRORS AND DEBUGGING\n",
        "\n",
        "leave a trail when fixing/identifying bugs.\n",
        "\\-bug tracking software\n",
        "\\-environment\n",
        "\\-isolate\n",
        "\\-fix\n"
      ],
      "metadata": {
        "id": "nTpHuIFLB_-x"
      }
    },
    {
      "cell_type": "markdown",
      "source": [
        "#SECURITY AND SOFTWARE TESTING\n",
        "\n",
        "here to help prevent bugs and catch bugs\n",
        "\n",
        "-Users will always try to crash the app\n",
        "\n",
        "1.   focus on core functionality\n",
        "2.   release MVP Minimum viable product - create prototype with bareminimum features\n",
        "3. security features\n",
        "4. features\n",
        "5. user testing - bad inputs or unexpected oops\n",
        "5a. Automated testing\n",
        "\n",
        "\n",
        "##whitebox testing\n",
        "\n",
        "##blackbox testing\n",
        "\n"
      ],
      "metadata": {
        "id": "OZY_2Fv7CDGU"
      }
    },
    {
      "cell_type": "code",
      "source": [],
      "metadata": {
        "id": "r7RnkBvDwAPz"
      },
      "execution_count": null,
      "outputs": []
    }
  ]
}