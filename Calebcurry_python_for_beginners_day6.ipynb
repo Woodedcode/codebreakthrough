
{
  "nbformat": 4,
  "nbformat_minor": 0,
  "metadata": {
    "colab": {
      "provenance": [],
      "authorship_tag": "ABX9TyMJoJTy1I8hv5jo78HGaiLw",
      "include_colab_link": true
    },
    "kernelspec": {
      "name": "python3",
      "display_name": "Python 3"
    },
    "language_info": {
      "name": "python"
    }
  },
  "cells": [
    {
      "cell_type": "markdown",
      "metadata": {
        "id": "view-in-github",
        "colab_type": "text"
      },
      "source": [
        "<a href=\"https://colab.research.google.com/github/Woodedcode/codebreakthrough/blob/main/Calebcurry_python_for_beginners_day6.ipynb\" target=\"_parent\"><img src=\"https://colab.research.google.com/assets/colab-badge.svg\" alt=\"Open In Colab\"/></a>"
      ]
    },
    {
      "cell_type": "markdown",
      "source": [
        "#For Loop with Index"
      ],
      "metadata": {
        "id": "8ZfqqGRvz-5N"
      }
    },
    {
      "cell_type": "code",
      "execution_count": 4,
      "metadata": {
        "colab": {
          "base_uri": "https://localhost:8080/"
        },
        "id": "Maq3LlJOzO_C",
        "outputId": "c7ad3ac3-16e1-4925-d515-62c1b3cdef35"
      },
      "outputs": [
        {
          "output_type": "stream",
          "name": "stdout",
          "text": [
            "0 1 2 3 4 5 6 7 8 9 \n",
            "asparagus tacos strawberries yogurt bagels \n",
            "0 asparagus 1 tacos 2 strawberries 3 yogurt 4 bagels \n"
          ]
        }
      ],
      "source": [
        "foods = ['asparagus', 'tacos', 'strawberries', 'yogurt', 'bagels']\n",
        "\n",
        "for i in range(10):\n",
        "  print(i, end=' ')\n",
        "print()\n",
        "\n",
        "for food in foods:\n",
        "  print(food, end=' ')\n",
        "print()\n",
        "\n",
        "for i in range(len(foods)):\n",
        "  print(i, foods[i], end=' ')\n",
        "print()"
      ]
    },
    {
      "cell_type": "markdown",
      "source": [
        "#Loop Basics Review"
      ],
      "metadata": {
        "id": "9CVwBXvp1Xq7"
      }
    },
    {
      "cell_type": "code",
      "source": [
        "#Once you understand logic, you can apply the same principles to looping\n",
        "\n",
        "languages = [\"Python\", \"C++\", \"Java\"]\n",
        "\n",
        "for x in languages:\n",
        "    print(x)\n",
        "\n",
        "#The body of this loop (the indented part) will run 3 times\n",
        "#Each time is known as an iteration\n",
        "#Each iteration, the variable x will contain one element\n",
        "#iteration 1 will be the first element\n",
        "#iteration 2 will be the next, and so on.\n",
        "#The loop automatically stops.\n",
        "\n",
        "#The variable name is irrelevant\n",
        "for language in languages:\n",
        "    print(language)\n",
        "\n",
        "\n",
        "########## PRINT WITHOUT NEWLINE ##########\n",
        "\n",
        "print(\"One\", end=\" \")\n",
        "print(\"Line\")\n",
        "\n",
        "#This is useful for loops where you don't want to spam the terminal\n",
        "for language in languages:\n",
        "    print(language, end =\" \")\n",
        "print()\n",
        "#can end with newline tfor future prints\n",
        "\n",
        "#You could alternatively use end=\"\\t\" or end=\"\" or whatever you want.\n",
        "\n",
        "#You might be confused why we have to put end and not just:\n",
        "print(\"DOEN'T AFFECT END\", \" \")\n",
        "\n",
        "#Because this is interpretted as a second argument to print\n",
        "#resulting in a printed \" \" followed by a newline.\n",
        "#We must use end= (This is an example of keyword argument)\n",
        "\n",
        "\n",
        "########## RANGE FUNCTION ##########\n",
        "\n",
        "\n",
        "#instead of iterating through a list, we can use a function called range\n",
        "#This loop runs 10 times\n",
        "for i in range(10):\n",
        "    print(\"loading...\", end= \" \")\n",
        "print()\n",
        "\n",
        "#i is known as in iteration variable\n",
        "#i will obtain a value each iteration based on the range we select.\n",
        "#for range(10), we get 0-9:\n",
        "\n",
        "for i in range(10):\n",
        "    print(i, end=\" \")\n",
        "print()\n",
        "\n",
        "#Important: the value to end at is never part of the range.\n",
        "#With range(10) we get 0, 1, 2, 3, 4, 5, 6, 7, 8, 9\n",
        "\n",
        "\n",
        "########## RANGE START POSITION ##########\n",
        "\n",
        "\n",
        "#We can count 1-10 instead of 0-9 if desired:\n",
        "for i in range (1, 11):\n",
        "    print(i, end=\" \")\n",
        "print()\n",
        "\n",
        "#We can start anywhere and end anywhere\n",
        "for i in range (5, 7):\n",
        "    print(i, end=\" \")\n",
        "print()\n",
        "\n",
        "\n",
        "########## RANGE STEP ##########\n",
        "\n",
        "\n",
        "#Go the other way.\n",
        "#9 included. -1 not included (result is 9-0)\n",
        "for i in range (9, -1, -1):\n",
        "    print(i, end=\" \")\n",
        "print()\n",
        "\n",
        "#The third argument is called the step. we can set it to whatever\n",
        "#Count down from 100 to 0, by 10s.\n",
        "for i in range (100, -1, -10):\n",
        "    print(i, end=\" \")\n",
        "print()\n",
        "\n",
        "########## SUM OF LIST ##########\n",
        "\n",
        "#https://docs.python.org/3/library/math.html\n",
        "#methods taking an iterable can take a range (sum, prod)\n",
        "\n",
        "#Sum of numbers 1, 2, 3, 4, 5, 6, 7, 8, 9, 10\n",
        "print(sum(range(1, 11)))\n",
        "\n",
        "\n",
        "########## LIST FROM RANGE ##########\n",
        "\n",
        "#We can make the range an official list using the list ctor\n",
        "#https://docs.python.org/3/library/stdtypes.html#list\n",
        "numbers = list(range(1, 11))\n",
        "print(numbers)\n",
        "\n",
        "#This is the besr way to easily print a list\n",
        "#as print(range(1,11)) doesn't work as expected\n",
        "\n",
        "########## FOR LOOP WITH INDEX ##########\n",
        "\n",
        "languages = [\"Python\", \"C++\", \"Java\"]\n",
        "for i in range(len(languages)):\n",
        "    print(i, languages[i])\n",
        "\n",
        "#len will return 3. Passing 3 to range gives us 0, 1, 2"
      ],
      "metadata": {
        "colab": {
          "base_uri": "https://localhost:8080/"
        },
        "id": "588wIpL_1Zkj",
        "outputId": "3a6beb68-65d9-42de-f71c-aae5d743c484"
      },
      "execution_count": 5,
      "outputs": [
        {
          "output_type": "stream",
          "name": "stdout",
          "text": [
            "Python\n",
            "C++\n",
            "Java\n",
            "Python\n",
            "C++\n",
            "Java\n",
            "One Line\n",
            "Python C++ Java \n",
            "DOEN'T AFFECT END  \n",
            "loading... loading... loading... loading... loading... loading... loading... loading... loading... loading... \n",
            "0 1 2 3 4 5 6 7 8 9 \n",
            "1 2 3 4 5 6 7 8 9 10 \n",
            "5 6 \n",
            "9 8 7 6 5 4 3 2 1 0 \n",
            "100 90 80 70 60 50 40 30 20 10 0 \n",
            "55\n",
            "[1, 2, 3, 4, 5, 6, 7, 8, 9, 10]\n",
            "0 Python\n",
            "1 C++\n",
            "2 Java\n"
          ]
        }
      ]
    },
    {
      "cell_type": "markdown",
      "source": [
        "#break"
      ],
      "metadata": {
        "id": "HkwslhKQ24eP"
      }
    },
    {
      "cell_type": "code",
      "source": [
        "languages = ['C++', 'Java', \"Python\", 'JavaScript']\n",
        "\n",
        "print('What are you searching for?')\n",
        "lang = input()\n",
        "\n",
        "for language in languages:\n",
        "  print(language)\n",
        "  if language == lang:\n",
        "    print('We found ' + lang)\n",
        "    break\n",
        "#print(\"end of loop interation\")"
      ],
      "metadata": {
        "colab": {
          "base_uri": "https://localhost:8080/"
        },
        "id": "dOdpZhyb29QB",
        "outputId": "b93a170a-ac62-46b1-9f2f-dbe9d3cf7efb"
      },
      "execution_count": 18,
      "outputs": [
        {
          "output_type": "stream",
          "name": "stdout",
          "text": [
            "What are you searching for?\n",
            "Python\n",
            "C++\n",
            "Java\n",
            "Python\n",
            "We found Python\n",
            "end of loop interation\n"
          ]
        }
      ]
    },
    {
      "cell_type": "markdown",
      "source": [
        "#continue"
      ],
      "metadata": {
        "id": "kNJjy0Aq5UX8"
      }
    },
    {
      "cell_type": "code",
      "source": [
        "languages = ['C++', 'Java', \"Python\", 'JavaScript']\n",
        "\n",
        "print('What are you searching for?')\n",
        "lang = input()\n",
        "\n",
        "for language in languages:\n",
        "  if language == lang:\n",
        "    print('We found ' + lang)\n",
        "    continue\n",
        "  print(language + \"....Not what we're looking for\")"
      ],
      "metadata": {
        "colab": {
          "base_uri": "https://localhost:8080/"
        },
        "id": "3XSgoTR-5YHc",
        "outputId": "42003916-d91f-4da5-9806-4063e43fb4ba"
      },
      "execution_count": 23,
      "outputs": [
        {
          "output_type": "stream",
          "name": "stdout",
          "text": [
            "What are you searching for?\n",
            "Python\n",
            "C++....Not what we're looking for\n",
            "Java....Not what we're looking for\n",
            "We found Python\n",
            "JavaScript....Not what we're looking for\n"
          ]
        }
      ]
    },
    {
      "cell_type": "markdown",
      "source": [
        "#CONTINUE CONTINUED"
      ],
      "metadata": {
        "id": "cGApbpu86FLZ"
      }
    },
    {
      "cell_type": "code",
      "source": [
        "languages = ['C++', 'Java', \"Python\", 'JavaScript','Python', 'Python']\n",
        "\n",
        "print('What are you searching for?')\n",
        "lang = input()\n",
        "\n",
        "for language in languages:\n",
        "  if language == lang:\n",
        "    print('We found ' + lang)\n",
        "  #else:\n",
        "    #print(language + \"....Not what we're looking for\")"
      ],
      "metadata": {
        "colab": {
          "base_uri": "https://localhost:8080/"
        },
        "id": "fiJx67nb6KDt",
        "outputId": "8351c179-e2fd-4dc3-b43f-184774d98be6"
      },
      "execution_count": 26,
      "outputs": [
        {
          "output_type": "stream",
          "name": "stdout",
          "text": [
            "What are you searching for?\n",
            "Python\n",
            "We found Python\n",
            "We found Python\n",
            "We found Python\n"
          ]
        }
      ]
    },
    {
      "cell_type": "markdown",
      "source": [
        "#Pass"
      ],
      "metadata": {
        "id": "uLcybWOr7D1f"
      }
    },
    {
      "cell_type": "code",
      "source": [
        "languages = ['C++', 'Java', \"Python\", 'JavaScript','Python', 'Python']\n",
        "\n",
        "print('What are you searching for?')\n",
        "lang = input()\n",
        "\n",
        "for language in languages:\n",
        "  if language == lang:\n",
        "    pass\n",
        "\n",
        "def do_somethign():\n",
        "  pass\n",
        "\n",
        "\n",
        "class test:\n",
        "  pass"
      ],
      "metadata": {
        "colab": {
          "base_uri": "https://localhost:8080/"
        },
        "id": "bZogdfQT7KWC",
        "outputId": "59eb6bee-a599-4031-f99d-c6504cb9f63a"
      },
      "execution_count": 29,
      "outputs": [
        {
          "name": "stdout",
          "output_type": "stream",
          "text": [
            "What are you searching for?\n",
            "Python\n"
          ]
        }
      ]
    },
    {
      "cell_type": "markdown",
      "source": [
        "#else with for"
      ],
      "metadata": {
        "id": "jvvBAm2L741Q"
      }
    },
    {
      "cell_type": "code",
      "source": [
        "languages = ['C++', 'Java', \"Python\", 'JavaScript','Python', 'Python']\n",
        "\n",
        "print('What are you searching for?')\n",
        "lang = input()\n",
        "\n",
        "found = False\n",
        "\n",
        "for language in languages:\n",
        "  if language == lang:\n",
        "    print('We found ' + lang)\n",
        "    found = True\n",
        "if not found:\n",
        "  print('Not found')"
      ],
      "metadata": {
        "colab": {
          "base_uri": "https://localhost:8080/"
        },
        "id": "baqZuvYW782U",
        "outputId": "c04e6104-bce2-4318-b4f3-afe4a21dddf0"
      },
      "execution_count": 36,
      "outputs": [
        {
          "output_type": "stream",
          "name": "stdout",
          "text": [
            "What are you searching for?\n",
            "python\n",
            "Not found\n"
          ]
        }
      ]
    },
    {
      "cell_type": "markdown",
      "source": [
        "#while Loop"
      ],
      "metadata": {
        "id": "REJluTTJ9m1P"
      }
    },
    {
      "cell_type": "code",
      "source": [
        "i = 0 #initialization\n",
        "\n",
        "while i < 10: #condition\n",
        "  print(i)\n",
        "  i += 1 #update"
      ],
      "metadata": {
        "colab": {
          "base_uri": "https://localhost:8080/"
        },
        "id": "w1egicpA9rjz",
        "outputId": "7f82e416-8372-49d6-d207-c38549a2cf79"
      },
      "execution_count": 38,
      "outputs": [
        {
          "output_type": "stream",
          "name": "stdout",
          "text": [
            "0\n",
            "1\n",
            "2\n",
            "3\n",
            "4\n",
            "5\n",
            "6\n",
            "7\n",
            "8\n",
            "9\n"
          ]
        }
      ]
    },
    {
      "cell_type": "markdown",
      "source": [
        "#Converting Between while and for Loops"
      ],
      "metadata": {
        "id": "TMM70vGD-ae9"
      }
    },
    {
      "cell_type": "code",
      "source": [
        "i = 0 #initialization\n",
        "\n",
        "while i < 10: #condition\n",
        "  print(i)\n",
        "  i += 1 #update\n",
        "\n",
        "for i in range(0,12,2):\n",
        "  print(i)"
      ],
      "metadata": {
        "colab": {
          "base_uri": "https://localhost:8080/"
        },
        "id": "fOrpiy1m-c27",
        "outputId": "903adf56-34c5-4241-d604-d1852869103e"
      },
      "execution_count": 40,
      "outputs": [
        {
          "output_type": "stream",
          "name": "stdout",
          "text": [
            "0\n",
            "1\n",
            "2\n",
            "3\n",
            "4\n",
            "5\n",
            "6\n",
            "7\n",
            "8\n",
            "9\n",
            "0\n",
            "2\n",
            "4\n",
            "6\n",
            "8\n",
            "10\n"
          ]
        }
      ]
    },
    {
      "cell_type": "markdown",
      "source": [
        "#Else with while"
      ],
      "metadata": {
        "id": "9_MSFmDv_P9s"
      }
    },
    {
      "cell_type": "code",
      "source": [
        "numbers = [5,3,6,70,4,2,4,3]\n",
        "\n",
        "i = 0\n",
        "square = 500\n",
        "success = False\n",
        "\n",
        "while i < len(numbers):\n",
        "  if numbers[i] ** 2 > square:\n",
        "    print(numbers[i],\"square is larger than\", square)\n",
        "    success = True\n",
        "    break\n",
        "  else:\n",
        "    print(\"none squared are larger than\", square)\n",
        "  i += 1\n"
      ],
      "metadata": {
        "colab": {
          "base_uri": "https://localhost:8080/"
        },
        "id": "pd1b3NAS_cNN",
        "outputId": "8b2ab039-c7b3-4832-ab3a-d41d4d4ff8cd"
      },
      "execution_count": 60,
      "outputs": [
        {
          "output_type": "stream",
          "name": "stdout",
          "text": [
            "none squared are larger than 500\n",
            "none squared are larger than 500\n",
            "none squared are larger than 500\n",
            "70 square is larger than 500\n"
          ]
        }
      ]
    },
    {
      "cell_type": "markdown",
      "source": [
        "#Flag Variable Example"
      ],
      "metadata": {
        "id": "XnajBzNBBpIE"
      }
    },
    {
      "cell_type": "code",
      "source": [
        "numbers = [5,3,6,7,4,2,4,3]\n",
        "\n",
        "i = 0\n",
        "square = 500\n",
        "success = False\n",
        "\n",
        "while i < len(numbers):\n",
        "  if numbers[i] ** 2 > square:\n",
        "    print(numbers[i],\"square is larger than\", square)\n",
        "    success = True\n",
        "    break\n",
        "  else:\n",
        "    print(\"none squared are larger than\", square)\n",
        "  i += 1\n",
        "\n",
        "\n",
        "if not success:\n",
        "  print('None of them were large enough')"
      ],
      "metadata": {
        "colab": {
          "base_uri": "https://localhost:8080/"
        },
        "id": "GyDPHzFxBqN-",
        "outputId": "166725a5-12e4-401e-ed3f-602504050795"
      },
      "execution_count": 63,
      "outputs": [
        {
          "output_type": "stream",
          "name": "stdout",
          "text": [
            "none squared are larger than 500\n",
            "none squared are larger than 500\n",
            "none squared are larger than 500\n",
            "none squared are larger than 500\n",
            "none squared are larger than 500\n",
            "none squared are larger than 500\n",
            "none squared are larger than 500\n",
            "none squared are larger than 500\n",
            "None of them were large enough\n"
          ]
        }
      ]
    },
    {
      "cell_type": "markdown",
      "source": [
        "#DO WHILE LOOP"
      ],
      "metadata": {
        "id": "ZQVP2k02FJWe"
      }
    },
    {
      "cell_type": "code",
      "source": [
        "i = 0\n",
        "#print(i)\n",
        "#while i < 10:\n",
        " # print(i)\n",
        "  #i += 1\n",
        "\n",
        "\n",
        "while True:\n",
        "  print(i)\n",
        "  i += 1\n",
        "  if i > 9:\n",
        "    break"
      ],
      "metadata": {
        "colab": {
          "base_uri": "https://localhost:8080/"
        },
        "id": "p9LZ4R87FK6-",
        "outputId": "eba82a7f-1b19-4de7-f010-13582b430c67"
      },
      "execution_count": 69,
      "outputs": [
        {
          "output_type": "stream",
          "name": "stdout",
          "text": [
            "0\n",
            "1\n",
            "2\n",
            "3\n",
            "4\n",
            "5\n",
            "6\n",
            "7\n",
            "8\n",
            "9\n"
          ]
        }
      ]
    }
  ]
}