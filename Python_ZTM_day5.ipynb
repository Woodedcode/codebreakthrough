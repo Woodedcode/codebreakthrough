
{
  "nbformat": 4,
  "nbformat_minor": 0,
  "metadata": {
    "colab": {
      "provenance": [],
      "authorship_tag": "ABX9TyN5oFirajGdmxI3OfRFlsow",
      "include_colab_link": true
    },
    "kernelspec": {
      "name": "python3",
      "display_name": "Python 3"
    },
    "language_info": {
      "name": "python"
    }
  },
  "cells": [
    {
      "cell_type": "markdown",
      "metadata": {
        "id": "view-in-github",
        "colab_type": "text"
      },
      "source": [
        "<a href=\"https://colab.research.google.com/github/Woodedcode/codebreakthrough/blob/main/Python_ZTM_day5.ipynb\" target=\"_parent\"><img src=\"https://colab.research.google.com/assets/colab-badge.svg\" alt=\"Open In Colab\"/></a>"
      ]
    },
    {
      "cell_type": "markdown",
      "source": [
        "#BREAK THE FLOW"
      ],
      "metadata": {
        "id": "xX8J7u9wdPjK"
      }
    },
    {
      "cell_type": "code",
      "execution_count": null,
      "metadata": {
        "id": "-CI9TxjOdNRX"
      },
      "outputs": [],
      "source": [
        "#do something\n",
        "#do something\n",
        "#do something\n",
        "\n"
      ]
    },
    {
      "cell_type": "markdown",
      "source": [
        "#CONDITIONAL LOGIC"
      ],
      "metadata": {
        "id": "q7M5LpSceG7e"
      }
    },
    {
      "cell_type": "code",
      "source": [
        "True\n",
        "False\n",
        "\n",
        "is_old = True\n",
        "is_licensed = True\n",
        "\n",
        "# if condition\n",
        "\n",
        "if is_old:\n",
        "  print('You are old enough to drive!')\n",
        "elif is_licensed:\n",
        "  print('you can drive now!')\n",
        "else:\n",
        "  print('You are not old enough to drive.')\n",
        "\n",
        "print('okokok')\n",
        "\n",
        "if is_old and is_licensed:\n",
        "  print('You are old enought to drive and you have a license')\n",
        "else:\n",
        "  print('you are not of age')\n",
        "\n",
        "\n",
        "print('check check')"
      ],
      "metadata": {
        "colab": {
          "base_uri": "https://localhost:8080/"
        },
        "id": "ju3bl3BWeJ_0",
        "outputId": "e21505fd-ee15-4c06-ee1d-6fff108a63bd"
      },
      "execution_count": 13,
      "outputs": [
        {
          "output_type": "stream",
          "name": "stdout",
          "text": [
            "You are old enough to drive!\n",
            "okokok\n",
            "You are old enought to drive and you have a license\n",
            "check check\n"
          ]
        }
      ]
    },
    {
      "cell_type": "markdown",
      "source": [
        "#INDENTATION IN PYTHON"
      ],
      "metadata": {
        "id": "I5lNUlZGhv1V"
      }
    },
    {
      "cell_type": "code",
      "source": [
        "is_old = True\n",
        "is_licensed = True\n",
        "\n",
        "\n",
        "if is_old and is_licensed:\n",
        "  print('You are old enought to drive and you have a license')\n",
        "else:\n",
        "  print('you are not of age')\n"
      ],
      "metadata": {
        "id": "zpI7L6xUhylz"
      },
      "execution_count": null,
      "outputs": []
    },
    {
      "cell_type": "markdown",
      "source": [
        "#TRUTHY AND FALSEY"
      ],
      "metadata": {
        "id": "GRwwek96jAwI"
      }
    },
    {
      "cell_type": "code",
      "source": [
        "print(bool('hello'))\n",
        "print(bool(5))\n",
        "\n",
        "print(bool(0))\n",
        "print(bool(''))\n",
        "print(bool(None))\n",
        "\n",
        "username = ''\n",
        "password = ''\n",
        "\n",
        "if password and username:\n",
        "  print('you are logged in')\n",
        "else:\n",
        "  print('you are NOT logged in')"
      ],
      "metadata": {
        "colab": {
          "base_uri": "https://localhost:8080/"
        },
        "id": "w62L60gSjFZb",
        "outputId": "22677b7d-cb8a-4541-bc9b-fb20808bdbfa"
      },
      "execution_count": 20,
      "outputs": [
        {
          "output_type": "stream",
          "name": "stdout",
          "text": [
            "True\n",
            "True\n",
            "False\n",
            "False\n",
            "False\n",
            "you are not logged in\n"
          ]
        }
      ]
    },
    {
      "cell_type": "markdown",
      "source": [
        "#TERNARY OPERATOR"
      ],
      "metadata": {
        "id": "NBN19Zw7lq65"
      }
    },
    {
      "cell_type": "code",
      "source": [
        "# Ternary Operator\n",
        "\n",
        "#condition_if_true if condition else condition_if_else\n",
        "\n",
        "is_friend = False\n",
        "can_message = 'message allowed' if is_friend else 'not allowed to message'\n",
        "print(can_message)"
      ],
      "metadata": {
        "colab": {
          "base_uri": "https://localhost:8080/"
        },
        "id": "gsheuIw8ltF2",
        "outputId": "8273ada5-f908-4ab0-a20b-559317140150"
      },
      "execution_count": 22,
      "outputs": [
        {
          "output_type": "stream",
          "name": "stdout",
          "text": [
            "not allowed to message\n"
          ]
        }
      ]
    },
    {
      "cell_type": "markdown",
      "source": [
        "#Short Circuiting\n",
        "\n",
        "if you need to check if two options are true - use **and**\n",
        "\n",
        "checks if one is true - use **or**"
      ],
      "metadata": {
        "id": "8OPm9YWom1Fh"
      }
    },
    {
      "cell_type": "code",
      "source": [
        "#Short Citcuiting\n",
        "\n",
        "is_Friend = True\n",
        "is_User = True\n",
        "\n",
        "print(is_Friend and is_User)\n",
        "\n",
        "if is_Friend and is_User:\n",
        "  print('best friends forever')\n",
        "\n",
        "if is_Friend or is_User:\n",
        "  print('best friends forever and ever')"
      ],
      "metadata": {
        "colab": {
          "base_uri": "https://localhost:8080/"
        },
        "id": "FnGpOw7Em5iT",
        "outputId": "ef30811b-360b-4b12-c2ec-ca6bccde64f4"
      },
      "execution_count": 24,
      "outputs": [
        {
          "output_type": "stream",
          "name": "stdout",
          "text": [
            "True\n",
            "best friends forever\n",
            "best friends forever and ever\n"
          ]
        }
      ]
    }
  ]
}