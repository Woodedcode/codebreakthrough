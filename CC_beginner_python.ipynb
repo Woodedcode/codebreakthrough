{
  "nbformat": 4,
  "nbformat_minor": 0,
  "metadata": {
    "colab": {
      "provenance": [],
      "authorship_tag": "ABX9TyN0RrWbTAFKLxa9OQpTXXZI",
      "include_colab_link": true
    },
    "kernelspec": {
      "name": "python3",
      "display_name": "Python 3"
    },
    "language_info": {
      "name": "python"
    }
  },
  "cells": [
    {
      "cell_type": "markdown",
      "metadata": {
        "id": "view-in-github",
        "colab_type": "text"
      },
      "source": [
        "<a href=\"https://colab.research.google.com/github/Woodedcode/codebreakthrough/blob/main/CC_beginner_python.ipynb\" target=\"_parent\"><img src=\"https://colab.research.google.com/assets/colab-badge.svg\" alt=\"Open In Colab\"/></a>"
      ]
    },
    {
      "cell_type": "markdown",
      "source": [
        "#numbers"
      ],
      "metadata": {
        "id": "tPr97y7k5fxJ"
      }
    },
    {
      "cell_type": "code",
      "source": [
        "5+5\n",
        "#working with numbers /// PEMDAS\n",
        "5/5\n",
        "5-3\n",
        "5*4\n",
        "5+3*2\n",
        "#Precedence\n",
        "5+3*2\n",
        "(3*2)+6/2-1\n",
        "5/2\n",
        "5+3\n",
        "3 * (2+6)/ (2-1)\n",
        "(3*2) + (6/2) - 1\n",
        "(((5+5)))\n",
        "#Floor Division and Round\n",
        "5/2\n",
        "round(5/2)\n",
        "round(2.5)\n",
        "round(2.5555,1)\n",
        "round(3.33333,2)\n",
        "round(10/3,2)\n",
        "import math\n",
        "\n",
        "math.ceil(3.3)\n",
        "math.floor(3.6)\n",
        "#Creating and Executing Python Files\n",
        "print(\"Hello World!\")\n",
        "#Installing and Setting up Visual Studio Code\n",
        "#Print function"
      ],
      "metadata": {
        "colab": {
          "base_uri": "https://localhost:8080/"
        },
        "id": "YT2kHOt_7dh7",
        "outputId": "71977016-22c9-4836-a9a8-5bb30d3935d5"
      },
      "execution_count": 25,
      "outputs": [
        {
          "output_type": "stream",
          "name": "stdout",
          "text": [
            "Hello World!\n"
          ]
        }
      ]
    },
    {
      "cell_type": "code",
      "execution_count": null,
      "metadata": {
        "id": "wpgiUK3B5Axw"
      },
      "outputs": [],
      "source": [
        "age = 25\n",
        "print(age)\n",
        "\n",
        "#this is a comment\n",
        "\n",
        "age1 = 1\n",
        "age_2 = 2\n",
        "#invalid name -> age-3 = 3\n",
        "#invalid name -> 4age = 4\n",
        "Age = 6 #not recommended\n",
        "age_of_user = 7 #recommend underscores for multiple words based on this guide:\n",
        "#https://www.python.org/dev/peps/pep-0008/#function-and-variable-names\n",
        "\n",
        "#return = 5 --> Cannot assign to keywords\n",
        "#https://docs.python.org/3/reference/lexical_analysis.html#keywords\n",
        "\n",
        "########## OPERATORS ##########\n",
        "result = 20 / 3 #6.6666....\n",
        "print(result)\n",
        "\n",
        "print(\"Here is a floor version (crop decimal):\", 20 // 3) #6\n",
        "\n",
        "result = 5**2 #raising a number to a power (5^)\n",
        "print(result)\n",
        "\n",
        "#You can use round instead.\n",
        "print(round(20/3), 0)\n",
        "\n",
        "print(result / age) #can use variables in place of literals. This will not change variable values\n",
        "\n",
        "#guess the output:\n",
        "print(20 / 3 + 1)\n",
        "\n",
        "#think of it like this because of operator precedence:\n",
        "print((20 / 3) + 1)\n",
        "\n",
        "#You can, however, force certain operations to happen first with ()\n",
        "print(20 / (3 + 1))\n",
        "\n",
        "######### MODULUS AND POWER ############\n",
        "\n",
        "#5 * 5 * 5 * 5* 5\n",
        "print(5**5)\n",
        "\n",
        "#The remainder of 78 / 11 is 1.\n",
        "print(78 % 11)"
      ]
    }
  ]
}