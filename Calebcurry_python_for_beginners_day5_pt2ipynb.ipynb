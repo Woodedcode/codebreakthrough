{
  "nbformat": 4,
  "nbformat_minor": 0,
  "metadata": {
    "colab": {
      "provenance": [],
      "authorship_tag": "ABX9TyMPkzohozEKLKvOyl3B4A5r",
      "include_colab_link": true
    },
    "kernelspec": {
      "name": "python3",
      "display_name": "Python 3"
    },
    "language_info": {
      "name": "python"
    }
  },
  "cells": [
    {
      "cell_type": "markdown",
      "metadata": {
        "id": "view-in-github",
        "colab_type": "text"
      },
      "source": [
        "<a href=\"https://colab.research.google.com/github/Woodedcode/codebreakthrough/blob/main/Calebcurry_python_for_beginners_day5_pt2ipynb.ipynb\" target=\"_parent\"><img src=\"https://colab.research.google.com/assets/colab-badge.svg\" alt=\"Open In Colab\"/></a>"
      ]
    },
    {
      "cell_type": "markdown",
      "source": [
        "#if Statement with Boolean variables"
      ],
      "metadata": {
        "id": "eFyc2o_9ua2z"
      }
    },
    {
      "cell_type": "code",
      "source": [
        "happy = True\n",
        "if happy == True:\n",
        "  print(\"YAY\")\n",
        "\n",
        "happy = True\n",
        "if happy:\n",
        "  print(\"YAY\")\n",
        "\n",
        "happy = False\n",
        "if happy:\n",
        "  print(\"YAY\")\n",
        "elif 5+5 == 10:\n",
        "  print(\"true (math)\")\n",
        "\n",
        "  happy = False\n",
        "if happy:\n",
        "  print(\"YAY\")\n",
        "else:\n",
        "  print(\":(\")"
      ],
      "metadata": {
        "colab": {
          "base_uri": "https://localhost:8080/"
        },
        "id": "30DHVC9guap4",
        "outputId": "8a557114-3471-4ba8-8366-8f0896bf640f"
      },
      "execution_count": 8,
      "outputs": [
        {
          "output_type": "stream",
          "name": "stdout",
          "text": [
            "YAY\n",
            "YAY\n",
            "true (math)\n",
            ":(\n"
          ]
        }
      ]
    },
    {
      "cell_type": "markdown",
      "source": [
        "#or Operator (Intro to Logical Operators)"
      ],
      "metadata": {
        "id": "r2FFunhdvxjn"
      }
    },
    {
      "cell_type": "code",
      "source": [
        "name = \"Ryen\"\n",
        "\n",
        "if name == \"Ryan\" or name == \"Ryen\":\n",
        "  print(\"Unite!\")\n",
        "\n",
        "\n",
        "name = \"Ryan\"\n",
        "\n",
        "if True or print(\"Heeyyyyy\"):\n",
        "  print(\"Unite!\")\n",
        "  print(\"A lot of stuff\")\n",
        "  input()"
      ],
      "metadata": {
        "colab": {
          "base_uri": "https://localhost:8080/"
        },
        "id": "GUU_y3mkv0KC",
        "outputId": "28d7f69a-c41a-4f35-ef52-69fc177fffaa"
      },
      "execution_count": 15,
      "outputs": [
        {
          "name": "stdout",
          "output_type": "stream",
          "text": [
            "Unite!\n",
            "Unite!\n",
            "Alot of stuff\n",
            "12\n"
          ]
        }
      ]
    },
    {
      "cell_type": "markdown",
      "source": [
        "#and Operator"
      ],
      "metadata": {
        "id": "UbX97MUrw7T0"
      }
    },
    {
      "cell_type": "code",
      "source": [
        "subscribed = True\n",
        "email_activated = True\n",
        "\n",
        "if subscribed:\n",
        "  print(\"Welcome\")\n",
        "\n",
        "\n",
        "subscribed = True\n",
        "email_activated = True\n",
        "\n",
        "if subscribed or email_activated:\n",
        "  print(\"Welcome\")\n",
        "\n",
        "#BOTH HAVE TO BE TRUE\n",
        "\n",
        "subscribed = True\n",
        "email_activated = True\n",
        "\n",
        "if subscribed and email_activated:\n",
        "  print(\"Welcome\")\n",
        "\n",
        "\n",
        "\n",
        "subscribed = True\n",
        "points = 50\n",
        "\n",
        "if subscribed and points > 30:\n",
        "  print(\"Welcome\")\n",
        "  points -= 30\n",
        "  print(\"points is now\", points)\n"
      ],
      "metadata": {
        "colab": {
          "base_uri": "https://localhost:8080/"
        },
        "id": "AHzwbpcww7FP",
        "outputId": "8bc58554-6c49-49c1-ea87-b876b9803195"
      },
      "execution_count": 22,
      "outputs": [
        {
          "output_type": "stream",
          "name": "stdout",
          "text": [
            "Welcome\n",
            "Welcome\n",
            "Welcome\n",
            "Welcome\n",
            "points is now 20\n"
          ]
        }
      ]
    },
    {
      "cell_type": "markdown",
      "source": [
        "#not Operator"
      ],
      "metadata": {
        "id": "HC4iKW1lzwvB"
      }
    },
    {
      "cell_type": "code",
      "source": [
        "subscribed = False\n",
        "points = 50\n",
        "\n",
        "if not subscribed :\n",
        "  print(\"redirecting to subscription page\")\n",
        "\n",
        "print(not subscribed)\n",
        "\n",
        "subscribed = False\n",
        "points = 50\n",
        "\n",
        "if not subscribed: # to my youtube channel\n",
        "  print(\"slap that sub button\")"
      ],
      "metadata": {
        "colab": {
          "base_uri": "https://localhost:8080/"
        },
        "id": "KyQSgpRbzyGb",
        "outputId": "e836f279-bc77-4333-9a76-2bfaf022f81e"
      },
      "execution_count": 28,
      "outputs": [
        {
          "output_type": "stream",
          "name": "stdout",
          "text": [
            "redirecting to subscription page\n",
            "True\n",
            "slap that sub button\n"
          ]
        }
      ]
    },
    {
      "cell_type": "markdown",
      "source": [
        "#Control Flow and Logic Review"
      ],
      "metadata": {
        "id": "lnQ-IwZa3Aik"
      }
    },
    {
      "cell_type": "code",
      "source": [
        "#Any complex program is made possible thanks to control flow statements\n",
        "#control flow statements include if statements and loops\n",
        "\n",
        "########## LOGIC ##########\n",
        "\n",
        "#You must first understand booleans.\n",
        "#They are either True or False (these are both keywords)\n",
        "#\n",
        "happy = True\n",
        "print(happy)\n",
        "\n",
        "#There are operators that will return true or false\n",
        "#These are known as comparison operators\n",
        "\n",
        "print(5 > 3)\n",
        "age = 21\n",
        "print(\"age >= 21?\", age >= 21)\n",
        "\n",
        "#You can also compare strings:\n",
        "me = \"Caleb\"\n",
        "you = \"Nerd\"\n",
        "print(\"me == you?\", me == you)\n",
        "\n",
        "#Even lists!\n",
        "my_grades = [100, 100, 100]\n",
        "your_grades = [100, 100, 1]\n",
        "print(\"Same grade?\", my_grades == your_grades) #false\n",
        "\n",
        "your_grades = [100, 100, 100]\n",
        "print(\"Same grade?\", my_grades == your_grades) #true\n",
        "\n",
        "#in some languages, == compares by memory address to see if same object\n",
        "#this is done in python using is.\n",
        "#This is known as an identity comparison\n",
        "print(\"are grades the same object?\", my_grades is your_grades) #false\n",
        "\n",
        "my_grades = your_grades\n",
        "print(\"are grades the same object?\", my_grades is your_grades) #true\n",
        "\n",
        "#You can also do order testing for strings\n",
        "#Read ABC comes before BCD?\n",
        "print(\"A before B?\", \"ABC\" < \"BCD\")\n",
        "\n",
        "#Not operator can be used to negate an equality check\n",
        "#Read A is not equal to B?\n",
        "print(\"A != B?\", \"A\" != \"B\")\n",
        "\n",
        "\n",
        "########### IF STATEMENT ##########\n",
        "\n",
        "\n",
        "#You may be wondering the user of all of these conditions. They are used within ifs and loops.\n",
        "#First, the if statement.\n",
        "print(\"What's your name?\")\n",
        "name = input()\n",
        "print(\"what's your age?\")\n",
        "age = int(input())\n",
        "\n",
        "if name == \"Caleb\":\n",
        "    print(\"Hey, Caleb\")\n",
        "#otherwise do nothing and continue\n",
        "#4 spaces over for indent\n",
        "#THIS INDENT IS IMPORTANT!\n",
        "\n",
        "#BAD:\n",
        "if age > 100:\n",
        "    print(\"WOW!\")\n",
        "print(\"You are so old\") #executes EVERY time\n",
        "\n",
        "#GOOD:\n",
        "if age > 100:\n",
        "    print(\"WOW!\")\n",
        "    print(\"You are so old\")\n",
        "\n",
        "#It is recommended to use 4 spaces instead of a tab.\n",
        "\n",
        "########## if elif else ##########\n",
        "\n",
        "if age > 100:\n",
        "    print(\"You're old\")\n",
        "elif age > 120:\n",
        "    print(\"How are you even alive?\")\n",
        "else:\n",
        "    print(\"You may have some years left in you\")\n",
        "\n",
        "\n",
        "########## CONDITIONS WITH BOOLEANS ##########\n",
        "\n",
        "\n",
        "#When working with a boolean variable, you may think to do this\n",
        "caleb_is_cool = False\n",
        "if caleb_is_cool == True:\n",
        "    print(\"Let's be friends\")\n",
        "else:\n",
        "    print(\"Eww\")\n",
        "\n",
        "\n",
        "#since the == operator returns True or False, and the variable is already false...\n",
        "#We can do this instead:\n",
        "caleb_is_cool = False\n",
        "if caleb_is_cool:\n",
        "    print(\"Let's be friends\")\n",
        "else:\n",
        "    print(\"Eww\")\n",
        "\n",
        "\n",
        "########## LOGICAL OPERTATORS #########\n",
        "\n",
        "\n",
        "#Logical operators can be used to make complex expressions that ultimately evaluate to true or false.\n",
        "#and --> both must be true\n",
        "#or --> one must be true\n",
        "#not --> negates (flips)\n",
        "\n",
        "\n",
        "#An example with or\n",
        "thunder = False\n",
        "lighting  = True\n",
        "\n",
        "if lighting or thunder:\n",
        "    print(\"Don't go swimming!\")\n",
        "\n",
        "#An example with and\n",
        "car_nice = True\n",
        "on_sale = False\n",
        "\n",
        "if car_nice and on_sale:\n",
        "    print(\"Buy the car!\") #This will not execute!\n",
        "\n",
        "#An example with not AND and\n",
        "temp_outside = 50\n",
        "pool_heated = False\n",
        "\n",
        "if temp_outside < 60 and not pool_heated:\n",
        "    print(\"Don't go swimming!\")\n",
        "\n",
        "#this can be confusing, so it might be best to read it as english\n",
        "#however, logically... pool_heated is false so not pool_heated is true.\n",
        "#therefore, both sides are true."
      ],
      "metadata": {
        "colab": {
          "base_uri": "https://localhost:8080/"
        },
        "id": "hQl0z-oH3B_h",
        "outputId": "7fa68817-91a8-4aa6-d1b6-1d73c9c370e3"
      },
      "execution_count": 30,
      "outputs": [
        {
          "output_type": "stream",
          "name": "stdout",
          "text": [
            "True\n",
            "True\n",
            "age >= 21? True\n",
            "me == you? False\n",
            "Same grade? False\n",
            "Same grade? True\n",
            "are grades the same object? False\n",
            "are grades the same object? True\n",
            "A before B? True\n",
            "A != B? True\n",
            "What's your name?\n",
            "ryan\n",
            "what's your age?\n",
            "35\n",
            "You are so old\n",
            "You may have some years left in you\n",
            "Eww\n",
            "Eww\n",
            "Don't go swimming!\n",
            "Don't go swimming!\n"
          ]
        }
      ]
    },
    {
      "cell_type": "markdown",
      "source": [
        "#For Loop"
      ],
      "metadata": {
        "id": "aBkXEGrK4oCP"
      }
    },
    {
      "cell_type": "code",
      "source": [
        "friends = [\"annie\", \"melanie\", 'mike', 'rob']\n",
        "print(friends)\n",
        "\n",
        "for friend in friends:\n",
        "  print(friend)\n",
        "\n",
        "for friend in friends:\n",
        "  print(friend, end=\" \")\n",
        "print()"
      ],
      "metadata": {
        "colab": {
          "base_uri": "https://localhost:8080/"
        },
        "id": "F_lwk3yX4t6x",
        "outputId": "18b62ce6-bb9c-40bf-a807-bfe236d9ba1b"
      },
      "execution_count": 36,
      "outputs": [
        {
          "output_type": "stream",
          "name": "stdout",
          "text": [
            "['annie', 'melanie', 'mike', 'rob']\n",
            "annie\n",
            "melanie\n",
            "mike\n",
            "rob\n",
            "annie melanie mike rob \n"
          ]
        }
      ]
    },
    {
      "cell_type": "markdown",
      "source": [
        "# Print without Newline using end Parameter"
      ],
      "metadata": {
        "id": "4qwjZ5uQ6nqJ"
      }
    },
    {
      "cell_type": "code",
      "source": [
        "for pizza in range(10): #exclusive\n",
        "  print(pizza + 1)"
      ],
      "metadata": {
        "colab": {
          "base_uri": "https://localhost:8080/"
        },
        "id": "_Z04n2Rf6wE9",
        "outputId": "b8696412-55a3-4966-d8a1-4ffe4d66458f"
      },
      "execution_count": 39,
      "outputs": [
        {
          "output_type": "stream",
          "name": "stdout",
          "text": [
            "1\n",
            "2\n",
            "3\n",
            "4\n",
            "5\n",
            "6\n",
            "7\n",
            "8\n",
            "9\n",
            "10\n"
          ]
        }
      ]
    },
    {
      "cell_type": "markdown",
      "source": [
        "#Range Starting Position"
      ],
      "metadata": {
        "id": "qnyCd8m27Mpg"
      }
    },
    {
      "cell_type": "code",
      "source": [
        "for pizza in range(231,501):\n",
        "  print(pizza, end=\" \")\n",
        "print()"
      ],
      "metadata": {
        "colab": {
          "base_uri": "https://localhost:8080/"
        },
        "id": "Vs1qDbsz7TwU",
        "outputId": "0a2a4c85-0697-4321-b250-905d342a790a"
      },
      "execution_count": 41,
      "outputs": [
        {
          "output_type": "stream",
          "name": "stdout",
          "text": [
            "231 232 233 234 235 236 237 238 239 240 241 242 243 244 245 246 247 248 249 250 251 252 253 254 255 256 257 258 259 260 261 262 263 264 265 266 267 268 269 270 271 272 273 274 275 276 277 278 279 280 281 282 283 284 285 286 287 288 289 290 291 292 293 294 295 296 297 298 299 300 301 302 303 304 305 306 307 308 309 310 311 312 313 314 315 316 317 318 319 320 321 322 323 324 325 326 327 328 329 330 331 332 333 334 335 336 337 338 339 340 341 342 343 344 345 346 347 348 349 350 351 352 353 354 355 356 357 358 359 360 361 362 363 364 365 366 367 368 369 370 371 372 373 374 375 376 377 378 379 380 381 382 383 384 385 386 387 388 389 390 391 392 393 394 395 396 397 398 399 400 401 402 403 404 405 406 407 408 409 410 411 412 413 414 415 416 417 418 419 420 421 422 423 424 425 426 427 428 429 430 431 432 433 434 435 436 437 438 439 440 441 442 443 444 445 446 447 448 449 450 451 452 453 454 455 456 457 458 459 460 461 462 463 464 465 466 467 468 469 470 471 472 473 474 475 476 477 478 479 480 481 482 483 484 485 486 487 488 489 490 491 492 493 494 495 496 497 498 499 500 \n"
          ]
        }
      ]
    },
    {
      "cell_type": "markdown",
      "source": [
        "#Step in Range Explained"
      ],
      "metadata": {
        "id": "TKCrqzhT70YL"
      }
    },
    {
      "cell_type": "code",
      "source": [
        "for pizza in range(200,0,-1):\n",
        "  print(pizza, end=\" \")\n",
        "print()"
      ],
      "metadata": {
        "colab": {
          "base_uri": "https://localhost:8080/"
        },
        "id": "nVWKxRqT76r1",
        "outputId": "1ef0cbf8-724e-4aff-934b-8024b6c59bb7"
      },
      "execution_count": 46,
      "outputs": [
        {
          "output_type": "stream",
          "name": "stdout",
          "text": [
            "200 199 198 197 196 195 194 193 192 191 190 189 188 187 186 185 184 183 182 181 180 179 178 177 176 175 174 173 172 171 170 169 168 167 166 165 164 163 162 161 160 159 158 157 156 155 154 153 152 151 150 149 148 147 146 145 144 143 142 141 140 139 138 137 136 135 134 133 132 131 130 129 128 127 126 125 124 123 122 121 120 119 118 117 116 115 114 113 112 111 110 109 108 107 106 105 104 103 102 101 100 99 98 97 96 95 94 93 92 91 90 89 88 87 86 85 84 83 82 81 80 79 78 77 76 75 74 73 72 71 70 69 68 67 66 65 64 63 62 61 60 59 58 57 56 55 54 53 52 51 50 49 48 47 46 45 44 43 42 41 40 39 38 37 36 35 34 33 32 31 30 29 28 27 26 25 24 23 22 21 20 19 18 17 16 15 14 13 12 11 10 9 8 7 6 5 4 3 2 1 \n"
          ]
        }
      ]
    },
    {
      "cell_type": "markdown",
      "source": [
        "#Range Sum"
      ],
      "metadata": {
        "id": "CRcBH4mZ8XiL"
      }
    },
    {
      "cell_type": "code",
      "source": [
        "for i in range(10):\n",
        "  print(i)\n",
        "\n",
        "#print(sum(range(10)))\n",
        "\n",
        "\n",
        "sum = 0\n",
        "\n",
        "for i in range(10):\n",
        "  print(i)\n",
        "  sum += i\n",
        "\n",
        "print(sum)"
      ],
      "metadata": {
        "colab": {
          "base_uri": "https://localhost:8080/"
        },
        "id": "8hOs7zCw8dOh",
        "outputId": "14489b90-3efa-4e44-d92c-7583fa681167"
      },
      "execution_count": 57,
      "outputs": [
        {
          "output_type": "stream",
          "name": "stdout",
          "text": [
            "0\n",
            "1\n",
            "2\n",
            "3\n",
            "4\n",
            "5\n",
            "6\n",
            "7\n",
            "8\n",
            "9\n",
            "0\n",
            "1\n",
            "2\n",
            "3\n",
            "4\n",
            "5\n",
            "6\n",
            "7\n",
            "8\n",
            "9\n",
            "45\n"
          ]
        }
      ]
    },
    {
      "cell_type": "markdown",
      "source": [
        "#Create a List from Range"
      ],
      "metadata": {
        "id": "pBL-mtOu9kvB"
      }
    },
    {
      "cell_type": "code",
      "source": [
        "for i in range(10):\n",
        "  print(i, end=\" \")\n",
        "print()\n",
        "\n",
        "my_list = list(range(10))\n",
        "print(my_list)\n",
        "\n",
        "my_list = [1,2,3,4,5,6,7,8,9]\n",
        "print(my_list)"
      ],
      "metadata": {
        "colab": {
          "base_uri": "https://localhost:8080/"
        },
        "id": "OfKEkduo9l4z",
        "outputId": "685e40df-4adf-4ef5-dce5-ce37552c5b85"
      },
      "execution_count": 60,
      "outputs": [
        {
          "output_type": "stream",
          "name": "stdout",
          "text": [
            "0 1 2 3 4 5 6 7 8 9 \n",
            "[0, 1, 2, 3, 4, 5, 6, 7, 8, 9]\n",
            "[1, 2, 3, 4, 5, 6, 7, 8, 9]\n"
          ]
        }
      ]
    }
  ]
}