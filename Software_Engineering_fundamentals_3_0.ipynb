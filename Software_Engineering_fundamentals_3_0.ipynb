{
  "nbformat": 4,
  "nbformat_minor": 0,
  "metadata": {
    "colab": {
      "provenance": [],
      "authorship_tag": "ABX9TyPSC4PxXYD+p5fEw1QV6WKk",
      "include_colab_link": true
    },
    "kernelspec": {
      "name": "python3",
      "display_name": "Python 3"
    },
    "language_info": {
      "name": "python"
    }
  },
  "cells": [
    {
      "cell_type": "markdown",
      "metadata": {
        "id": "view-in-github",
        "colab_type": "text"
      },
      "source": [
        "<a href=\"https://colab.research.google.com/github/Woodedcode/codebreakthrough/blob/main/Software_Engineering_fundamentals_3_0.ipynb\" target=\"_parent\"><img src=\"https://colab.research.google.com/assets/colab-badge.svg\" alt=\"Open In Colab\"/></a>"
      ]
    },
    {
      "cell_type": "markdown",
      "source": [
        "#TERMINAL SETUP WSL"
      ],
      "metadata": {
        "id": "J5i99YIGKiN5"
      }
    },
    {
      "cell_type": "markdown",
      "source": [
        "#NUMBERS\n",
        "\n",
        "type out the examples\n",
        "written notes\n"
      ],
      "metadata": {
        "id": "UrXC49W4Kmpa"
      }
    },
    {
      "cell_type": "code",
      "source": [
        "user_age = 30\n",
        "print(user_age)\n",
        "\n",
        "#camel case, pascal case, snake case\n",
        "\n",
        "#camelCase\n",
        "#PascalCase -> classes\n",
        "#snake_case -> variables\n",
        "\n",
        "result = 20/3\n",
        "print(result)\n",
        "\n",
        "result = 20//3\n",
        "print(result)\n",
        "\n",
        "result = 5 ** 3\n",
        "print(result)\n",
        "\n",
        "result = round(20/3)\n",
        "print(result)\n",
        "\n",
        "result = round(6.5)\n",
        "print(result)\n",
        "\n",
        "result = int(7.5)\n",
        "print(result)\n",
        "\n",
        "result = 20/ (3 + 1)\n",
        "print(result)\n",
        "\n",
        "result = int(20/ (3+1))\n",
        "print(result)\n",
        "\n",
        "result = 5%3\n",
        "print(result)\n",
        "\n",
        "result = 78/11\n",
        "print(result)\n",
        "\n",
        "age = 300\n",
        "age = age / 9\n",
        "age /= 9\n",
        "print(age)\n",
        "age += 1\n",
        "age += 5\n",
        "print(age)"
      ],
      "metadata": {
        "colab": {
          "base_uri": "https://localhost:8080/"
        },
        "id": "zQdvSqxX_Tqv",
        "outputId": "4e2bda22-1c1c-4395-c978-98f729691d90"
      },
      "execution_count": 13,
      "outputs": [
        {
          "output_type": "stream",
          "name": "stdout",
          "text": [
            "30\n",
            "6.666666666666667\n",
            "6\n",
            "125\n",
            "7\n",
            "6\n",
            "7\n",
            "5.0\n",
            "5\n",
            "2\n",
            "7.090909090909091\n",
            "3.703703703703704\n",
            "9.703703703703704\n"
          ]
        }
      ]
    },
    {
      "cell_type": "markdown",
      "source": [
        "#STRINGS"
      ],
      "metadata": {
        "id": "ypvJ1DnKEs3U"
      }
    },
    {
      "cell_type": "code",
      "source": [
        "data = \"hello123\"\n",
        "character = 'c'\n",
        "print(data)\n",
        "\n",
        "data = 'they\\'re'\n",
        "print(data)\n",
        "\n",
        "data = 'they\\tre'\n",
        "print(data)\n",
        "\n",
        "data = 'they\\nre'\n",
        "print(data)\n",
        "\n",
        "data = '\\\\n is a new line'\n",
        "print(data)\n",
        "\n",
        "data = r'\\\\n is a new line'\n",
        "print(data)\n",
        "\n",
        "data = \"me\" + \"you\"\n",
        "print(data)\n",
        "\n",
        "data = \"me\" + \" \" + \"you\"\n",
        "print(data)\n",
        "print(\"me\",\"+\", \"you\")\n",
        "\n",
        "me = \"ryan\"\n",
        "you = \"caleb\"\n",
        "\n",
        "data = me + \"+\" + you\n",
        "data = f\"{me} + {you} are the bestest of friends\"\n",
        "print(data)\n",
        "\n",
        "data = f\"\"\"{me} + {you} are the bestest of friends\n",
        "We met in 3rd grade\n",
        "\"\"\"\n",
        "print(data)\n",
        "\n",
        "data = f\"\"\"{me} + {you} are the bestest of friends \\\n",
        "We met in 3rd grade\n",
        "\"\"\"\n",
        "print(data)\n",
        "\n",
        "\n",
        "msg = \"This is a very important message.\"\n",
        "print(msg[0] + 'acos')\n",
        "print(msg[-1])\n",
        "print(msg[0:3])\n",
        "print(msg[:3])\n",
        "print(msg[:])\n",
        "print(msg[5:6])\n",
        "#print(msg[50])\n",
        "\n",
        "msg = \"Java is my favorite\"\n",
        "#msg[0] = 'k'\n",
        "\n",
        "new = \"K\" + msg[1:]\n",
        "print(msg)\n",
        "print(new)\n",
        "\n",
        "language = \"Java\"\n",
        "\n",
        "language += \" is actually coffee\"\n",
        "print(language)\n",
        "\n",
        "language = \"Java\"\n",
        "\n",
        "language = language + \" is actually coffee\"\n",
        "print(language)\n",
        "\n",
        "name = \"Caleb\"\n",
        "print(len(name))\n",
        "print(\"Index 4:\", name[4])\n",
        "print(\"Last index:\", name[len(name) - 1])\n",
        "\n",
        "print(\"length is\", len(name))\n",
        "\n",
        "message = \"length is \" + str(len(name))\n",
        "print(message)"
      ],
      "metadata": {
        "colab": {
          "base_uri": "https://localhost:8080/"
        },
        "id": "TX9tXhNMEu5K",
        "outputId": "aab07906-d2c5-4607-b430-640c7f2e2705"
      },
      "execution_count": 46,
      "outputs": [
        {
          "output_type": "stream",
          "name": "stdout",
          "text": [
            "hello123\n",
            "they're\n",
            "they\tre\n",
            "they\n",
            "re\n",
            "\\n is a new line\n",
            "\\\\n is a new line\n",
            "meyou\n",
            "me you\n",
            "me + you\n",
            "ryan + caleb are the bestest of friends\n",
            "ryan + caleb are the bestest of friends\n",
            "We met in 3rd grade\n",
            "\n",
            "ryan + caleb are the bestest of friends We met in 3rd grade\n",
            "\n",
            "Tacos\n",
            ".\n",
            "Thi\n",
            "Thi\n",
            "This is a very important message.\n",
            "i\n",
            "Java is my favorite\n",
            "Kava is my favorite\n",
            "Java is actually coffee\n",
            "Java is actually coffee\n",
            "5\n",
            "Index 4: b\n",
            "Last index: b\n",
            "length is 5\n",
            "length is 5\n"
          ]
        }
      ]
    }
  ]
}