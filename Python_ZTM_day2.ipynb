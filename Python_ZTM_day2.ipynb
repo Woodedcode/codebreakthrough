{
  "nbformat": 4,
  "nbformat_minor": 0,
  "metadata": {
    "colab": {
      "provenance": [],
      "authorship_tag": "ABX9TyNkvEKXX1N4J6PbBmhHsY/5",
      "include_colab_link": true
    },
    "kernelspec": {
      "name": "python3",
      "display_name": "Python 3"
    },
    "language_info": {
      "name": "python"
    }
  },
  "cells": [
    {
      "cell_type": "markdown",
      "metadata": {
        "id": "view-in-github",
        "colab_type": "text"
      },
      "source": [
        "<a href=\"https://colab.research.google.com/github/Woodedcode/codebreakthrough/blob/main/Python_ZTM_day2.ipynb\" target=\"_parent\"><img src=\"https://colab.research.google.com/assets/colab-badge.svg\" alt=\"Open In Colab\"/></a>"
      ]
    },
    {
      "cell_type": "markdown",
      "source": [
        "#TYPE CONVERSION\n",
        "\n",
        "\n",
        "str(100)"
      ],
      "metadata": {
        "id": "NXimqk4-biTx"
      }
    },
    {
      "cell_type": "code",
      "execution_count": 5,
      "metadata": {
        "colab": {
          "base_uri": "https://localhost:8080/"
        },
        "id": "h_iiVX18bc9G",
        "outputId": "3ba5b46d-8730-466e-8917-3ac7febb2834"
      },
      "outputs": [
        {
          "output_type": "stream",
          "name": "stdout",
          "text": [
            "<class 'int'>\n",
            "<class 'int'>\n"
          ]
        }
      ],
      "source": [
        "a = str(100)\n",
        "b = int(a)\n",
        "c = type(b)\n",
        "print(c)\n",
        "\n",
        "print(type(int(str(100))))"
      ]
    },
    {
      "cell_type": "markdown",
      "source": [
        "#ESCAPE SEQUENCES\n",
        "\n",
        "weather = \"It's sunny\"\n",
        "print(weather)\n",
        "\n",
        "#### USE \\ TO ESCAPE SEQUENCE   \n",
        "#### \\t - tab\n",
        "#### \\n - new line"
      ],
      "metadata": {
        "id": "HvsNofJycT5I"
      }
    },
    {
      "cell_type": "code",
      "source": [
        "weather = \"\\tIt\\\\'s \\\"kind of\\\" sunny. \\n Hope you have a good day\"\n",
        "print(weather)"
      ],
      "metadata": {
        "colab": {
          "base_uri": "https://localhost:8080/"
        },
        "id": "oiSpPbjbcWxF",
        "outputId": "a7355c32-bddb-416a-ce8e-ec1415bd13b8"
      },
      "execution_count": 11,
      "outputs": [
        {
          "output_type": "stream",
          "name": "stdout",
          "text": [
            "\tIt\\'s \"kind of\" sunny. \n",
            " Hope you have a good day\n"
          ]
        }
      ]
    },
    {
      "cell_type": "markdown",
      "source": [
        "#FORMATTING STRINGS\n",
        "\n",
        "'Ryan'"
      ],
      "metadata": {
        "id": "7_0AHUgodaF0"
      }
    },
    {
      "cell_type": "code",
      "source": [
        "name = 'Ryan'\n",
        "age = 55\n",
        "\n",
        "print(f'hi' + ' ' + name + '. You are ' + str(age) + ' years old.')\n",
        "print(f'hi {name}. You are {age} years old.') #preferred way\n",
        "print('hi {}. You are {} years old.'.format('Ryan', 55))\n",
        "print('hi {}. You are {} years old.'.format(name, age))\n",
        "print('hi {}. You are {} years old.'.format('Ryan', 55))"
      ],
      "metadata": {
        "colab": {
          "base_uri": "https://localhost:8080/"
        },
        "id": "W8RdzNmJdcOr",
        "outputId": "e1edd319-d5ef-4911-e638-291eb777971c"
      },
      "execution_count": 20,
      "outputs": [
        {
          "output_type": "stream",
          "name": "stdout",
          "text": [
            "hi Ryan. You are 55 years old.\n",
            "hi Ryan. You are 55 years old.\n",
            "hi Ryan. You are 55 years old.\n",
            "hi 55. You are Ryan years old.\n"
          ]
        }
      ]
    },
    {
      "cell_type": "markdown",
      "source": [
        "#STRING INDEXES"
      ],
      "metadata": {
        "id": "l10l4qvmfc05"
      }
    },
    {
      "cell_type": "code",
      "source": [
        "selfish = 'me me me'\n",
        "        #  01234567\n",
        "\n",
        "print(selfish[0])\n",
        "print(selfish[7])\n",
        "print(selfish)\n",
        "\n",
        "#[start:stop:stepover]\n",
        "print(selfish[0])\n",
        "selfish = '01234567'\n",
        "print(selfish[0:8])\n",
        "print(selfish[0:8:2])\n",
        "print(selfish[1:])"
      ],
      "metadata": {
        "colab": {
          "base_uri": "https://localhost:8080/"
        },
        "id": "g2-9FjPsfgtF",
        "outputId": "0c2622ae-f427-4c95-c2cf-7a0ce9a6eb79"
      },
      "execution_count": 32,
      "outputs": [
        {
          "output_type": "stream",
          "name": "stdout",
          "text": [
            "m\n",
            "e\n",
            "me me me\n",
            "m\n",
            "01234567\n",
            "0246\n",
            "1234567\n"
          ]
        }
      ]
    }
  ]
}