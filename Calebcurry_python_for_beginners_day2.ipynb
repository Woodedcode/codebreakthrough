{
  "nbformat": 4,
  "nbformat_minor": 0,
  "metadata": {
    "colab": {
      "provenance": [],
      "authorship_tag": "ABX9TyP4k0SqqE9MlsrciGEK8B3Y",
      "include_colab_link": true
    },
    "kernelspec": {
      "name": "python3",
      "display_name": "Python 3"
    },
    "language_info": {
      "name": "python"
    }
  },
  "cells": [
    {
      "cell_type": "markdown",
      "metadata": {
        "id": "view-in-github",
        "colab_type": "text"
      },
      "source": [
        "<a href=\"https://colab.research.google.com/github/Woodedcode/codebreakthrough/blob/main/Calebcurry_python_for_beginners_day2.ipynb\" target=\"_parent\"><img src=\"https://colab.research.google.com/assets/colab-badge.svg\" alt=\"Open In Colab\"/></a>"
      ]
    },
    {
      "cell_type": "markdown",
      "source": [
        "#MODULUS"
      ],
      "metadata": {
        "id": "LPhsehuqmUUH"
      }
    },
    {
      "cell_type": "code",
      "execution_count": 4,
      "metadata": {
        "colab": {
          "base_uri": "https://localhost:8080/"
        },
        "id": "UFuLPAEamPmC",
        "outputId": "eff56a82-a884-450e-abab-d4606a231bf8"
      },
      "outputs": [
        {
          "output_type": "stream",
          "name": "stdout",
          "text": [
            "3.3333333333333335\n",
            "leftover 1\n",
            "5\n"
          ]
        }
      ],
      "source": [
        "print(10/3)#integer division\n",
        "\n",
        "pizza = 10\n",
        "people = 3\n",
        "print(\"leftover\",pizza%people)\n",
        "\n",
        "\n",
        "number = 345345\n",
        "limit = 10\n",
        "print(number % limit)"
      ]
    },
    {
      "cell_type": "markdown",
      "source": [
        "#POWER"
      ],
      "metadata": {
        "id": "3x7cu1cenuk4"
      }
    },
    {
      "cell_type": "code",
      "source": [
        "import math\n",
        "result = math.pow(3,5)\n",
        "print(result)\n",
        "new_version = math.floor(result)\n",
        "print(new_version)\n",
        "\n",
        "print(3 * 3 * 3)\n",
        "print(3 ** 3)\n",
        "print(3 ** 5)"
      ],
      "metadata": {
        "colab": {
          "base_uri": "https://localhost:8080/"
        },
        "id": "85_PhNoPnwDm",
        "outputId": "71cf6b9f-ee72-402e-86ac-39d5b5d23925"
      },
      "execution_count": 10,
      "outputs": [
        {
          "output_type": "stream",
          "name": "stdout",
          "text": [
            "243.0\n",
            "243\n",
            "27\n",
            "27\n",
            "243\n"
          ]
        }
      ]
    },
    {
      "cell_type": "markdown",
      "source": [
        "#REVIEW 01"
      ],
      "metadata": {
        "id": "M_lJagOPpIXR"
      }
    },
    {
      "cell_type": "markdown",
      "source": [
        "##NUMBERS"
      ],
      "metadata": {
        "id": "MxOmGBrdptiD"
      }
    },
    {
      "cell_type": "code",
      "source": [
        "age = 25\n",
        "print(age)\n",
        "\n",
        "#this is a comment\n",
        "\n",
        "age1 = 1\n",
        "age_2 = 2\n",
        "#invalid name -> age-3 = 3\n",
        "#invalid name -> 4age = 4\n",
        "Age = 6 #not recommended\n",
        "age_of_user = 7 #recommend underscores for multiple words based on this guide:\n",
        "#https://www.python.org/dev/peps/pep-0008/#function-and-variable-names\n",
        "\n",
        "#return = 5 --> Cannot assign to keywords\n",
        "#https://docs.python.org/3/reference/lexical_analysis.html#keywords\n",
        "\n",
        "########## OPERATORS ##########\n",
        "result = 20 / 3 #6.6666....\n",
        "print(result)\n",
        "\n",
        "print(\"Here is a floor version (crop decimal):\", 20 // 3) #6\n",
        "\n",
        "result = 5**2 #raising a number to a power (5^)\n",
        "print(result)\n",
        "\n",
        "#You can use round instead.\n",
        "print(round(20/3), 0)\n",
        "\n",
        "print(result / age) #can use variables in place of literals. This will not change variable values\n",
        "\n",
        "#guess the output:\n",
        "print(20 / 3 + 1)\n",
        "\n",
        "#think of it like this because of operator precedence:\n",
        "print((20 / 3) + 1)\n",
        "\n",
        "#You can, however, force certain operations to happen first with ()\n",
        "print(20 / (3 + 1))\n",
        "\n",
        "######### MODULUS AND POWER ############\n",
        "\n",
        "#5 * 5 * 5 * 5* 5\n",
        "print(5**5)\n",
        "\n",
        "#The remainder of 78 / 11 is 1.\n",
        "print(78 % 11)"
      ],
      "metadata": {
        "colab": {
          "base_uri": "https://localhost:8080/"
        },
        "id": "ZDeeyA90pQ0F",
        "outputId": "191c5d65-d5b4-46e1-8fdd-7e52cc95019a"
      },
      "execution_count": 11,
      "outputs": [
        {
          "output_type": "stream",
          "name": "stdout",
          "text": [
            "25\n",
            "6.666666666666667\n",
            "Here is a floor version (crop decimal): 6\n",
            "25\n",
            "7 0\n",
            "1.0\n",
            "7.666666666666667\n",
            "7.666666666666667\n",
            "5.0\n",
            "3125\n",
            "1\n"
          ]
        }
      ]
    },
    {
      "cell_type": "markdown",
      "source": [
        "##STRINGS"
      ],
      "metadata": {
        "id": "B9m3sTbiqBWx"
      }
    },
    {
      "cell_type": "code",
      "source": [
        "me = \"Caleb\"\n",
        "\n",
        "#escape character example\n",
        "print(\"\\n\")\n",
        "\n",
        "me = \"C\\ta\\tl\\te\\tb\\n\"\n",
        "\n",
        "print(me)\n",
        "\n",
        "#can also use single quotes\n",
        "you = 'Subscriber'\n",
        "\n",
        "me = \"Caleb\" #reset to normal\n",
        "\n",
        "#passing multiple arguments to print\n",
        "print(me, you)\n",
        "\n",
        "#double quotes and single quotes work the same way with the exception of working with quotes inside.\n",
        "#here are some examples:\n",
        "\n",
        "single_quotes = 'She said \"Hi\"'\n",
        "print(single_quotes)\n",
        "\n",
        "double_quotes = \"She said \\\"Hi\\\"\"\n",
        "print(double_quotes)\n",
        "\n",
        "single_quotes = 'I\\'m learning!'\n",
        "print(single_quotes)\n",
        "\n",
        "double_quotes = \"I'm learning!\"\n",
        "print(double_quotes)\n",
        "\n",
        "#notice we have to escape the same quote as the surrounding quote\n",
        "\n",
        "#Here are the other escape sequences:\n",
        "#https://docs.python.org/2.0/ref/strings.html\n",
        "\n",
        "#Notice that if you want to print \\ you must put two\n",
        "print(\"\\\\\")\n",
        "\n",
        "#you can also prefix with r which will make a raw string (ignoring escapes except same quote)\n",
        "print(r'as raw as I\\'ve ever seen. \\/\\/ () \\/\\/. \\t' ) #only \\' is escaped\n",
        "\n",
        "\n",
        "\n",
        "########## CONCATENTATION ##########\n",
        "\n",
        "#Use a + to concatenate\n",
        "msg = me + \" + \" + you\n",
        "print(msg)\n",
        "\n",
        "#Can use comma separated values in print. Automatically uses spaces between\n",
        "print(me, \"+\", you)\n",
        "\n",
        "#You can automatically concatenate literals (actual values with quotes as opposed to variables)\n",
        "#by putting them one after the other. This is ideal if you need to split a large string up\n",
        "#onto multiple lines.\n",
        "print(\"my \" \"name \"\n",
        "    \"is \" \"Caleb\")\n",
        "\n",
        "#You can also use multiline string\n",
        "print(\"\"\"Name: Caleb\n",
        "Age: 58\"\"\")\n",
        "\n",
        "#skip newline using \\ (without it, it would go down a line each line)\n",
        "print(\"\"\"\\\n",
        "Name: Caleb. \\\n",
        "Age: 58\"\"\")\n",
        "\n",
        "\"\"\"You may see\n",
        "them as multi-\n",
        "line comments even\n",
        "if they technically\n",
        "are not.\n",
        "https://stackoverflow.com/questions/7696924/is-there-a-way-to-create-multiline-comments-in-python\n",
        "\"\"\"\n",
        "\n",
        "########## INDEXES ##########\n",
        "\n",
        "#It's very common to grab particular characters within a string\n",
        "#this is also common for collections when we get to em.\n",
        "msg = \"This is a very important message.\"\n",
        "print(msg[5])\n",
        "\n",
        "#indexing is zero based. This means 0 will get the very first character:\n",
        "print(msg[0])\n",
        "\n",
        "#This value is returned and can be assigned to a variable or used in an expression\n",
        "first_letter = msg[0]\n",
        "print(first_letter + \"acos\")\n",
        "\n",
        "#You can also index from the right.\n",
        "period = msg[32] #from left\n",
        "print(period)\n",
        "period = msg[-1] #from right\n",
        "print(period)\n",
        "#This may be obvious, but we do not use -0 to get the first element from the right as we would\n",
        "#use 0 to get the first element from the left. (Side note) -0 actually is 0:\n",
        "print(-0) #(side note)\n",
        "print(0 == -0) #0 == 0 (side note)\n",
        "\n",
        "########## SLICING #########\n",
        "\n",
        "#repeating this for ease of reading:\n",
        "msg = \"This is a very important message.\"\n",
        "\n",
        "#We can pass two numbers in for the index to get a series of characters.\n",
        "#left is included. Right is excluded.\n",
        "\n",
        "#this will get 2 characters (from index 1 - 3 with 3 not included...we are left with index 1 and 2.\n",
        "print(msg[1:3]) #hi\n",
        "\n",
        "#You can also leave off first to start at beginning\n",
        "#or leave off second to go to end\n",
        "print(msg[:5]) #print index 0-4 (because 5 is excluded, remember)\n",
        "print (msg[1:]) #from index 1 to end\n",
        "\n",
        "#We can also use negatives. Here is how you get the last 8 characters:\n",
        "print(msg[-8:]) #start 8 from right and go to end\n",
        "\n",
        "#out of range index\n",
        "#Grabbing an out of range index directly will cause an error.\n",
        "#But incorrect ranges fail gracefully.\n",
        "#print(msg[42]) #doesn't work\n",
        "print(msg[42:43]) #works\n",
        "\n",
        "\n",
        "########## IMMUTABILITY ##########\n",
        "\n",
        "#Strings are immutable, meaning they can't change.\n",
        "cant_change = \"Java is my favorite!\"\n",
        "\n",
        "#cant_change[0] = K .....nope. Sorry Kava (my dog)\n",
        "\n",
        "#generate new string from old:\n",
        "#Kava is my favorite!\n",
        "new = 'K' + cant_change[1:]\n",
        "print(new)\n",
        "\n",
        "#Python is my favorite!\n",
        "fav_language = \"Python \" + cant_change[5:]\n",
        "print(fav_language)\n",
        "\n",
        "#Java is actually coffee\n",
        "coffee = cant_change[:8] + \"actually coffee\" #grab first 7 characters (index 8 not included)\n",
        "print(coffee)\n",
        "\n",
        "#operations that appear to change string actually replace:\n",
        "#Java is actually coffee (contrary to popular belief).\n",
        "coffee += \" (contrary to popular belief).\"\n",
        "print(coffee)\n",
        "\n",
        "########## GETTING STRING LENGTH ##########\n",
        "\n",
        "#There is a function we can use....\n",
        "#similar to how we invoke print to do something for us (output to console)\n",
        "#we can invoke len to count for us:\n",
        "\n",
        "print(len(coffee))\n",
        "\n",
        "#for those from other languages...\n",
        "#notice we do not say coffee.len()\n",
        "#coffee.len() XXXXXX\n",
        "#nope.\n",
        "\n",
        "#last index is always len() - 1.\n",
        "name = \"Caleb\"\n",
        "print(\"index 4:\", name[4]) #b\n",
        "print(\"len(name)\", len(name)) #length is 5\n",
        "\n",
        "\n",
        "########## MORE STRING WORK ##########\n",
        "\n",
        "#How to convert a number to a string\n",
        "length = len(name)\n",
        "\n",
        "print(\"Length is \" + str(length))\n",
        "\n",
        "#this works however sometimes you just need one combined string instead of components.\n",
        "#when we use a comma, we are passing in data as separate arguments.\n",
        "#fortunately, print knows how to handle it. Other times, we must pass in one string.\n",
        "#WARNING --> Commas automatically print a space.\n",
        "print(\"length is \", length)\n",
        "\n",
        "#an example of this is if we need a variable. We cannot use a comma:\n",
        "\n",
        "#BAD\n",
        "msg = \"length is\", len(name)\n",
        "print(msg) #NOT WHAT WE WANTED!\n",
        "\n",
        "#GOOD\n",
        "length = len(name)\n",
        "msg = \"length is \" + str(length)\n",
        "print(msg)\n",
        "\n",
        "#EVEN BETTER\n",
        "#We can also nest function calls:\n",
        "print(\"length is \" + str(len(name)))\n",
        "#The order in which these are invoked are in to out...\n",
        "#len(name) is first which returns a number.\n",
        "#this number is passed to str which converts it to a string\n",
        "#this string is then concatenated with the string on the left\n",
        "#this final string is then passed to print\n",
        "\n",
        "#That's the end of your introduction to strings!"
      ],
      "metadata": {
        "id": "r1EDVuJhpvCo"
      },
      "execution_count": null,
      "outputs": []
    },
    {
      "cell_type": "markdown",
      "source": [
        "#String escape sequences\n"
      ],
      "metadata": {
        "id": "p5ThgHOrr7CZ"
      }
    },
    {
      "cell_type": "code",
      "source": [
        "msg = \"Hello  Hey\"\n",
        "print(msg)\n",
        "\n",
        "msg = \"Hello\\nHey\" #new line\n",
        "print(msg)\n",
        "\n",
        "msg = \"Hello\\tHey\" #tab\n",
        "print(msg)\n",
        "\n",
        "msg = \"\\x41\" #hexidecimal\n",
        "print(msg)\n",
        "\n",
        "msg = \"\\\\t\" #format messages\n",
        "print(msg)\n"
      ],
      "metadata": {
        "colab": {
          "base_uri": "https://localhost:8080/"
        },
        "id": "v1Eo0qOCsFS3",
        "outputId": "2e50f983-1362-4d52-c855-426b4f00a5a6"
      },
      "execution_count": 18,
      "outputs": [
        {
          "output_type": "stream",
          "name": "stdout",
          "text": [
            "Hello  Hey\n",
            "Hello\n",
            "Hey\n",
            "Hello\tHey\n",
            "A\n",
            "\\t\n"
          ]
        }
      ]
    },
    {
      "cell_type": "markdown",
      "source": [
        "#SINGLE QUOTES AND DOUBLE QUOTES"
      ],
      "metadata": {
        "id": "u0tPYRF2tQBW"
      }
    },
    {
      "cell_type": "code",
      "source": [
        "msg = \"Hello\" #double\n",
        "print(msg)\n",
        "\n",
        "msg = 'Hello' #single\n",
        "print(msg)\n",
        "\n",
        "msg = 'You\\'re pretty'\n",
        "print(msg)\n",
        "\n",
        "msg = 'she said \"ewww\"'\n",
        "print(msg)"
      ],
      "metadata": {
        "colab": {
          "base_uri": "https://localhost:8080/"
        },
        "id": "6qZ_4DYttUNq",
        "outputId": "eb0b0e50-cda2-4613-ae6f-f8c3cf09fc63"
      },
      "execution_count": 21,
      "outputs": [
        {
          "output_type": "stream",
          "name": "stdout",
          "text": [
            "Hello\n",
            "Hello\n",
            "You're pretty\n",
            "she said \"ewww\"\n"
          ]
        }
      ]
    },
    {
      "cell_type": "markdown",
      "source": [
        "#Concatenation"
      ],
      "metadata": {
        "id": "eQfPWTrDuZ_8"
      }
    },
    {
      "cell_type": "code",
      "source": [
        "msg = \"you're cute\"\n",
        "msg2 = \"hmu\"\n",
        "print(msg,msg2,\"just commas\")\n",
        "\n",
        "msg = \"you're cute\"\n",
        "msg2 = \"hmu\"\n",
        "print(msg + \" \" + msg2, \"concatenation\")\n",
        "\n",
        "print(msg,msg2)\n",
        "#expecting 1 argument --> concatenation\n",
        "\n",
        "full_message = msg + \" \" + msg2\n",
        "print(full_message,\"full_message\")"
      ],
      "metadata": {
        "colab": {
          "base_uri": "https://localhost:8080/"
        },
        "id": "mupd0DvmubJV",
        "outputId": "4dba8772-240e-49f7-bc38-dde109ae6de3"
      },
      "execution_count": 28,
      "outputs": [
        {
          "output_type": "stream",
          "name": "stdout",
          "text": [
            "you're cute hmu just commas\n",
            "you're cute hmu concatenation\n",
            "you're cute hmu\n",
            "you're cute hmu full_message\n"
          ]
        }
      ]
    },
    {
      "cell_type": "markdown",
      "source": [
        "#Concatenation with literals"
      ],
      "metadata": {
        "id": "zJlXPtjevjz8"
      }
    },
    {
      "cell_type": "code",
      "source": [
        "msg = \"you're cute\"\n",
        "msg2 = \"hmu\"\n",
        "full_message = msg + \" \" + msg2\n",
        "print(\"Hey\" \" \" \"there\" \"!\")\n",
        "\n",
        "msg = (\"this is a long string....\"\n",
        "\"continued\")\n",
        "\n",
        "msg = \"Hello\"\n",
        "print(msg + \" there\")\n",
        "\n"
      ],
      "metadata": {
        "colab": {
          "base_uri": "https://localhost:8080/"
        },
        "id": "KII_uZylvnia",
        "outputId": "f44f4499-1c8c-48f0-b5c7-17f868f192cd"
      },
      "execution_count": 35,
      "outputs": [
        {
          "output_type": "stream",
          "name": "stdout",
          "text": [
            "Hey there!\n",
            "Hello there\n"
          ]
        }
      ]
    },
    {
      "cell_type": "markdown",
      "source": [
        "#Multiline strings"
      ],
      "metadata": {
        "id": "7idCJwG9wlmE"
      }
    },
    {
      "cell_type": "code",
      "source": [
        "poem = (\"this is all combined \"\n",
        "\"as one happy string...\"\n",
        "\"What was that sound? \"\n",
        "\"it was a doorbell, ring.\"\n",
        "\" When i see you, my heart sing\"\n",
        "\"here plz take this diamond ring\")\n",
        "\n",
        "#print(poem)\n",
        "\n",
        "poem = \"\"\"this is all combined \"\n",
        "as one happy string...\n",
        "What was that sound?\n",
        "it was a doorbell, ring.\n",
        " When i see you, my heart sing\n",
        "here plz take this diamond ring\"\"\"\n",
        "\n",
        "#print(poem)\n",
        "\n",
        "\n",
        "poem = \"\"\"this is all combined \\\n",
        "as one happy string...\n",
        "What was that sound? \\\n",
        "it was a doorbell, ring. \\\n",
        " When i see you, my heart sing\n",
        "here plz take this diamond ring\"\"\"\n",
        "\n",
        "print(poem)"
      ],
      "metadata": {
        "colab": {
          "base_uri": "https://localhost:8080/"
        },
        "id": "fXxVgSzewoN6",
        "outputId": "92a73df1-97ba-4d9b-86fe-b6d9a05551dd"
      },
      "execution_count": 41,
      "outputs": [
        {
          "output_type": "stream",
          "name": "stdout",
          "text": [
            "this is all combined as one happy string...\n",
            "What was that sound? it was a doorbell, ring.  When i see you, my heart sing\n",
            "here plz take this diamond ring\n"
          ]
        }
      ]
    },
    {
      "cell_type": "markdown",
      "source": [
        "#Indexes"
      ],
      "metadata": {
        "id": "-XSTYxjbyMC1"
      }
    },
    {
      "cell_type": "code",
      "source": [
        "poem = \"Where am I?\"\n",
        "\n",
        "print(poem[0])"
      ],
      "metadata": {
        "colab": {
          "base_uri": "https://localhost:8080/"
        },
        "id": "mSUloIXKyPBY",
        "outputId": "bcfb8310-4ba8-4911-e04b-7af74fbc9c7e"
      },
      "execution_count": 42,
      "outputs": [
        {
          "output_type": "stream",
          "name": "stdout",
          "text": [
            "W\n"
          ]
        }
      ]
    },
    {
      "cell_type": "markdown",
      "source": [
        "#Negatives with String Slicing"
      ],
      "metadata": {
        "id": "Xdfe1HeOy-kP"
      }
    },
    {
      "cell_type": "code",
      "source": [
        "poem = \"Where am I?\"\n",
        "#exclusive\n",
        "print(poem[5:])\n",
        "\n",
        "poem = \"Where am I?\"\n",
        "#inclusive\n",
        "print(poem[:4])\n",
        "\n",
        "\n",
        "#/////////////////////\n",
        "poem = \"Where am I?\"\n",
        "print(poem[-1])"
      ],
      "metadata": {
        "colab": {
          "base_uri": "https://localhost:8080/"
        },
        "id": "fdFrc0Pxy_1a",
        "outputId": "0e8a1818-0c8e-4236-a0c4-fb0cc8c0fca6"
      },
      "execution_count": 51,
      "outputs": [
        {
          "output_type": "stream",
          "name": "stdout",
          "text": [
            " am I?\n",
            "Wher\n",
            "?\n"
          ]
        }
      ]
    },
    {
      "cell_type": "markdown",
      "source": [
        "#Slicing with Two Numbers"
      ],
      "metadata": {
        "id": "lCRLSWSw00v6"
      }
    },
    {
      "cell_type": "code",
      "source": [
        "poem = \"Where am I?\"\n",
        "\n",
        "start = 6\n",
        "print(poem[6:8])\n",
        "print(poem[6:-3])\n",
        "print(poem[start:start+2])\n",
        "\n",
        "\n",
        "name = \"Ryan Woods\"\n",
        "\n",
        "start_of_last = 0\n",
        "print(name[start_of_last:start_of_last+5])\n"
      ],
      "metadata": {
        "colab": {
          "base_uri": "https://localhost:8080/"
        },
        "id": "ZfObQR2_03hc",
        "outputId": "8feeaa05-d0dd-46d5-df17-e449ee4e4ba3"
      },
      "execution_count": 60,
      "outputs": [
        {
          "output_type": "stream",
          "name": "stdout",
          "text": [
            "am\n",
            "am\n",
            "am\n",
            "Ryan \n"
          ]
        }
      ]
    }
  ]
}