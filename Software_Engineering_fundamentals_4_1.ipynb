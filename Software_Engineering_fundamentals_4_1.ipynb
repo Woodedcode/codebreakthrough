{
  "nbformat": 4,
  "nbformat_minor": 0,
  "metadata": {
    "colab": {
      "provenance": [],
      "authorship_tag": "ABX9TyMHsDVPDWvETepOfbfMLa88",
      "include_colab_link": true
    },
    "kernelspec": {
      "name": "python3",
      "display_name": "Python 3"
    },
    "language_info": {
      "name": "python"
    }
  },
  "cells": [
    {
      "cell_type": "markdown",
      "metadata": {
        "id": "view-in-github",
        "colab_type": "text"
      },
      "source": [
        "<a href=\"https://colab.research.google.com/github/Woodedcode/codebreakthrough/blob/main/Software_Engineering_fundamentals_4_1.ipynb\" target=\"_parent\"><img src=\"https://colab.research.google.com/assets/colab-badge.svg\" alt=\"Open In Colab\"/></a>"
      ]
    },
    {
      "cell_type": "markdown",
      "source": [
        "#WORKING WITH LISTS"
      ],
      "metadata": {
        "id": "_IQ7iDdiM0Nn"
      }
    },
    {
      "cell_type": "code",
      "source": [
        "backpack = ['pizza','frozen custard','apple crisps','kale chips','kale chips']\n",
        "healthy = ['kale chips', 'broccoli']\n",
        "search = \"kale chips\"\n",
        "\n",
        "healthy_backpack = []\n",
        "\n",
        "#checks IF IT IS IN the list (boolean Yes or No)\n",
        "#if \"pizza\" in backpack:\n",
        "  #print(\"Im so excited\")\n",
        "\n",
        "#checks WHERE in backpack:\n",
        "#print(backpack.index(search))\n",
        "\n",
        "#check COUNT of elements in the list\n",
        "#print(backpack.count(search))\n",
        "\n",
        "\n",
        "#to ADD TO AN ARRAY\n",
        "#for item in backpack:\n",
        " # if item in healthy:\n",
        "  #  healthy_backpack.append(item)\n",
        "#print(healthy_backpack)\n",
        "\n",
        "heatlhy_backpack = [item for item in backpack if item in healthy]\n",
        "print(healthy_backpack)\n",
        "\n",
        "\n",
        "\n",
        "\n"
      ],
      "metadata": {
        "colab": {
          "base_uri": "https://localhost:8080/"
        },
        "id": "SNYxjmwCMyQQ",
        "outputId": "6bcea461-dc86-424e-bc71-d110a59f368f"
      },
      "execution_count": null,
      "outputs": [
        {
          "output_type": "stream",
          "name": "stdout",
          "text": [
            "[]\n"
          ]
        }
      ]
    },
    {
      "cell_type": "markdown",
      "source": [
        "#LISTS\n",
        "\n",
        "\n"
      ],
      "metadata": {
        "id": "7GGYXMJ5R-Q9"
      }
    },
    {
      "cell_type": "code",
      "source": [],
      "metadata": {
        "id": "mGnh6wjb35l7"
      },
      "execution_count": null,
      "outputs": []
    },
    {
      "cell_type": "code",
      "source": [
        "backpack = ['pizza', 'frozen custard', 'apple crisps', 'kale chips', 'kale chips', 'kale chips']\n",
        "\n",
        "#inclusion checking\n",
        "\n",
        "if 'pizza' in backpack:\n",
        "  print(\"I'm so excited for pizza\")\n",
        "\n",
        "if 'pizza rolls' in backpack:\n",
        "  print(\"I'm so excited\")\n",
        "\n",
        "#where in list\n",
        "\n",
        "if \"pizza\" in backpack:\n",
        "  print(backpack.index(\"pizza\"))\n",
        "\n",
        "search = \"kale chips\"\n",
        "\n",
        "if search in backpack:\n",
        "  print(backpack.index(\"kale chips\"))\n",
        "\n",
        "#check count of elements in list\n",
        "print(backpack.count(search))\n",
        "\n",
        "#list comprehension\n",
        "\n",
        "healthy = ['kale chips', 'broccoli']\n",
        "\n",
        "healthy_backpack = [item for item in backpack if item in healthy]\n",
        "\n",
        "#iterates over backpack\n",
        "for item in backpack:\n",
        "  if item in healthy:\n",
        "    healthy_backpack.append(item)\n",
        "\n",
        "print(healthy_backpack)"
      ],
      "metadata": {
        "colab": {
          "base_uri": "https://localhost:8080/"
        },
        "id": "7IrRU30z5fYd",
        "outputId": "8431a466-313b-4981-a8f9-b18568674368"
      },
      "execution_count": null,
      "outputs": [
        {
          "output_type": "stream",
          "name": "stdout",
          "text": [
            "I'm so excited for pizza\n",
            "0\n",
            "3\n",
            "3\n",
            "['kale chips', 'kale chips', 'kale chips', 'kale chips', 'kale chips', 'kale chips']\n"
          ]
        }
      ]
    },
    {
      "cell_type": "code",
      "source": [
        "#LISTS CONTINUED"
      ],
      "metadata": {
        "id": "ykGNqSaU-Rzi"
      },
      "execution_count": null,
      "outputs": []
    },
    {
      "cell_type": "code",
      "source": [
        "work_days = ['monday', 'tuesday', 'thursday', 'friday', 'saturday']\n",
        "print(work_days)\n",
        "\n",
        "work_days.insert(2,'wednesday')\n",
        "print(work_days)\n",
        "\n",
        "#work_days.append('sunday')\n",
        "#print(work_days)\n",
        "\n",
        "#removing\n",
        "work_days.pop(-2)\n",
        "print(work_days)\n",
        "work_days.remove('thursday')\n",
        "print(work_days)\n",
        "del work_days[-3]\n",
        "print(work_days)\n",
        "\n",
        "\n",
        "#removing nultiple values from list\n",
        "backpack = ['pizza slice', 'button', 'pizza slice', 'fishing pole', 'pizza slice', 'nunchucks', 'pizza slice', 'pizza slice', 'sandwich from mcdonals']\n",
        "print(backpack)\n",
        "\n",
        "while \"pizza slice\" in backpack:\n",
        "  backpack.remove('pizza slice')\n",
        "\n",
        "\n",
        "backpack = [item for item in backpack if item != 'pizza slice']\n",
        "\n",
        "print(backpack)\n",
        "\n",
        "#dont remove data as your iterating through the data\n",
        "\n",
        "\n",
        "#how to reverse a list\n",
        "#1\n",
        "print('reverse')\n",
        "backpack = ['pizza slice', 'button', 'pizza slice', 'fishing pole', 'pizza slice', 'nunchucks', 'pizza slice', 'pizza slice', 'sandwich from mcdonals']\n",
        "print(backpack)\n",
        "backpack.reverse()\n",
        "\n",
        "print(backpack)\n",
        "\n",
        "#2\n",
        "print('backpack[::-1]')\n",
        "print(backpack)\n",
        "print(backpack[::-1])\n",
        "print(backpack)\n",
        "\n",
        "#3\n",
        "print('for item in backpack reversed')\n",
        "print(backpack)\n",
        "for item in reversed(backpack):\n",
        "  print(item)\n",
        "print(backpack)"
      ],
      "metadata": {
        "colab": {
          "base_uri": "https://localhost:8080/"
        },
        "id": "gz-wu_fo_BZY",
        "outputId": "548085ee-360b-401c-f3de-52e43e8ad9f8"
      },
      "execution_count": null,
      "outputs": [
        {
          "output_type": "stream",
          "name": "stdout",
          "text": [
            "['monday', 'tuesday', 'thursday', 'friday', 'saturday']\n",
            "['monday', 'tuesday', 'wednesday', 'thursday', 'friday', 'saturday']\n",
            "['monday', 'tuesday', 'wednesday', 'thursday', 'saturday']\n",
            "['monday', 'tuesday', 'wednesday', 'saturday']\n",
            "['monday', 'wednesday', 'saturday']\n",
            "['pizza slice', 'button', 'pizza slice', 'fishing pole', 'pizza slice', 'nunchucks', 'pizza slice', 'pizza slice', 'sandwich from mcdonals']\n",
            "['button', 'fishing pole', 'nunchucks', 'sandwich from mcdonals']\n",
            "reverse\n",
            "['pizza slice', 'button', 'pizza slice', 'fishing pole', 'pizza slice', 'nunchucks', 'pizza slice', 'pizza slice', 'sandwich from mcdonals']\n",
            "['sandwich from mcdonals', 'pizza slice', 'pizza slice', 'nunchucks', 'pizza slice', 'fishing pole', 'pizza slice', 'button', 'pizza slice']\n",
            "backpack[::-1]\n",
            "['sandwich from mcdonals', 'pizza slice', 'pizza slice', 'nunchucks', 'pizza slice', 'fishing pole', 'pizza slice', 'button', 'pizza slice']\n",
            "['pizza slice', 'button', 'pizza slice', 'fishing pole', 'pizza slice', 'nunchucks', 'pizza slice', 'pizza slice', 'sandwich from mcdonals']\n",
            "['sandwich from mcdonals', 'pizza slice', 'pizza slice', 'nunchucks', 'pizza slice', 'fishing pole', 'pizza slice', 'button', 'pizza slice']\n",
            "for item in backpack reversed\n",
            "['sandwich from mcdonals', 'pizza slice', 'pizza slice', 'nunchucks', 'pizza slice', 'fishing pole', 'pizza slice', 'button', 'pizza slice']\n",
            "pizza slice\n",
            "button\n",
            "pizza slice\n",
            "fishing pole\n",
            "pizza slice\n",
            "nunchucks\n",
            "pizza slice\n",
            "pizza slice\n",
            "sandwich from mcdonals\n",
            "['sandwich from mcdonals', 'pizza slice', 'pizza slice', 'nunchucks', 'pizza slice', 'fishing pole', 'pizza slice', 'button', 'pizza slice']\n"
          ]
        }
      ]
    },
    {
      "cell_type": "markdown",
      "source": [
        "#SORTING"
      ],
      "metadata": {
        "id": "f7zwg_dIGIyl"
      }
    },
    {
      "cell_type": "code",
      "source": [
        "work_days = ['monday', 'tuesday', 'thursday', 'friday', 'saturday']\n",
        "work_days.sort()\n",
        "print(work_days)\n",
        "\n",
        "numbers = [1,11,15,13,1305,43]\n",
        "numbers.sort()\n",
        "print(numbers)\n",
        "\n",
        "numbers = [1,11,15,13,1305,43]\n",
        "print(sorted(numbers))\n",
        "print(numbers)\n",
        "print(sorted(numbers, reverse=True))\n",
        "\n",
        "letters = ['a', 'A', 'abc', 'ABC', 'aBc', 'aBC', 'Abc']\n",
        "\n",
        "print(sorted(letters))\n",
        "print(sorted(letters, key=str.lower))\n",
        "\n",
        "random = ['a', 'A', 'aa', 'AAA', \"HELLO\", 'b', 'c', 'a']\n",
        "print(sorted(random, key=len))"
      ],
      "metadata": {
        "colab": {
          "base_uri": "https://localhost:8080/"
        },
        "id": "FnLCFOcMGITj",
        "outputId": "74b38e2b-5ced-4653-fed8-64924ecad104"
      },
      "execution_count": null,
      "outputs": [
        {
          "output_type": "stream",
          "name": "stdout",
          "text": [
            "['friday', 'monday', 'saturday', 'thursday', 'tuesday']\n",
            "[1, 11, 13, 15, 43, 1305]\n",
            "[1, 11, 13, 15, 43, 1305]\n",
            "[1, 11, 15, 13, 1305, 43]\n",
            "[1305, 43, 15, 13, 11, 1]\n",
            "['A', 'ABC', 'Abc', 'a', 'aBC', 'aBc', 'abc']\n",
            "['a', 'A', 'abc', 'ABC', 'aBc', 'aBC', 'Abc']\n",
            "['a', 'A', 'b', 'c', 'a', 'aa', 'AAA', 'HELLO']\n"
          ]
        }
      ]
    },
    {
      "cell_type": "markdown",
      "source": [
        "#BASIC IO (INPUT/OUTPUT)"
      ],
      "metadata": {
        "id": "9-mKb56tMZej"
      }
    },
    {
      "cell_type": "code",
      "source": [
        "msg = 'Pay attention to each word that I say'\n",
        "words = msg.split()\n",
        "print(words)\n",
        "\n",
        "msg = \"This,is,important,data\"\n",
        "print(msg.split(','))\n",
        "\n",
        "msg = \"\"\"\\\n",
        "Hey there.\n",
        "My name is Ryan!\n",
        "What is your name?\n",
        "You're name is NERD? Weird...\n",
        "Bye for now!\"\"\"\n",
        "\n",
        "print(msg)\n",
        "print(msg.split('\\n'))\n",
        "\n",
        "#############################################################\n",
        "\n",
        "print(\"List out your favorite foods seperated by ','\")\n",
        "print(\"Example input:\")\n",
        "print(\"Kale, bok choy, brussel sprouts\")\n",
        "\n",
        "foods = [food.strip() for food in input().split(\",\")]\n",
        "for food in foods:\n",
        "  print(food)\n",
        "\n",
        "\n",
        "print(\"List out your favorite foods one line at a time\")\n",
        "fav_foods = []\n",
        "\n",
        "while True:\n",
        "  fav = input(\"Enter a food. Q to quit, R to remove: \")\n",
        "  if fav.lower() == 'q':\n",
        "    break\n",
        "  if fav.lower() == 'r':\n",
        "    print(f\"Popped off: {fav_foods.pop(0)}\")\n",
        "    print(f\"favorites now: {fav_foods}\")\n",
        "    continue\n",
        "  fav_foods.append(fav)\n",
        "  print(f\"favorites now: {fav_foods}\")\n",
        "\n",
        "print(\"final\", fav_foods)\n",
        "\n",
        "\n",
        "#linked list - double eneded queue\n",
        "\n",
        "from collections import deque\n",
        "\n",
        "print(\"List out your favorite foods one line at a time\")\n",
        "fav_foods = deque()\n",
        "\n",
        "while True:\n",
        "  fav = input(\"Enter a food. Q to quit, R to remove: \")\n",
        "  if fav.lower() == 'q':\n",
        "    break\n",
        "  if fav.lower() == 'r':\n",
        "    print(f\"Popped off: {fav_foods.popleft()}\")\n",
        "    print(f\"favorites now: {fav_foods}\")\n",
        "    continue\n",
        "  fav_foods.append(fav)\n",
        "  print(f\"favorites now: {fav_foods}\")\n",
        "\n",
        "print(\"final\", fav_foods)"
      ],
      "metadata": {
        "colab": {
          "base_uri": "https://localhost:8080/",
          "height": 796
        },
        "id": "W-VhiHs1Mu8x",
        "outputId": "ab7d2e73-0d54-44d9-c286-91cfc61752f1",
        "collapsed": true
      },
      "execution_count": null,
      "outputs": [
        {
          "output_type": "stream",
          "name": "stdout",
          "text": [
            "['Pay', 'attention', 'to', 'each', 'word', 'that', 'I', 'say']\n",
            "['This', 'is', 'important', 'data']\n",
            "Hey there.\n",
            "My name is Ryan!\n",
            "What is your name?\n",
            "You're name is NERD? Weird...\n",
            "Bye for now!\n",
            "['Hey there.', 'My name is Ryan!', 'What is your name?', \"You're name is NERD? Weird...\", 'Bye for now!']\n",
            "List out your favorite foods seperated by ','\n",
            "Example input:\n",
            "Kale, bok choy, brussel sprouts\n",
            "\n",
            "\n",
            "List out your favorite foods one line at a time\n",
            "Enter a food. Q to quit, R to remove: apples\n",
            "favorites now: ['apples']\n",
            "Enter a food. Q to quit, R to remove: oranges\n",
            "favorites now: ['apples', 'oranges']\n",
            "Enter a food. Q to quit, R to remove: bananas\n",
            "favorites now: ['apples', 'oranges', 'bananas']\n",
            "Enter a food. Q to quit, R to remove: r\n",
            "Popped off: apples\n",
            "favorites now: ['oranges', 'bananas']\n"
          ]
        },
        {
          "output_type": "error",
          "ename": "KeyboardInterrupt",
          "evalue": "Interrupted by user",
          "traceback": [
            "\u001b[0;31m---------------------------------------------------------------------------\u001b[0m",
            "\u001b[0;31mKeyboardInterrupt\u001b[0m                         Traceback (most recent call last)",
            "\u001b[0;32m/tmp/ipython-input-142825996.py\u001b[0m in \u001b[0;36m<cell line: 0>\u001b[0;34m()\u001b[0m\n\u001b[1;32m     31\u001b[0m \u001b[0;34m\u001b[0m\u001b[0m\n\u001b[1;32m     32\u001b[0m \u001b[0;32mwhile\u001b[0m \u001b[0;32mTrue\u001b[0m\u001b[0;34m:\u001b[0m\u001b[0;34m\u001b[0m\u001b[0;34m\u001b[0m\u001b[0m\n\u001b[0;32m---> 33\u001b[0;31m   \u001b[0mfav\u001b[0m \u001b[0;34m=\u001b[0m \u001b[0minput\u001b[0m\u001b[0;34m(\u001b[0m\u001b[0;34m\"Enter a food. Q to quit, R to remove: \"\u001b[0m\u001b[0;34m)\u001b[0m\u001b[0;34m\u001b[0m\u001b[0;34m\u001b[0m\u001b[0m\n\u001b[0m\u001b[1;32m     34\u001b[0m   \u001b[0;32mif\u001b[0m \u001b[0mfav\u001b[0m\u001b[0;34m.\u001b[0m\u001b[0mlower\u001b[0m\u001b[0;34m(\u001b[0m\u001b[0;34m)\u001b[0m \u001b[0;34m==\u001b[0m \u001b[0;34m'q'\u001b[0m\u001b[0;34m:\u001b[0m\u001b[0;34m\u001b[0m\u001b[0;34m\u001b[0m\u001b[0m\n\u001b[1;32m     35\u001b[0m     \u001b[0;32mbreak\u001b[0m\u001b[0;34m\u001b[0m\u001b[0;34m\u001b[0m\u001b[0m\n",
            "\u001b[0;32m/usr/local/lib/python3.12/dist-packages/ipykernel/kernelbase.py\u001b[0m in \u001b[0;36mraw_input\u001b[0;34m(self, prompt)\u001b[0m\n\u001b[1;32m   1175\u001b[0m                 \u001b[0;34m\"raw_input was called, but this frontend does not support input requests.\"\u001b[0m\u001b[0;34m\u001b[0m\u001b[0;34m\u001b[0m\u001b[0m\n\u001b[1;32m   1176\u001b[0m             )\n\u001b[0;32m-> 1177\u001b[0;31m         return self._input_request(\n\u001b[0m\u001b[1;32m   1178\u001b[0m             \u001b[0mstr\u001b[0m\u001b[0;34m(\u001b[0m\u001b[0mprompt\u001b[0m\u001b[0;34m)\u001b[0m\u001b[0;34m,\u001b[0m\u001b[0;34m\u001b[0m\u001b[0;34m\u001b[0m\u001b[0m\n\u001b[1;32m   1179\u001b[0m             \u001b[0mself\u001b[0m\u001b[0;34m.\u001b[0m\u001b[0m_parent_ident\u001b[0m\u001b[0;34m[\u001b[0m\u001b[0;34m\"shell\"\u001b[0m\u001b[0;34m]\u001b[0m\u001b[0;34m,\u001b[0m\u001b[0;34m\u001b[0m\u001b[0;34m\u001b[0m\u001b[0m\n",
            "\u001b[0;32m/usr/local/lib/python3.12/dist-packages/ipykernel/kernelbase.py\u001b[0m in \u001b[0;36m_input_request\u001b[0;34m(self, prompt, ident, parent, password)\u001b[0m\n\u001b[1;32m   1217\u001b[0m             \u001b[0;32mexcept\u001b[0m \u001b[0mKeyboardInterrupt\u001b[0m\u001b[0;34m:\u001b[0m\u001b[0;34m\u001b[0m\u001b[0;34m\u001b[0m\u001b[0m\n\u001b[1;32m   1218\u001b[0m                 \u001b[0;31m# re-raise KeyboardInterrupt, to truncate traceback\u001b[0m\u001b[0;34m\u001b[0m\u001b[0;34m\u001b[0m\u001b[0m\n\u001b[0;32m-> 1219\u001b[0;31m                 \u001b[0;32mraise\u001b[0m \u001b[0mKeyboardInterrupt\u001b[0m\u001b[0;34m(\u001b[0m\u001b[0;34m\"Interrupted by user\"\u001b[0m\u001b[0;34m)\u001b[0m \u001b[0;32mfrom\u001b[0m \u001b[0;32mNone\u001b[0m\u001b[0;34m\u001b[0m\u001b[0;34m\u001b[0m\u001b[0m\n\u001b[0m\u001b[1;32m   1220\u001b[0m             \u001b[0;32mexcept\u001b[0m \u001b[0mException\u001b[0m\u001b[0;34m:\u001b[0m\u001b[0;34m\u001b[0m\u001b[0;34m\u001b[0m\u001b[0m\n\u001b[1;32m   1221\u001b[0m                 \u001b[0mself\u001b[0m\u001b[0;34m.\u001b[0m\u001b[0mlog\u001b[0m\u001b[0;34m.\u001b[0m\u001b[0mwarning\u001b[0m\u001b[0;34m(\u001b[0m\u001b[0;34m\"Invalid Message:\"\u001b[0m\u001b[0;34m,\u001b[0m \u001b[0mexc_info\u001b[0m\u001b[0;34m=\u001b[0m\u001b[0;32mTrue\u001b[0m\u001b[0;34m)\u001b[0m\u001b[0;34m\u001b[0m\u001b[0;34m\u001b[0m\u001b[0m\n",
            "\u001b[0;31mKeyboardInterrupt\u001b[0m: Interrupted by user"
          ]
        }
      ]
    },
    {
      "cell_type": "markdown",
      "source": [
        "#2D LISTS"
      ],
      "metadata": {
        "id": "k5pG3ZD5GFGR"
      }
    },
    {
      "cell_type": "code",
      "source": [
        "grades = [[6,3,5],[60,43,2,60],[205]]\n",
        "print(grades[0])\n",
        "print(grades[0][1])\n",
        "print(type(grades[0][1]))\n",
        "\n",
        "for inner_list in grades:\n",
        "  for grade in inner_list:\n",
        "    print(grade, end=\" \")\n",
        "  print()\n",
        "\n",
        "#for i in range(len(grades)):\n",
        " # for j in range(len(grades[i])):\n",
        "  #  print(grades[i][j], end=\" \")\n",
        "  #print()\n",
        "\n",
        "\"\"\"\n",
        "def print2d(grades):\n",
        "  for inner_data in grades:\n",
        "    if isinstance(inner_data, list):\n",
        "      for item in inner_data:\n",
        "        print(item, end=\" \")\n",
        "      else:\n",
        "        print(inner_data, end=\" \")\n",
        "      print()\n",
        "\n",
        "\n",
        "print2d(grades)\n",
        "\"\"\"\n",
        "######################################SORTING NESTED DATA\n",
        "grades = [[60,300,5],[60,43,2,60],5,[3],[205]]\n",
        "\n",
        "#grades = [item if isinstance(item,list) else [item] for item in grades]\n",
        "\n",
        "\n",
        "\n",
        "\n",
        "def to_list(element):\n",
        "  return element if isinstance(element, list) else [element]\n",
        "\n",
        "\n",
        "\n",
        "\n",
        "print2d(grades)\n",
        "print(\"***************\")\n",
        "grades.sort(key=to_list)\n",
        "print2d(grades)\n",
        "print(grades)\n"
      ],
      "metadata": {
        "colab": {
          "base_uri": "https://localhost:8080/"
        },
        "id": "YPVFVg7GGJ5V",
        "outputId": "6a85cc8a-06e7-401a-b27d-b4024e419aa4"
      },
      "execution_count": 31,
      "outputs": [
        {
          "output_type": "stream",
          "name": "stdout",
          "text": [
            "[6, 3, 5]\n",
            "3\n",
            "<class 'int'>\n",
            "6 3 5 \n",
            "60 43 2 60 \n",
            "205 \n",
            "60 300 5 [60, 300, 5] \n",
            "60 43 2 60 [60, 43, 2, 60] \n",
            "3 [3] \n",
            "205 [205] \n",
            "***************\n",
            "3 [3] \n",
            "60 43 2 60 [60, 43, 2, 60] \n",
            "60 300 5 [60, 300, 5] \n",
            "205 [205] \n",
            "[[3], 5, [60, 43, 2, 60], [60, 300, 5], [205]]\n"
          ]
        }
      ]
    },
    {
      "cell_type": "markdown",
      "source": [
        "#MODULES"
      ],
      "metadata": {
        "id": "E3wmpOzwPiuv"
      }
    },
    {
      "cell_type": "code",
      "source": [
        "#import math\n",
        "#import pickle\n",
        "#import queue\n",
        "#import heapq\n",
        "#import json\n",
        "#import random as r\n",
        "\n",
        "\n",
        "#print(pickle)\n",
        "#print(math.pi)\n",
        "#print(type(math))\n",
        "#print(randint(0,2))\n",
        "\n",
        "#def random(x,y):\n",
        "  #return x + y\n",
        "\n",
        "#print(random, r)\n",
        "#print('&&&&&&&&&&&&&&&&')\n",
        "\n",
        "#print(instance.randint(0,3))\n",
        "\n",
        "#seed = \"WAtermelon\"\n",
        "\n",
        "#from random import *\n",
        "\n",
        "#print(seed)\n",
        "#**************S*******************************\n",
        "def stats_range(data):\n",
        "  return max(data) - min(data)\n",
        "\n",
        "\n",
        "import utils\n",
        "print(utils.stats_Range([1,-3,5,-10]))\n",
        "\n",
        "\n",
        "\n",
        "\n",
        "\n",
        "\n",
        "\n"
      ],
      "metadata": {
        "colab": {
          "base_uri": "https://localhost:8080/"
        },
        "id": "VEFlzZKgPk-Q",
        "outputId": "d62d52a4-24a1-41c0-ae8e-1c1d6a99b49e"
      },
      "execution_count": 63,
      "outputs": [
        {
          "output_type": "stream",
          "name": "stdout",
          "text": [
            "<module 'pickle' from '/usr/lib/python3.12/pickle.py'>\n",
            "3.141592653589793\n",
            "<class 'module'>\n",
            "2\n",
            "<function random at 0x7934cb18f100> <module 'random' from '/usr/lib/python3.12/random.py'>\n",
            "&&&&&&&&&&&&&&&&\n",
            "0\n",
            "<bound method Random.seed of <random.Random object at 0x2f30a940>>\n"
          ]
        }
      ]
    }
  ]
}