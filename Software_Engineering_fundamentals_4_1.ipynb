{
  "nbformat": 4,
  "nbformat_minor": 0,
  "metadata": {
    "colab": {
      "provenance": [],
      "authorship_tag": "ABX9TyP0sKeegta+alVtBcqlUY2q",
      "include_colab_link": true
    },
    "kernelspec": {
      "name": "python3",
      "display_name": "Python 3"
    },
    "language_info": {
      "name": "python"
    }
  },
  "cells": [
    {
      "cell_type": "markdown",
      "metadata": {
        "id": "view-in-github",
        "colab_type": "text"
      },
      "source": [
        "<a href=\"https://colab.research.google.com/github/Woodedcode/codebreakthrough/blob/main/Software_Engineering_fundamentals_4_1.ipynb\" target=\"_parent\"><img src=\"https://colab.research.google.com/assets/colab-badge.svg\" alt=\"Open In Colab\"/></a>"
      ]
    },
    {
      "cell_type": "markdown",
      "source": [
        "#WORKING WITH LISTS"
      ],
      "metadata": {
        "id": "_IQ7iDdiM0Nn"
      }
    },
    {
      "cell_type": "code",
      "source": [
        "backpack = ['pizza','frozen custard','apple crisps','kale chips','kale chips']\n",
        "healthy = ['kale chips', 'broccoli']\n",
        "search = \"kale chips\"\n",
        "\n",
        "healthy_backpack = []\n",
        "\n",
        "#checks IF IT IS IN the list (boolean Yes or No)\n",
        "#if \"pizza\" in backpack:\n",
        "  #print(\"Im so excited\")\n",
        "\n",
        "#checks WHERE in backpack:\n",
        "#print(backpack.index(search))\n",
        "\n",
        "#check COUNT of elements in the list\n",
        "#print(backpack.count(search))\n",
        "\n",
        "\n",
        "#to ADD TO AN ARRAY\n",
        "#for item in backpack:\n",
        " # if item in healthy:\n",
        "  #  healthy_backpack.append(item)\n",
        "#print(healthy_backpack)\n",
        "\n",
        "heatlhy_backpack = [item for item in backpack if item in healthy]\n",
        "print(healthy_backpack)\n",
        "\n",
        "\n",
        "\n",
        "\n"
      ],
      "metadata": {
        "colab": {
          "base_uri": "https://localhost:8080/"
        },
        "id": "SNYxjmwCMyQQ",
        "outputId": "6bcea461-dc86-424e-bc71-d110a59f368f"
      },
      "execution_count": 19,
      "outputs": [
        {
          "output_type": "stream",
          "name": "stdout",
          "text": [
            "[]\n"
          ]
        }
      ]
    },
    {
      "cell_type": "markdown",
      "source": [
        "#LISTS\n",
        "\n",
        "\n"
      ],
      "metadata": {
        "id": "7GGYXMJ5R-Q9"
      }
    },
    {
      "cell_type": "code",
      "source": [],
      "metadata": {
        "id": "mGnh6wjb35l7"
      },
      "execution_count": null,
      "outputs": []
    },
    {
      "cell_type": "code",
      "source": [
        "backpack = ['pizza', 'frozen custard', 'apple crisps', 'kale chips', 'kale chips', 'kale chips']\n",
        "\n",
        "#inclusion checking\n",
        "\n",
        "if 'pizza' in backpack:\n",
        "  print(\"I'm so excited for pizza\")\n",
        "\n",
        "if 'pizza rolls' in backpack:\n",
        "  print(\"I'm so excited\")\n",
        "\n",
        "#where in list\n",
        "\n",
        "if \"pizza\" in backpack:\n",
        "  print(backpack.index(\"pizza\"))\n",
        "\n",
        "search = \"kale chips\"\n",
        "\n",
        "if search in backpack:\n",
        "  print(backpack.index(\"kale chips\"))\n",
        "\n",
        "#check count of elements in list\n",
        "print(backpack.count(search))\n",
        "\n",
        "#list comprehension\n",
        "\n",
        "healthy = ['kale chips', 'broccoli']\n",
        "\n",
        "healthy_backpack = [item for item in backpack if item in healthy]\n",
        "\n",
        "#iterates over backpack\n",
        "for item in backpack:\n",
        "  if item in healthy:\n",
        "    healthy_backpack.append(item)\n",
        "\n",
        "print(healthy_backpack)"
      ],
      "metadata": {
        "colab": {
          "base_uri": "https://localhost:8080/"
        },
        "id": "7IrRU30z5fYd",
        "outputId": "8431a466-313b-4981-a8f9-b18568674368"
      },
      "execution_count": 19,
      "outputs": [
        {
          "output_type": "stream",
          "name": "stdout",
          "text": [
            "I'm so excited for pizza\n",
            "0\n",
            "3\n",
            "3\n",
            "['kale chips', 'kale chips', 'kale chips', 'kale chips', 'kale chips', 'kale chips']\n"
          ]
        }
      ]
    },
    {
      "cell_type": "code",
      "source": [
        "#LISTS CONTINUED"
      ],
      "metadata": {
        "id": "ykGNqSaU-Rzi"
      },
      "execution_count": null,
      "outputs": []
    },
    {
      "cell_type": "code",
      "source": [
        "work_days = ['monday', 'tuesday', 'thursday', 'friday', 'saturday']\n",
        "print(work_days)\n",
        "\n",
        "work_days.insert(2,'wednesday')\n",
        "print(work_days)\n",
        "\n",
        "#work_days.append('sunday')\n",
        "#print(work_days)\n",
        "\n",
        "#removing\n",
        "work_days.pop(-2)\n",
        "print(work_days)\n",
        "work_days.remove('thursday')\n",
        "print(work_days)\n",
        "del work_days[-3]\n",
        "print(work_days)\n",
        "\n",
        "\n",
        "#removing nultiple values from list\n",
        "backpack = ['pizza slice', 'button', 'pizza slice', 'fishing pole', 'pizza slice', 'nunchucks', 'pizza slice', 'pizza slice', 'sandwich from mcdonals']\n",
        "print(backpack)\n",
        "\n",
        "while \"pizza slice\" in backpack:\n",
        "  backpack.remove('pizza slice')\n",
        "\n",
        "\n",
        "backpack = [item for item in backpack if item != 'pizza slice']\n",
        "\n",
        "print(backpack)\n",
        "\n",
        "#dont remove data as your iterating through the data\n",
        "\n",
        "\n",
        "#how to reverse a list\n",
        "#1\n",
        "print('reverse')\n",
        "backpack = ['pizza slice', 'button', 'pizza slice', 'fishing pole', 'pizza slice', 'nunchucks', 'pizza slice', 'pizza slice', 'sandwich from mcdonals']\n",
        "print(backpack)\n",
        "backpack.reverse()\n",
        "\n",
        "print(backpack)\n",
        "\n",
        "#2\n",
        "print('backpack[::-1]')\n",
        "print(backpack)\n",
        "print(backpack[::-1])\n",
        "print(backpack)\n",
        "\n",
        "#3\n",
        "print('for item in backpack reversed')\n",
        "print(backpack)\n",
        "for item in reversed(backpack):\n",
        "  print(item)\n",
        "print(backpack)"
      ],
      "metadata": {
        "colab": {
          "base_uri": "https://localhost:8080/"
        },
        "id": "gz-wu_fo_BZY",
        "outputId": "548085ee-360b-401c-f3de-52e43e8ad9f8"
      },
      "execution_count": 36,
      "outputs": [
        {
          "output_type": "stream",
          "name": "stdout",
          "text": [
            "['monday', 'tuesday', 'thursday', 'friday', 'saturday']\n",
            "['monday', 'tuesday', 'wednesday', 'thursday', 'friday', 'saturday']\n",
            "['monday', 'tuesday', 'wednesday', 'thursday', 'saturday']\n",
            "['monday', 'tuesday', 'wednesday', 'saturday']\n",
            "['monday', 'wednesday', 'saturday']\n",
            "['pizza slice', 'button', 'pizza slice', 'fishing pole', 'pizza slice', 'nunchucks', 'pizza slice', 'pizza slice', 'sandwich from mcdonals']\n",
            "['button', 'fishing pole', 'nunchucks', 'sandwich from mcdonals']\n",
            "reverse\n",
            "['pizza slice', 'button', 'pizza slice', 'fishing pole', 'pizza slice', 'nunchucks', 'pizza slice', 'pizza slice', 'sandwich from mcdonals']\n",
            "['sandwich from mcdonals', 'pizza slice', 'pizza slice', 'nunchucks', 'pizza slice', 'fishing pole', 'pizza slice', 'button', 'pizza slice']\n",
            "backpack[::-1]\n",
            "['sandwich from mcdonals', 'pizza slice', 'pizza slice', 'nunchucks', 'pizza slice', 'fishing pole', 'pizza slice', 'button', 'pizza slice']\n",
            "['pizza slice', 'button', 'pizza slice', 'fishing pole', 'pizza slice', 'nunchucks', 'pizza slice', 'pizza slice', 'sandwich from mcdonals']\n",
            "['sandwich from mcdonals', 'pizza slice', 'pizza slice', 'nunchucks', 'pizza slice', 'fishing pole', 'pizza slice', 'button', 'pizza slice']\n",
            "for item in backpack reversed\n",
            "['sandwich from mcdonals', 'pizza slice', 'pizza slice', 'nunchucks', 'pizza slice', 'fishing pole', 'pizza slice', 'button', 'pizza slice']\n",
            "pizza slice\n",
            "button\n",
            "pizza slice\n",
            "fishing pole\n",
            "pizza slice\n",
            "nunchucks\n",
            "pizza slice\n",
            "pizza slice\n",
            "sandwich from mcdonals\n",
            "['sandwich from mcdonals', 'pizza slice', 'pizza slice', 'nunchucks', 'pizza slice', 'fishing pole', 'pizza slice', 'button', 'pizza slice']\n"
          ]
        }
      ]
    }
  ]
}