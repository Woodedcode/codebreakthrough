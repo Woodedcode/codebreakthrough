{
  "nbformat": 4,
  "nbformat_minor": 0,
  "metadata": {
    "colab": {
      "provenance": [],
      "authorship_tag": "ABX9TyOAPgxFCpXky9XRIE7Tn0Lw",
      "include_colab_link": true
    },
    "kernelspec": {
      "name": "python3",
      "display_name": "Python 3"
    },
    "language_info": {
      "name": "python"
    }
  },
  "cells": [
    {
      "cell_type": "markdown",
      "metadata": {
        "id": "view-in-github",
        "colab_type": "text"
      },
      "source": [
        "<a href=\"https://colab.research.google.com/github/Woodedcode/codebreakthrough/blob/main/Software_Engineering_fundamentals_4_1.ipynb\" target=\"_parent\"><img src=\"https://colab.research.google.com/assets/colab-badge.svg\" alt=\"Open In Colab\"/></a>"
      ]
    },
    {
      "cell_type": "markdown",
      "source": [
        "#WORKING WITH LISTS"
      ],
      "metadata": {
        "id": "_IQ7iDdiM0Nn"
      }
    },
    {
      "cell_type": "code",
      "source": [
        "backpack = ['pizza','frozen custard','apple crisps','kale chips','kale chips']\n",
        "healthy = ['kale chips', 'broccoli']\n",
        "search = \"kale chips\"\n",
        "\n",
        "healthy_backpack = []\n",
        "\n",
        "#checks IF IT IS IN the list (boolean Yes or No)\n",
        "#if \"pizza\" in backpack:\n",
        "  #print(\"Im so excited\")\n",
        "\n",
        "#checks WHERE in backpack:\n",
        "#print(backpack.index(search))\n",
        "\n",
        "#check COUNT of elements in the list\n",
        "#print(backpack.count(search))\n",
        "\n",
        "\n",
        "#to ADD TO AN ARRAY\n",
        "#for item in backpack:\n",
        " # if item in healthy:\n",
        "  #  healthy_backpack.append(item)\n",
        "#print(healthy_backpack)\n",
        "\n",
        "heatlhy_backpack = [item for item in backpack if item in healthy]\n",
        "print(healthy_backpack)\n",
        "\n",
        "\n",
        "\n",
        "\n"
      ],
      "metadata": {
        "colab": {
          "base_uri": "https://localhost:8080/"
        },
        "id": "SNYxjmwCMyQQ",
        "outputId": "6bcea461-dc86-424e-bc71-d110a59f368f"
      },
      "execution_count": 19,
      "outputs": [
        {
          "output_type": "stream",
          "name": "stdout",
          "text": [
            "[]\n"
          ]
        }
      ]
    },
    {
      "cell_type": "markdown",
      "source": [
        "#LISTS\n",
        "\n",
        "\n"
      ],
      "metadata": {
        "id": "7GGYXMJ5R-Q9"
      }
    },
    {
      "cell_type": "code",
      "source": [],
      "metadata": {
        "id": "mGnh6wjb35l7"
      },
      "execution_count": null,
      "outputs": []
    },
    {
      "cell_type": "code",
      "source": [
        "backpack = ['pizza', 'frozen custard', 'apple crisps', 'kale chips', 'kale chips', 'kale chips']\n",
        "\n",
        "#inclusion checking\n",
        "\n",
        "if 'pizza' in backpack:\n",
        "  print(\"I'm so excited for pizza\")\n",
        "\n",
        "if 'pizza rolls' in backpack:\n",
        "  print(\"I'm so excited\")\n",
        "\n",
        "#where in list\n",
        "\n",
        "if \"pizza\" in backpack:\n",
        "  print(backpack.index(\"pizza\"))\n",
        "\n",
        "search = \"kale chips\"\n",
        "\n",
        "if search in backpack:\n",
        "  print(backpack.index(\"kale chips\"))\n",
        "\n",
        "#check count of elements in list\n",
        "print(backpack.count(search))\n",
        "\n",
        "#list comprehension\n",
        "\n",
        "healthy = ['kale chips', 'broccoli']\n",
        "\n",
        "healthy_backpack = [item for item in backpack if item in healthy]\n",
        "\n",
        "#iterates over backpack\n",
        "for item in backpack:\n",
        "  if item in healthy:\n",
        "    healthy_backpack.append(item)\n",
        "\n",
        "print(healthy_backpack)"
      ],
      "metadata": {
        "colab": {
          "base_uri": "https://localhost:8080/"
        },
        "id": "7IrRU30z5fYd",
        "outputId": "8431a466-313b-4981-a8f9-b18568674368"
      },
      "execution_count": 19,
      "outputs": [
        {
          "output_type": "stream",
          "name": "stdout",
          "text": [
            "I'm so excited for pizza\n",
            "0\n",
            "3\n",
            "3\n",
            "['kale chips', 'kale chips', 'kale chips', 'kale chips', 'kale chips', 'kale chips']\n"
          ]
        }
      ]
    },
    {
      "cell_type": "code",
      "source": [
        "#LISTS CONTINUED"
      ],
      "metadata": {
        "id": "ykGNqSaU-Rzi"
      },
      "execution_count": null,
      "outputs": []
    },
    {
      "cell_type": "markdown",
      "source": [],
      "metadata": {
        "id": "3jkUoF6C-Ver"
      }
    }
  ]
}