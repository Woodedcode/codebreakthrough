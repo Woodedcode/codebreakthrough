{
  "nbformat": 4,
  "nbformat_minor": 0,
  "metadata": {
    "colab": {
      "provenance": [],
      "authorship_tag": "ABX9TyNzyj7a+odFdKEfRz2uN5iV",
      "include_colab_link": true
    },
    "kernelspec": {
      "name": "python3",
      "display_name": "Python 3"
    },
    "language_info": {
      "name": "python"
    }
  },
  "cells": [
    {
      "cell_type": "markdown",
      "metadata": {
        "id": "view-in-github",
        "colab_type": "text"
      },
      "source": [
        "<a href=\"https://colab.research.google.com/github/Woodedcode/codebreakthrough/blob/main/Python_ZTM_day67ipynb.ipynb\" target=\"_parent\"><img src=\"https://colab.research.google.com/assets/colab-badge.svg\" alt=\"Open In Colab\"/></a>"
      ]
    },
    {
      "cell_type": "markdown",
      "source": [
        "#WHILE LOOPS\n",
        "\n",
        "while condition:\n",
        "  print(something)"
      ],
      "metadata": {
        "id": "bu8WuAUIAP50"
      }
    },
    {
      "cell_type": "code",
      "execution_count": 4,
      "metadata": {
        "colab": {
          "base_uri": "https://localhost:8080/"
        },
        "id": "g0OHbLU1ALVy",
        "outputId": "7653bb74-6a58-469c-ce68-3d20af347929"
      },
      "outputs": [
        {
          "output_type": "stream",
          "name": "stdout",
          "text": [
            "0\n",
            "1\n",
            "2\n",
            "3\n",
            "4\n",
            "5\n",
            "6\n",
            "7\n",
            "8\n",
            "9\n",
            "10\n",
            "11\n",
            "12\n",
            "13\n",
            "14\n",
            "15\n",
            "16\n",
            "17\n",
            "18\n",
            "19\n",
            "20\n",
            "21\n",
            "22\n",
            "23\n",
            "24\n",
            "25\n",
            "26\n",
            "27\n",
            "28\n",
            "29\n",
            "30\n",
            "31\n",
            "32\n",
            "33\n",
            "34\n",
            "35\n",
            "36\n",
            "37\n",
            "38\n",
            "39\n",
            "40\n",
            "41\n",
            "42\n",
            "43\n",
            "44\n",
            "45\n",
            "46\n",
            "47\n",
            "48\n",
            "49\n",
            "done with all the work\n"
          ]
        }
      ],
      "source": [
        "i = 0\n",
        "\n",
        "#while i < 50:\n",
        "  #print(i)\n",
        "  #i += 1\n",
        "\n",
        "  #you can also add 'else' blocks\n",
        "\n",
        "while i < 50:\n",
        "  print(i)\n",
        "  i += 1\n",
        "else:\n",
        "  print('done with all the work')\n",
        "\n",
        "#else is a special case. will only execute if there isnt a break. you will see eslse is used as a gotchya if there isnt a break statement\n"
      ]
    },
    {
      "cell_type": "markdown",
      "source": [
        "#WHILE LOOPS 2"
      ],
      "metadata": {
        "id": "0jx9ZL9DDZ8_"
      }
    },
    {
      "cell_type": "code",
      "source": [
        "while i < 50:\n",
        "  print(i)\n",
        "  i += 1\n",
        "else:\n",
        "  print('done with all the work')\n",
        "\n",
        "  #EX\n",
        "\n",
        "  for item in [1,2,3]:\n",
        "    print(item)\n",
        "\n",
        "i = 0\n",
        "while i < len([1,2,3]):\n",
        "  print(i)\n",
        "  i += 1\n",
        "\n",
        "\n",
        "my_list = [1,2,3]\n",
        "for item in my_list:\n",
        "  print(item)\n",
        "\n",
        "i = 0\n",
        "while i< len([1,2,3]):\n",
        "  print(my_list[i])\n",
        "  i += 1\n",
        "\n",
        "#while loop needs something to stop the loop from going\n",
        "#simple loops or iterating over iterable objects, for looks are great.\n",
        "\n",
        "\n",
        "\n",
        "#while True:\n",
        "  #input('say something)\n",
        "  #break\n",
        "\n",
        "\n",
        "while True:\n",
        "  response = input('say something: ')\n",
        "  if (response == 'bye'):\n",
        "    break"
      ],
      "metadata": {
        "colab": {
          "base_uri": "https://localhost:8080/"
        },
        "id": "2i_j4eznDcf6",
        "outputId": "4eeb8723-1779-4d3f-b06e-c0fbe2d43a55"
      },
      "execution_count": 13,
      "outputs": [
        {
          "name": "stdout",
          "output_type": "stream",
          "text": [
            "3\n",
            "4\n",
            "5\n",
            "6\n",
            "7\n",
            "8\n",
            "9\n",
            "10\n",
            "11\n",
            "12\n",
            "13\n",
            "14\n",
            "15\n",
            "16\n",
            "17\n",
            "18\n",
            "19\n",
            "20\n",
            "21\n",
            "22\n",
            "23\n",
            "24\n",
            "25\n",
            "26\n",
            "27\n",
            "28\n",
            "29\n",
            "30\n",
            "31\n",
            "32\n",
            "33\n",
            "34\n",
            "35\n",
            "36\n",
            "37\n",
            "38\n",
            "39\n",
            "40\n",
            "41\n",
            "42\n",
            "43\n",
            "44\n",
            "45\n",
            "46\n",
            "47\n",
            "48\n",
            "49\n",
            "done with all the work\n",
            "1\n",
            "2\n",
            "3\n",
            "0\n",
            "1\n",
            "2\n",
            "1\n",
            "2\n",
            "3\n",
            "1\n",
            "2\n",
            "3\n",
            "say something: hi\n",
            "say something: hi\n",
            "say something: h\n",
            "say something: io\n",
            "say something: bye\n"
          ]
        }
      ]
    },
    {
      "cell_type": "markdown",
      "source": [
        "#BREAK, CONTINUE, PASS\n",
        "\n",
        "\n",
        "**break** - works in *for* and *while* loops\n",
        "breaks out of the current and enclosing loop\n",
        "**continue** - works in *for* and *while* loops\n",
        "tell the code to continue on. just goes to the very begging till it ends\n",
        "**pass** - works in *for* and *while* loops\n",
        "npot very useful. passes the code along for tests"
      ],
      "metadata": {
        "id": "YhTpTLRBGN96"
      }
    },
    {
      "cell_type": "code",
      "source": [
        "#break\n",
        "#continue\n",
        "#pass"
      ],
      "metadata": {
        "id": "xgweD4fiEAJG"
      },
      "execution_count": null,
      "outputs": []
    },
    {
      "cell_type": "markdown",
      "source": [
        "#OUR FIRST GUI"
      ],
      "metadata": {
        "id": "CFnNpQU2IVhj"
      }
    },
    {
      "cell_type": "code",
      "source": [
        "picture = [\n",
        "    [0,0,0,1,0,0,0],\n",
        "    [0,0,1,1,1,0,0],\n",
        "    [0,1,1,1,1,1,0],\n",
        "    [1,1,1,1,1,1,1],\n",
        "    [0,0,0,1,0,0,0],\n",
        "    [0,0,0,1,0,0,0]\n",
        "]\n",
        "\n",
        "# iterate over picture.\n",
        "# if 0 -> print ' '\n",
        "# if 1 -> print  *\n",
        "for row in picture:\n",
        "  for pixel in row:\n",
        "    if pixel == 1:\n",
        "      print('*', end='')\n",
        "    else:\n",
        "      print(' ', end='')\n",
        "  print(' ')\n",
        "\n",
        "\n"
      ],
      "metadata": {
        "colab": {
          "base_uri": "https://localhost:8080/"
        },
        "id": "oTlnRE6vIZ9L",
        "outputId": "94d2c8cc-8550-4ec1-9dee-f8479344634e"
      },
      "execution_count": 18,
      "outputs": [
        {
          "output_type": "stream",
          "name": "stdout",
          "text": [
            "   *    \n",
            "  ***   \n",
            " *****  \n",
            "******* \n",
            "   *    \n",
            "   *    \n"
          ]
        }
      ]
    },
    {
      "cell_type": "markdown",
      "source": [
        "#DEVELOPER FUNDAMENTALS: IV"
      ],
      "metadata": {
        "id": "bdWolUG0LzrK"
      }
    },
    {
      "cell_type": "code",
      "source": [
        "#What is good code?\n",
        "\n",
        "#clean\n",
        "  #use auto format\n",
        "#readability\n",
        "  #use comments if needed\n",
        "#predictability\n",
        "  #have code that makes sense\n",
        "#DRY\n",
        "  #do not repeat yourself\n",
        "\n",
        "\n",
        "\n",
        "for row in picture:\n",
        "  for pixel in row:\n",
        "    if pixel:\n",
        "      print('*', end='')\n",
        "    else:\n",
        "      print(' ', end='')\n",
        "  print(' ')\n",
        "\n",
        "\n",
        "fill = '$'\n",
        "empty = ''\n",
        "for row in picture:\n",
        "  for pixel in row:\n",
        "    if (pixel):\n",
        "      print(fill, end='')\n",
        "      print(fill, end='')\n",
        "      print(fill, end='')\n",
        "    else:\n",
        "      print(empty, end='')\n",
        "  print(' ')\n"
      ],
      "metadata": {
        "colab": {
          "base_uri": "https://localhost:8080/"
        },
        "id": "WDbl4jMVMJPO",
        "outputId": "7f27fc7c-6e05-4796-db57-1154a20cb217"
      },
      "execution_count": 23,
      "outputs": [
        {
          "output_type": "stream",
          "name": "stdout",
          "text": [
            "   *    \n",
            "  ***   \n",
            " *****  \n",
            "******* \n",
            "   *    \n",
            "   *    \n",
            "$$$ \n",
            "$$$$$$$$$ \n",
            "$$$$$$$$$$$$$$$ \n",
            "$$$$$$$$$$$$$$$$$$$$$ \n",
            "$$$ \n",
            "$$$ \n"
          ]
        }
      ]
    },
    {
      "cell_type": "markdown",
      "source": [
        "#EXERCISE: FIND DUPLICATES"
      ],
      "metadata": {
        "id": "WqdensaNPI9X"
      }
    },
    {
      "cell_type": "code",
      "source": [
        "#Exercise: check for duplicatest in list.\n",
        "some_list = ['a','b','c','b','d','m','n','n']\n",
        "\n",
        "duplicates = []\n",
        "\n",
        "for value in some_list:\n",
        "  if some_list.count(value) > 1:\n",
        "    if value not in duplicates:\n",
        "      duplicates.append(value)\n",
        "\n",
        "print(duplicates)"
      ],
      "metadata": {
        "colab": {
          "base_uri": "https://localhost:8080/"
        },
        "id": "TXxJF_IpPP-U",
        "outputId": "70879e1a-3b8d-434c-f761-0730ac12cb9f"
      },
      "execution_count": 26,
      "outputs": [
        {
          "output_type": "stream",
          "name": "stdout",
          "text": [
            "['b', 'n']\n"
          ]
        }
      ]
    },
    {
      "cell_type": "markdown",
      "source": [
        "#FUNCTIONS"
      ],
      "metadata": {
        "id": "htNet9pzQi01"
      }
    },
    {
      "cell_type": "code",
      "source": [
        "#define a function\n",
        "#DRY\n",
        "def say_hello():\n",
        "  print('hello')\n",
        "\n",
        "say_hello()\n",
        "\n",
        "def show_tree():\n",
        "  for image in picture:\n",
        "    for pixel in image:\n",
        "      if pixel == 1:\n",
        "        print('*', end='')\n",
        "      else:\n",
        "        print(' ', end='')\n",
        "    print(' ')\n",
        "\n",
        "show_tree()\n",
        "show_tree()\n",
        "show_tree()\n",
        "print(show_tree())"
      ],
      "metadata": {
        "colab": {
          "base_uri": "https://localhost:8080/"
        },
        "id": "2A7Y_rhmQlO0",
        "outputId": "54249d6d-c801-4052-997e-f01820812490"
      },
      "execution_count": 32,
      "outputs": [
        {
          "output_type": "stream",
          "name": "stdout",
          "text": [
            "hello\n",
            "   *    \n",
            "  ***   \n",
            " *****  \n",
            "******* \n",
            "   *    \n",
            "   *    \n",
            "   *    \n",
            "  ***   \n",
            " *****  \n",
            "******* \n",
            "   *    \n",
            "   *    \n",
            "   *    \n",
            "  ***   \n",
            " *****  \n",
            "******* \n",
            "   *    \n",
            "   *    \n",
            "   *    \n",
            "  ***   \n",
            " *****  \n",
            "******* \n",
            "   *    \n",
            "   *    \n",
            "None\n"
          ]
        }
      ]
    },
    {
      "cell_type": "markdown",
      "source": [
        "#PARAMETERS AND ARGUMENTS"
      ],
      "metadata": {
        "id": "K9hq1uKHSyk2"
      }
    },
    {
      "cell_type": "code",
      "source": [
        "#parameters\n",
        "def say_hello(name,emoji):\n",
        "  print(f'hello {name} {emoji}')\n",
        "\n",
        "#arguments\n",
        "say_hello('Ryan','😀') # call or invoke\n",
        "say_hello('Annie','😀')\n",
        "say_hello('Olive','😀')"
      ],
      "metadata": {
        "colab": {
          "base_uri": "https://localhost:8080/"
        },
        "id": "62nZcbC8S1ad",
        "outputId": "354db1a8-6672-4ab0-a284-ffb34afcf714"
      },
      "execution_count": 36,
      "outputs": [
        {
          "output_type": "stream",
          "name": "stdout",
          "text": [
            "hello Ryan 😀\n",
            "hello Annie 😀\n",
            "hello Olive 😀\n"
          ]
        }
      ]
    },
    {
      "cell_type": "markdown",
      "source": [
        "#DEFAULT PARAMETERS AND KEYWORD ARGUMENTS"
      ],
      "metadata": {
        "id": "wuO1qoQ8UKkt"
      }
    },
    {
      "cell_type": "code",
      "source": [
        "# positional parameters\n",
        "# default parameters\n",
        "def say_hello(name,emoji):\n",
        "  print(f'hello {name} {emoji}')\n",
        "\n",
        "# positional arguments\n",
        "say_hello('Ryan','😀') # call or invoke\n",
        "say_hello('Annie','😀')\n",
        "say_hello('Olive','😀')\n",
        "\n",
        "# keyword arguments\n",
        "#say_hello(emoji='😀', name='Annie')\n",
        "\n",
        "\n",
        "# default parameters\n",
        "def say_hello(name='Darth Vader',emoji='😀'):\n",
        "  print(f'hello {name} {emoji}')\n",
        "\n",
        "say_hello('Johnny')"
      ],
      "metadata": {
        "colab": {
          "base_uri": "https://localhost:8080/"
        },
        "id": "jzWl13DCUPz3",
        "outputId": "d3b26627-dde1-4c1c-ca28-532e33677c94"
      },
      "execution_count": 43,
      "outputs": [
        {
          "output_type": "stream",
          "name": "stdout",
          "text": [
            "hello Ryan 😀\n",
            "hello Annie 😀\n",
            "hello Olive 😀\n",
            "hello Johnny 😀\n"
          ]
        }
      ]
    },
    {
      "cell_type": "markdown",
      "source": [
        "#RETURN"
      ],
      "metadata": {
        "id": "RCDYx5lkXrhF"
      }
    },
    {
      "cell_type": "code",
      "source": [
        "#return\n",
        "\n",
        "def sum(num1, num2):\n",
        "  num1 + num2\n",
        "\n",
        "\n",
        "print(sum(4,5))\n",
        "\n",
        "#clears the list- modifyis the existing list\n",
        "[1,2,3].clear()\n",
        "\n",
        "\n",
        "\n",
        "def sum(num1, num2):\n",
        "  return num1 + num2\n",
        "\n",
        "print(sum(4,5))\n",
        "print(sum(10,5))\n",
        "\n",
        "# a function should do one thing\n",
        "# Should return something\n",
        "\n",
        "total = sum(15,5)\n",
        "print(sum(10,total))\n",
        "print(sum(10,sum(10,5)))\n",
        "\n",
        "\n",
        "def sum(num1, num2):\n",
        "  def another_func(num1, num2):\n",
        "    return num1 + num2\n",
        "  return another_func(num1, num2)\n",
        "\n",
        "total = sum(10,20)\n",
        "print(total(10,20))\n"
      ],
      "metadata": {
        "colab": {
          "base_uri": "https://localhost:8080/"
        },
        "id": "OKL0FPtTXtD_",
        "outputId": "15b54805-e831-43af-d69a-133dfad0e76e"
      },
      "execution_count": 53,
      "outputs": [
        {
          "output_type": "stream",
          "name": "stdout",
          "text": [
            "None\n",
            "9\n",
            "15\n",
            "30\n",
            "25\n",
            "30\n"
          ]
        }
      ]
    }
  ]
}